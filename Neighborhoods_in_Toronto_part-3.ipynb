{
 "cells": [
  {
   "cell_type": "markdown",
   "metadata": {},
   "source": [
    "# Neighborhoods in Toronto -- part-3"
   ]
  },
  {
   "cell_type": "code",
   "execution_count": 2,
   "metadata": {},
   "outputs": [],
   "source": [
    "import numpy as np\n",
    "import pandas as pd\n",
    "from bs4 import BeautifulSoup\n",
    "import requests\n",
    "import re\n",
    "\n",
    "from geopy.geocoders import Nominatim # convert an address into latitude and longitude values\n",
    "import matplotlib.cm as cm\n",
    "import matplotlib.colors as colors\n",
    "\n",
    "# import k-means from clustering stage\n",
    "from sklearn.cluster import KMeans\n",
    "\n",
    "#!conda install -c conda-forge folium=0.5.0 --yes # uncomment this line if you haven't completed the Foursquare API lab\n",
    "import folium # map rendering library"
   ]
  },
  {
   "cell_type": "markdown",
   "metadata": {},
   "source": [
    "## create the dataframe"
   ]
  },
  {
   "cell_type": "markdown",
   "metadata": {},
   "source": [
    "Use beautifulsoup to do it, and then store the data into 3 lisis, finally use pandas to create the dataframe.\n",
    "\n",
    "**In this part I use the re library to handle the data**"
   ]
  },
  {
   "cell_type": "code",
   "execution_count": 3,
   "metadata": {},
   "outputs": [],
   "source": [
    "#I copied the code and pasted it into a local text named canada.html\n",
    "soup=BeautifulSoup(open('canada.html'),features='html.parser')"
   ]
  },
  {
   "cell_type": "code",
   "execution_count": 4,
   "metadata": {},
   "outputs": [],
   "source": [
    "#create 3 list\n",
    "PostalCode=[]\n",
    "Borough=[]\n",
    "Neighborhood=[]\n"
   ]
  },
  {
   "cell_type": "code",
   "execution_count": 5,
   "metadata": {},
   "outputs": [],
   "source": [
    "for items in soup.find('table').find_all('tr'): # item是一行\n",
    "    item=items.find_all('td')\n",
    "    for i in range(len(item)):  #遍历一行的元素\n",
    "        ##print(item[i].text) #处理每一行第一个元素\n",
    "        stritem=(str(item[i].text))[1:-1]  #把第一个空格去掉\n",
    "        PostalCode.append(stritem[0:3])                ##这个是（1）str\n",
    "        strre=stritem[3:-1] # 去掉前三个元素\n",
    "        #print(strre)\n",
    "        if strre=='Not assigned':\n",
    "            Borough.append('Not assigned')\n",
    "            Neighborhood.append('Not assigned')\n",
    "        else:\n",
    "            try:                                   #使用try防止有不带括号的\n",
    "                res=re.compile(r'(.*?)[(]', re.S)\n",
    "                A=(re.findall(res,strre))[0]  #A是Borough(2)str\n",
    "                Borough.append(A)\n",
    "                res2=re.compile(r'[()](.*?)[)]', re.S)\n",
    "                B=(re.findall(res2,strre))[0]  #B是Neibor (3)str\n",
    "                B=B.replace(' / ',',')   #将B转换为，分割\n",
    "                Neighborhood.append(B)\n",
    "            except IndexError: #无neibor\n",
    "                A=strre\n",
    "                Borough.append(A)\n",
    "                B=A\n",
    "                Neighborhood.append(B)\n"
   ]
  },
  {
   "cell_type": "code",
   "execution_count": 6,
   "metadata": {},
   "outputs": [
    {
     "data": {
      "text/html": [
       "<div>\n",
       "<style scoped>\n",
       "    .dataframe tbody tr th:only-of-type {\n",
       "        vertical-align: middle;\n",
       "    }\n",
       "\n",
       "    .dataframe tbody tr th {\n",
       "        vertical-align: top;\n",
       "    }\n",
       "\n",
       "    .dataframe thead th {\n",
       "        text-align: right;\n",
       "    }\n",
       "</style>\n",
       "<table border=\"1\" class=\"dataframe\">\n",
       "  <thead>\n",
       "    <tr style=\"text-align: right;\">\n",
       "      <th></th>\n",
       "      <th>PostalCode</th>\n",
       "      <th>Borough</th>\n",
       "      <th>Neighborhood</th>\n",
       "    </tr>\n",
       "  </thead>\n",
       "  <tbody>\n",
       "    <tr>\n",
       "      <td>0</td>\n",
       "      <td>M1A</td>\n",
       "      <td>Not assigned</td>\n",
       "      <td>Not assigned</td>\n",
       "    </tr>\n",
       "    <tr>\n",
       "      <td>1</td>\n",
       "      <td>M2A</td>\n",
       "      <td>Not assigned</td>\n",
       "      <td>Not assigned</td>\n",
       "    </tr>\n",
       "    <tr>\n",
       "      <td>2</td>\n",
       "      <td>M3A</td>\n",
       "      <td>North York</td>\n",
       "      <td>Parkwoods</td>\n",
       "    </tr>\n",
       "    <tr>\n",
       "      <td>3</td>\n",
       "      <td>M4A</td>\n",
       "      <td>North York</td>\n",
       "      <td>Victoria Village</td>\n",
       "    </tr>\n",
       "    <tr>\n",
       "      <td>4</td>\n",
       "      <td>M5A</td>\n",
       "      <td>Downtown Toronto</td>\n",
       "      <td>Regent Park,Harbourfront</td>\n",
       "    </tr>\n",
       "  </tbody>\n",
       "</table>\n",
       "</div>"
      ],
      "text/plain": [
       "  PostalCode           Borough              Neighborhood\n",
       "0        M1A      Not assigned              Not assigned\n",
       "1        M2A      Not assigned              Not assigned\n",
       "2        M3A        North York                 Parkwoods\n",
       "3        M4A        North York          Victoria Village\n",
       "4        M5A  Downtown Toronto  Regent Park,Harbourfront"
      ]
     },
     "execution_count": 6,
     "metadata": {},
     "output_type": "execute_result"
    }
   ],
   "source": [
    "df=pd.DataFrame({'PostalCode':PostalCode,'Borough':Borough,'Neighborhood':Neighborhood})\n",
    "df.head()"
   ]
  },
  {
   "cell_type": "markdown",
   "metadata": {},
   "source": [
    "## Drop the rows with \"Not assigned\" Borough"
   ]
  },
  {
   "cell_type": "code",
   "execution_count": 7,
   "metadata": {},
   "outputs": [
    {
     "data": {
      "text/html": [
       "<div>\n",
       "<style scoped>\n",
       "    .dataframe tbody tr th:only-of-type {\n",
       "        vertical-align: middle;\n",
       "    }\n",
       "\n",
       "    .dataframe tbody tr th {\n",
       "        vertical-align: top;\n",
       "    }\n",
       "\n",
       "    .dataframe thead th {\n",
       "        text-align: right;\n",
       "    }\n",
       "</style>\n",
       "<table border=\"1\" class=\"dataframe\">\n",
       "  <thead>\n",
       "    <tr style=\"text-align: right;\">\n",
       "      <th></th>\n",
       "      <th>PostalCode</th>\n",
       "      <th>Borough</th>\n",
       "      <th>Neighborhood</th>\n",
       "    </tr>\n",
       "  </thead>\n",
       "  <tbody>\n",
       "    <tr>\n",
       "      <td>2</td>\n",
       "      <td>M3A</td>\n",
       "      <td>North York</td>\n",
       "      <td>Parkwoods</td>\n",
       "    </tr>\n",
       "    <tr>\n",
       "      <td>3</td>\n",
       "      <td>M4A</td>\n",
       "      <td>North York</td>\n",
       "      <td>Victoria Village</td>\n",
       "    </tr>\n",
       "    <tr>\n",
       "      <td>4</td>\n",
       "      <td>M5A</td>\n",
       "      <td>Downtown Toronto</td>\n",
       "      <td>Regent Park,Harbourfront</td>\n",
       "    </tr>\n",
       "    <tr>\n",
       "      <td>5</td>\n",
       "      <td>M6A</td>\n",
       "      <td>North York</td>\n",
       "      <td>Lawrence Manor,Lawrence Heights</td>\n",
       "    </tr>\n",
       "    <tr>\n",
       "      <td>6</td>\n",
       "      <td>M7A</td>\n",
       "      <td>Queen's Park / Ontario Provincial Government</td>\n",
       "      <td>Queen's Park / Ontario Provincial Government</td>\n",
       "    </tr>\n",
       "  </tbody>\n",
       "</table>\n",
       "</div>"
      ],
      "text/plain": [
       "  PostalCode                                       Borough  \\\n",
       "2        M3A                                    North York   \n",
       "3        M4A                                    North York   \n",
       "4        M5A                              Downtown Toronto   \n",
       "5        M6A                                    North York   \n",
       "6        M7A  Queen's Park / Ontario Provincial Government   \n",
       "\n",
       "                                   Neighborhood  \n",
       "2                                     Parkwoods  \n",
       "3                              Victoria Village  \n",
       "4                      Regent Park,Harbourfront  \n",
       "5               Lawrence Manor,Lawrence Heights  \n",
       "6  Queen's Park / Ontario Provincial Government  "
      ]
     },
     "execution_count": 7,
     "metadata": {},
     "output_type": "execute_result"
    }
   ],
   "source": [
    "df=df[df['Borough']!='Not assigned']\n",
    "df.head()"
   ]
  },
  {
   "cell_type": "code",
   "execution_count": 8,
   "metadata": {},
   "outputs": [
    {
     "data": {
      "text/plain": [
       "(103, 3)"
      ]
     },
     "execution_count": 8,
     "metadata": {},
     "output_type": "execute_result"
    }
   ],
   "source": [
    "df.shape"
   ]
  },
  {
   "cell_type": "markdown",
   "metadata": {},
   "source": [
    "**we can select the columns as we saw in the homework sample**"
   ]
  },
  {
   "cell_type": "code",
   "execution_count": 9,
   "metadata": {},
   "outputs": [
    {
     "data": {
      "text/html": [
       "<div>\n",
       "<style scoped>\n",
       "    .dataframe tbody tr th:only-of-type {\n",
       "        vertical-align: middle;\n",
       "    }\n",
       "\n",
       "    .dataframe tbody tr th {\n",
       "        vertical-align: top;\n",
       "    }\n",
       "\n",
       "    .dataframe thead th {\n",
       "        text-align: right;\n",
       "    }\n",
       "</style>\n",
       "<table border=\"1\" class=\"dataframe\">\n",
       "  <thead>\n",
       "    <tr style=\"text-align: right;\">\n",
       "      <th></th>\n",
       "      <th>PostalCode</th>\n",
       "      <th>Borough</th>\n",
       "      <th>Neighborhood</th>\n",
       "    </tr>\n",
       "  </thead>\n",
       "  <tbody>\n",
       "    <tr>\n",
       "      <td>0</td>\n",
       "      <td>M5G</td>\n",
       "      <td>Downtown Toronto</td>\n",
       "      <td>Central Bay Street</td>\n",
       "    </tr>\n",
       "    <tr>\n",
       "      <td>1</td>\n",
       "      <td>M2H</td>\n",
       "      <td>North York</td>\n",
       "      <td>Hillcrest Village</td>\n",
       "    </tr>\n",
       "    <tr>\n",
       "      <td>2</td>\n",
       "      <td>M4B</td>\n",
       "      <td>East York</td>\n",
       "      <td>Parkview Hill,Woodbine Gardens</td>\n",
       "    </tr>\n",
       "    <tr>\n",
       "      <td>3</td>\n",
       "      <td>M1J</td>\n",
       "      <td>Scarborough</td>\n",
       "      <td>Scarborough Village</td>\n",
       "    </tr>\n",
       "    <tr>\n",
       "      <td>4</td>\n",
       "      <td>M4G</td>\n",
       "      <td>East York</td>\n",
       "      <td>Leaside</td>\n",
       "    </tr>\n",
       "    <tr>\n",
       "      <td>5</td>\n",
       "      <td>M4M</td>\n",
       "      <td>East Toronto</td>\n",
       "      <td>Studio District</td>\n",
       "    </tr>\n",
       "    <tr>\n",
       "      <td>6</td>\n",
       "      <td>M1R</td>\n",
       "      <td>Scarborough</td>\n",
       "      <td>Wexford,Maryvale</td>\n",
       "    </tr>\n",
       "    <tr>\n",
       "      <td>7</td>\n",
       "      <td>M9V</td>\n",
       "      <td>Etobicoke</td>\n",
       "      <td>South Steeles,Silverstone,Humbergate,Jamestown...</td>\n",
       "    </tr>\n",
       "    <tr>\n",
       "      <td>8</td>\n",
       "      <td>M9L</td>\n",
       "      <td>North York</td>\n",
       "      <td>Humber Summit</td>\n",
       "    </tr>\n",
       "    <tr>\n",
       "      <td>9</td>\n",
       "      <td>M5V</td>\n",
       "      <td>Downtown Toronto</td>\n",
       "      <td>CN Tower,King and Spadina,Railway Lands,Harbou...</td>\n",
       "    </tr>\n",
       "    <tr>\n",
       "      <td>10</td>\n",
       "      <td>M1B</td>\n",
       "      <td>Scarborough</td>\n",
       "      <td>Malvern,Rouge</td>\n",
       "    </tr>\n",
       "    <tr>\n",
       "      <td>11</td>\n",
       "      <td>M5A</td>\n",
       "      <td>Downtown Toronto</td>\n",
       "      <td>Regent Park,Harbourfront</td>\n",
       "    </tr>\n",
       "  </tbody>\n",
       "</table>\n",
       "</div>"
      ],
      "text/plain": [
       "   PostalCode           Borough  \\\n",
       "0         M5G  Downtown Toronto   \n",
       "1         M2H        North York   \n",
       "2         M4B         East York   \n",
       "3         M1J       Scarborough   \n",
       "4         M4G         East York   \n",
       "5         M4M      East Toronto   \n",
       "6         M1R       Scarborough   \n",
       "7         M9V         Etobicoke   \n",
       "8         M9L        North York   \n",
       "9         M5V  Downtown Toronto   \n",
       "10        M1B       Scarborough   \n",
       "11        M5A  Downtown Toronto   \n",
       "\n",
       "                                         Neighborhood  \n",
       "0                                  Central Bay Street  \n",
       "1                                   Hillcrest Village  \n",
       "2                      Parkview Hill,Woodbine Gardens  \n",
       "3                                 Scarborough Village  \n",
       "4                                             Leaside  \n",
       "5                                     Studio District  \n",
       "6                                    Wexford,Maryvale  \n",
       "7   South Steeles,Silverstone,Humbergate,Jamestown...  \n",
       "8                                       Humber Summit  \n",
       "9   CN Tower,King and Spadina,Railway Lands,Harbou...  \n",
       "10                                      Malvern,Rouge  \n",
       "11                           Regent Park,Harbourfront  "
      ]
     },
     "execution_count": 9,
     "metadata": {},
     "output_type": "execute_result"
    }
   ],
   "source": [
    "column_names = [\"PostalCode\", \"Borough\", \"Neighborhood\"]\n",
    "dft = pd.DataFrame(columns=column_names)\n",
    "\n",
    "post_list = [\"M5G\", \"M2H\", \"M4B\", \"M1J\", \"M4G\", \"M4M\", \"M1R\", \"M9V\", \"M9L\", \"M5V\", \"M1B\", \"M5A\"]\n",
    "\n",
    "for postcode in post_list:\n",
    "    dft = dft.append(df[df[\"PostalCode\"]==postcode], ignore_index=True)\n",
    "dft"
   ]
  },
  {
   "cell_type": "markdown",
   "metadata": {},
   "source": [
    "## part 2 begin>>"
   ]
  },
  {
   "cell_type": "markdown",
   "metadata": {},
   "source": [
    "for the connection reason, I've downloaded the csv document "
   ]
  },
  {
   "cell_type": "code",
   "execution_count": 10,
   "metadata": {},
   "outputs": [],
   "source": [
    "dflocation=pd.read_csv('Geospatial_Coordinates.csv')"
   ]
  },
  {
   "cell_type": "markdown",
   "metadata": {},
   "source": [
    "we can use the loop to make it matched between our 2 dataframes"
   ]
  },
  {
   "cell_type": "code",
   "execution_count": 11,
   "metadata": {},
   "outputs": [],
   "source": [
    "Latitude=[]\n",
    "Longitude=[]\n",
    "\n",
    "for i in range(103):\n",
    "    for j in range(103):\n",
    "        if df.iat[i,0] ==dflocation.iat[j,0]:    #loop to find the match position\n",
    "            Latitude.append(dflocation.iat[j,1])\n",
    "            Longitude.append(dflocation.iat[j,2])"
   ]
  },
  {
   "cell_type": "code",
   "execution_count": 12,
   "metadata": {},
   "outputs": [
    {
     "data": {
      "text/html": [
       "<div>\n",
       "<style scoped>\n",
       "    .dataframe tbody tr th:only-of-type {\n",
       "        vertical-align: middle;\n",
       "    }\n",
       "\n",
       "    .dataframe tbody tr th {\n",
       "        vertical-align: top;\n",
       "    }\n",
       "\n",
       "    .dataframe thead th {\n",
       "        text-align: right;\n",
       "    }\n",
       "</style>\n",
       "<table border=\"1\" class=\"dataframe\">\n",
       "  <thead>\n",
       "    <tr style=\"text-align: right;\">\n",
       "      <th></th>\n",
       "      <th>PostalCode</th>\n",
       "      <th>Borough</th>\n",
       "      <th>Neighborhood</th>\n",
       "      <th>Latitude</th>\n",
       "      <th>Longitude</th>\n",
       "    </tr>\n",
       "  </thead>\n",
       "  <tbody>\n",
       "    <tr>\n",
       "      <td>2</td>\n",
       "      <td>M3A</td>\n",
       "      <td>North York</td>\n",
       "      <td>Parkwoods</td>\n",
       "      <td>43.753259</td>\n",
       "      <td>-79.329656</td>\n",
       "    </tr>\n",
       "    <tr>\n",
       "      <td>3</td>\n",
       "      <td>M4A</td>\n",
       "      <td>North York</td>\n",
       "      <td>Victoria Village</td>\n",
       "      <td>43.725882</td>\n",
       "      <td>-79.315572</td>\n",
       "    </tr>\n",
       "    <tr>\n",
       "      <td>4</td>\n",
       "      <td>M5A</td>\n",
       "      <td>Downtown Toronto</td>\n",
       "      <td>Regent Park,Harbourfront</td>\n",
       "      <td>43.654260</td>\n",
       "      <td>-79.360636</td>\n",
       "    </tr>\n",
       "    <tr>\n",
       "      <td>5</td>\n",
       "      <td>M6A</td>\n",
       "      <td>North York</td>\n",
       "      <td>Lawrence Manor,Lawrence Heights</td>\n",
       "      <td>43.718518</td>\n",
       "      <td>-79.464763</td>\n",
       "    </tr>\n",
       "    <tr>\n",
       "      <td>6</td>\n",
       "      <td>M7A</td>\n",
       "      <td>Queen's Park / Ontario Provincial Government</td>\n",
       "      <td>Queen's Park / Ontario Provincial Government</td>\n",
       "      <td>43.662301</td>\n",
       "      <td>-79.389494</td>\n",
       "    </tr>\n",
       "  </tbody>\n",
       "</table>\n",
       "</div>"
      ],
      "text/plain": [
       "  PostalCode                                       Borough  \\\n",
       "2        M3A                                    North York   \n",
       "3        M4A                                    North York   \n",
       "4        M5A                              Downtown Toronto   \n",
       "5        M6A                                    North York   \n",
       "6        M7A  Queen's Park / Ontario Provincial Government   \n",
       "\n",
       "                                   Neighborhood   Latitude  Longitude  \n",
       "2                                     Parkwoods  43.753259 -79.329656  \n",
       "3                              Victoria Village  43.725882 -79.315572  \n",
       "4                      Regent Park,Harbourfront  43.654260 -79.360636  \n",
       "5               Lawrence Manor,Lawrence Heights  43.718518 -79.464763  \n",
       "6  Queen's Park / Ontario Provincial Government  43.662301 -79.389494  "
      ]
     },
     "execution_count": 12,
     "metadata": {},
     "output_type": "execute_result"
    }
   ],
   "source": [
    "df['Latitude']=Latitude\n",
    "df['Longitude']=Longitude\n",
    "df.head()"
   ]
  },
  {
   "cell_type": "markdown",
   "metadata": {},
   "source": [
    "**since the order is not the same as what we saw in our homework sample, I created a test dataframe to see if the data is right** "
   ]
  },
  {
   "cell_type": "code",
   "execution_count": 13,
   "metadata": {},
   "outputs": [
    {
     "data": {
      "text/html": [
       "<div>\n",
       "<style scoped>\n",
       "    .dataframe tbody tr th:only-of-type {\n",
       "        vertical-align: middle;\n",
       "    }\n",
       "\n",
       "    .dataframe tbody tr th {\n",
       "        vertical-align: top;\n",
       "    }\n",
       "\n",
       "    .dataframe thead th {\n",
       "        text-align: right;\n",
       "    }\n",
       "</style>\n",
       "<table border=\"1\" class=\"dataframe\">\n",
       "  <thead>\n",
       "    <tr style=\"text-align: right;\">\n",
       "      <th></th>\n",
       "      <th>PostalCode</th>\n",
       "      <th>Borough</th>\n",
       "      <th>Neighborhood</th>\n",
       "      <th>Latitude</th>\n",
       "      <th>Longitude</th>\n",
       "    </tr>\n",
       "  </thead>\n",
       "  <tbody>\n",
       "    <tr>\n",
       "      <td>0</td>\n",
       "      <td>M5G</td>\n",
       "      <td>Downtown Toronto</td>\n",
       "      <td>Central Bay Street</td>\n",
       "      <td>43.657952</td>\n",
       "      <td>-79.387383</td>\n",
       "    </tr>\n",
       "    <tr>\n",
       "      <td>1</td>\n",
       "      <td>M2H</td>\n",
       "      <td>North York</td>\n",
       "      <td>Hillcrest Village</td>\n",
       "      <td>43.803762</td>\n",
       "      <td>-79.363452</td>\n",
       "    </tr>\n",
       "    <tr>\n",
       "      <td>2</td>\n",
       "      <td>M4B</td>\n",
       "      <td>East York</td>\n",
       "      <td>Parkview Hill,Woodbine Gardens</td>\n",
       "      <td>43.706397</td>\n",
       "      <td>-79.309937</td>\n",
       "    </tr>\n",
       "    <tr>\n",
       "      <td>3</td>\n",
       "      <td>M1J</td>\n",
       "      <td>Scarborough</td>\n",
       "      <td>Scarborough Village</td>\n",
       "      <td>43.744734</td>\n",
       "      <td>-79.239476</td>\n",
       "    </tr>\n",
       "    <tr>\n",
       "      <td>4</td>\n",
       "      <td>M4G</td>\n",
       "      <td>East York</td>\n",
       "      <td>Leaside</td>\n",
       "      <td>43.709060</td>\n",
       "      <td>-79.363452</td>\n",
       "    </tr>\n",
       "    <tr>\n",
       "      <td>5</td>\n",
       "      <td>M4M</td>\n",
       "      <td>East Toronto</td>\n",
       "      <td>Studio District</td>\n",
       "      <td>43.659526</td>\n",
       "      <td>-79.340923</td>\n",
       "    </tr>\n",
       "    <tr>\n",
       "      <td>6</td>\n",
       "      <td>M1R</td>\n",
       "      <td>Scarborough</td>\n",
       "      <td>Wexford,Maryvale</td>\n",
       "      <td>43.750072</td>\n",
       "      <td>-79.295849</td>\n",
       "    </tr>\n",
       "    <tr>\n",
       "      <td>7</td>\n",
       "      <td>M9V</td>\n",
       "      <td>Etobicoke</td>\n",
       "      <td>South Steeles,Silverstone,Humbergate,Jamestown...</td>\n",
       "      <td>43.739416</td>\n",
       "      <td>-79.588437</td>\n",
       "    </tr>\n",
       "    <tr>\n",
       "      <td>8</td>\n",
       "      <td>M9L</td>\n",
       "      <td>North York</td>\n",
       "      <td>Humber Summit</td>\n",
       "      <td>43.756303</td>\n",
       "      <td>-79.565963</td>\n",
       "    </tr>\n",
       "    <tr>\n",
       "      <td>9</td>\n",
       "      <td>M5V</td>\n",
       "      <td>Downtown Toronto</td>\n",
       "      <td>CN Tower,King and Spadina,Railway Lands,Harbou...</td>\n",
       "      <td>43.628947</td>\n",
       "      <td>-79.394420</td>\n",
       "    </tr>\n",
       "    <tr>\n",
       "      <td>10</td>\n",
       "      <td>M1B</td>\n",
       "      <td>Scarborough</td>\n",
       "      <td>Malvern,Rouge</td>\n",
       "      <td>43.806686</td>\n",
       "      <td>-79.194353</td>\n",
       "    </tr>\n",
       "    <tr>\n",
       "      <td>11</td>\n",
       "      <td>M5A</td>\n",
       "      <td>Downtown Toronto</td>\n",
       "      <td>Regent Park,Harbourfront</td>\n",
       "      <td>43.654260</td>\n",
       "      <td>-79.360636</td>\n",
       "    </tr>\n",
       "  </tbody>\n",
       "</table>\n",
       "</div>"
      ],
      "text/plain": [
       "   PostalCode           Borough  \\\n",
       "0         M5G  Downtown Toronto   \n",
       "1         M2H        North York   \n",
       "2         M4B         East York   \n",
       "3         M1J       Scarborough   \n",
       "4         M4G         East York   \n",
       "5         M4M      East Toronto   \n",
       "6         M1R       Scarborough   \n",
       "7         M9V         Etobicoke   \n",
       "8         M9L        North York   \n",
       "9         M5V  Downtown Toronto   \n",
       "10        M1B       Scarborough   \n",
       "11        M5A  Downtown Toronto   \n",
       "\n",
       "                                         Neighborhood   Latitude  Longitude  \n",
       "0                                  Central Bay Street  43.657952 -79.387383  \n",
       "1                                   Hillcrest Village  43.803762 -79.363452  \n",
       "2                      Parkview Hill,Woodbine Gardens  43.706397 -79.309937  \n",
       "3                                 Scarborough Village  43.744734 -79.239476  \n",
       "4                                             Leaside  43.709060 -79.363452  \n",
       "5                                     Studio District  43.659526 -79.340923  \n",
       "6                                    Wexford,Maryvale  43.750072 -79.295849  \n",
       "7   South Steeles,Silverstone,Humbergate,Jamestown...  43.739416 -79.588437  \n",
       "8                                       Humber Summit  43.756303 -79.565963  \n",
       "9   CN Tower,King and Spadina,Railway Lands,Harbou...  43.628947 -79.394420  \n",
       "10                                      Malvern,Rouge  43.806686 -79.194353  \n",
       "11                           Regent Park,Harbourfront  43.654260 -79.360636  "
      ]
     },
     "execution_count": 13,
     "metadata": {},
     "output_type": "execute_result"
    }
   ],
   "source": [
    "column_names = [\"PostalCode\", \"Borough\", \"Neighborhood\",\"Latitude\",\"Longitude\"]\n",
    "dft = pd.DataFrame(columns=column_names)\n",
    "\n",
    "post_list = [\"M5G\", \"M2H\", \"M4B\", \"M1J\", \"M4G\", \"M4M\", \"M1R\", \"M9V\", \"M9L\", \"M5V\", \"M1B\", \"M5A\"]\n",
    "\n",
    "for postcode in post_list:\n",
    "    dft = dft.append(df[df[\"PostalCode\"]==postcode], ignore_index=True)\n",
    "dft"
   ]
  },
  {
   "cell_type": "markdown",
   "metadata": {},
   "source": [
    "## part 3 begin>>"
   ]
  },
  {
   "cell_type": "code",
   "execution_count": 14,
   "metadata": {},
   "outputs": [
    {
     "name": "stdout",
     "output_type": "stream",
     "text": [
      "The dataframe has 15 boroughs and 103 neighborhoods.\n"
     ]
    }
   ],
   "source": [
    "print('The dataframe has {} boroughs and {} neighborhoods.'.format(\n",
    "        len(df['Borough'].unique()),\n",
    "        df.shape[0]\n",
    "    )\n",
    ")"
   ]
  },
  {
   "cell_type": "markdown",
   "metadata": {},
   "source": [
    "get the location of Toronto"
   ]
  },
  {
   "cell_type": "code",
   "execution_count": 18,
   "metadata": {},
   "outputs": [
    {
     "name": "stdout",
     "output_type": "stream",
     "text": [
      "43.653963...-79.387207\n"
     ]
    }
   ],
   "source": [
    "address = 'Toronto'\n",
    "\n",
    "geolocator = Nominatim(user_agent=\"ny_explorer\")\n",
    "location = geolocator.geocode(address)\n",
    "latitude = location.latitude\n",
    "longitude = location.longitude\n",
    "print(str(latitude)+'...'+str(longitude))"
   ]
  },
  {
   "cell_type": "markdown",
   "metadata": {},
   "source": [
    "### create the map"
   ]
  },
  {
   "cell_type": "code",
   "execution_count": 20,
   "metadata": {},
   "outputs": [
    {
     "data": {
      "text/html": [
       "<div style=\"width:100%;\"><div style=\"position:relative;width:100%;height:0;padding-bottom:60%;\"><iframe src=\"about:blank\" style=\"position:absolute;width:100%;height:100%;left:0;top:0;border:none !important;\" data-html=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 onload=\"this.contentDocument.open();this.contentDocument.write(atob(this.getAttribute('data-html')));this.contentDocument.close();\" allowfullscreen webkitallowfullscreen mozallowfullscreen></iframe></div></div>"
      ],
      "text/plain": [
       "<folium.folium.Map at 0x21759d19be0>"
      ]
     },
     "execution_count": 20,
     "metadata": {},
     "output_type": "execute_result"
    }
   ],
   "source": [
    "# create map of canada Toronto neighbor using latitude and longitude values\n",
    "Toronto_map = folium.Map(location=[latitude, longitude], zoom_start=10)\n",
    "\n",
    "# add markers to map\n",
    "for lat, lng, borough, neighborhood in zip(df['Latitude'], df['Longitude'], df['Borough'], df['Neighborhood']):\n",
    "    label = '{}, {}'.format(neighborhood, borough)\n",
    "    label = folium.Popup(label, parse_html=True)\n",
    "    folium.CircleMarker(\n",
    "        [lat, lng],\n",
    "        radius=5,\n",
    "        popup=label,\n",
    "        color='blue',\n",
    "        fill=True,\n",
    "        fill_color='#3186cc',\n",
    "        fill_opacity=0.7,\n",
    "        parse_html=False).add_to(Toronto_map)  \n",
    "    \n",
    "Toronto_map\n",
    "\n"
   ]
  },
  {
   "cell_type": "markdown",
   "metadata": {},
   "source": [
    "**as we can see, a lot people live in Downtown. So we can observe this area in more detail**"
   ]
  },
  {
   "cell_type": "code",
   "execution_count": 21,
   "metadata": {},
   "outputs": [
    {
     "data": {
      "text/html": [
       "<div>\n",
       "<style scoped>\n",
       "    .dataframe tbody tr th:only-of-type {\n",
       "        vertical-align: middle;\n",
       "    }\n",
       "\n",
       "    .dataframe tbody tr th {\n",
       "        vertical-align: top;\n",
       "    }\n",
       "\n",
       "    .dataframe thead th {\n",
       "        text-align: right;\n",
       "    }\n",
       "</style>\n",
       "<table border=\"1\" class=\"dataframe\">\n",
       "  <thead>\n",
       "    <tr style=\"text-align: right;\">\n",
       "      <th></th>\n",
       "      <th>PostalCode</th>\n",
       "      <th>Borough</th>\n",
       "      <th>Neighborhood</th>\n",
       "      <th>Latitude</th>\n",
       "      <th>Longitude</th>\n",
       "    </tr>\n",
       "  </thead>\n",
       "  <tbody>\n",
       "    <tr>\n",
       "      <td>0</td>\n",
       "      <td>M5A</td>\n",
       "      <td>Downtown Toronto</td>\n",
       "      <td>Regent Park,Harbourfront</td>\n",
       "      <td>43.654260</td>\n",
       "      <td>-79.360636</td>\n",
       "    </tr>\n",
       "    <tr>\n",
       "      <td>1</td>\n",
       "      <td>M5B</td>\n",
       "      <td>Downtown Toronto</td>\n",
       "      <td>Garden District, Ryerson</td>\n",
       "      <td>43.657162</td>\n",
       "      <td>-79.378937</td>\n",
       "    </tr>\n",
       "    <tr>\n",
       "      <td>2</td>\n",
       "      <td>M5C</td>\n",
       "      <td>Downtown Toronto</td>\n",
       "      <td>St. James Town</td>\n",
       "      <td>43.651494</td>\n",
       "      <td>-79.375418</td>\n",
       "    </tr>\n",
       "    <tr>\n",
       "      <td>3</td>\n",
       "      <td>M5E</td>\n",
       "      <td>Downtown Toronto</td>\n",
       "      <td>Berczy Park</td>\n",
       "      <td>43.644771</td>\n",
       "      <td>-79.373306</td>\n",
       "    </tr>\n",
       "    <tr>\n",
       "      <td>4</td>\n",
       "      <td>M5G</td>\n",
       "      <td>Downtown Toronto</td>\n",
       "      <td>Central Bay Street</td>\n",
       "      <td>43.657952</td>\n",
       "      <td>-79.387383</td>\n",
       "    </tr>\n",
       "  </tbody>\n",
       "</table>\n",
       "</div>"
      ],
      "text/plain": [
       "  PostalCode           Borough              Neighborhood   Latitude  Longitude\n",
       "0        M5A  Downtown Toronto  Regent Park,Harbourfront  43.654260 -79.360636\n",
       "1        M5B  Downtown Toronto  Garden District, Ryerson  43.657162 -79.378937\n",
       "2        M5C  Downtown Toronto            St. James Town  43.651494 -79.375418\n",
       "3        M5E  Downtown Toronto               Berczy Park  43.644771 -79.373306\n",
       "4        M5G  Downtown Toronto        Central Bay Street  43.657952 -79.387383"
      ]
     },
     "execution_count": 21,
     "metadata": {},
     "output_type": "execute_result"
    }
   ],
   "source": [
    "Downtown_data = df[df['Borough'] == 'Downtown Toronto'].reset_index(drop=True) #得到一个符合条件的新表\n",
    "Downtown_data.head()"
   ]
  },
  {
   "cell_type": "markdown",
   "metadata": {},
   "source": [
    "Let's get the geographical coordinates of Downtown Toronto"
   ]
  },
  {
   "cell_type": "code",
   "execution_count": 22,
   "metadata": {},
   "outputs": [
    {
     "name": "stdout",
     "output_type": "stream",
     "text": [
      "The geograpical coordinate of Manhattan are 43.6541737, -79.38081164513409.\n"
     ]
    }
   ],
   "source": [
    "address = 'Downtown,Toronto'\n",
    "\n",
    "geolocator = Nominatim(user_agent=\"ny_explorer\")\n",
    "location = geolocator.geocode(address)\n",
    "latitude = location.latitude\n",
    "longitude = location.longitude\n",
    "print('The geograpical coordinate of Manhattan are {}, {}.'.format(latitude, longitude))"
   ]
  },
  {
   "cell_type": "code",
   "execution_count": 23,
   "metadata": {},
   "outputs": [
    {
     "data": {
      "text/html": [
       "<div style=\"width:100%;\"><div style=\"position:relative;width:100%;height:0;padding-bottom:60%;\"><iframe src=\"about:blank\" style=\"position:absolute;width:100%;height:100%;left:0;top:0;border:none !important;\" data-html=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 onload=\"this.contentDocument.open();this.contentDocument.write(atob(this.getAttribute('data-html')));this.contentDocument.close();\" allowfullscreen webkitallowfullscreen mozallowfullscreen></iframe></div></div>"
      ],
      "text/plain": [
       "<folium.folium.Map at 0x21759e65be0>"
      ]
     },
     "execution_count": 23,
     "metadata": {},
     "output_type": "execute_result"
    }
   ],
   "source": [
    "# create map of Downtown Toronto using latitude and longitude values\n",
    "Down_map = folium.Map(location=[latitude, longitude], zoom_start=11)\n",
    "\n",
    "# add markers to map\n",
    "for lat, lng, label in zip(Downtown_data['Latitude'], Downtown_data['Longitude'], Downtown_data['Neighborhood']):\n",
    "    label = folium.Popup(label, parse_html=True)\n",
    "    folium.CircleMarker(\n",
    "        [lat, lng],\n",
    "        radius=5,\n",
    "        popup=label,\n",
    "        color='blue',\n",
    "        fill=True,\n",
    "        fill_color='#3186cc',\n",
    "        fill_opacity=0.7,\n",
    "        parse_html=False).add_to(Down_map)  \n",
    "    \n",
    "Down_map"
   ]
  },
  {
   "cell_type": "markdown",
   "metadata": {},
   "source": [
    "In a nutshell, people are more likely to live in DownTown since there's more shops and something so on and thanks for watching."
   ]
  },
  {
   "cell_type": "code",
   "execution_count": null,
   "metadata": {},
   "outputs": [],
   "source": []
  }
 ],
 "metadata": {
  "kernelspec": {
   "display_name": "Python 3",
   "language": "python",
   "name": "python3"
  },
  "language_info": {
   "codemirror_mode": {
    "name": "ipython",
    "version": 3
   },
   "file_extension": ".py",
   "mimetype": "text/x-python",
   "name": "python",
   "nbconvert_exporter": "python",
   "pygments_lexer": "ipython3",
   "version": "3.6.6"
  }
 },
 "nbformat": 4,
 "nbformat_minor": 2
}
