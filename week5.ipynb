{
 "cells": [
  {
   "cell_type": "markdown",
   "metadata": {},
   "source": [
    "# A Restaurant in Toronto"
   ]
  },
  {
   "cell_type": "code",
   "execution_count": 171,
   "metadata": {},
   "outputs": [],
   "source": [
    "import numpy as np\n",
    "import pandas as pd\n",
    "from bs4 import BeautifulSoup\n",
    "import requests\n",
    "import re\n",
    "from matplotlib import pyplot as py\n",
    "import seaborn as sns\n",
    "from matplotlib import cm\n",
    "\n",
    "from geopy.geocoders import Nominatim # convert an address into latitude and longitude values\n",
    "import matplotlib.cm as cm\n",
    "import matplotlib.colors as colors\n",
    "\n",
    "# import k-means from clustering stage\n",
    "from sklearn.cluster import KMeans\n",
    "\n",
    "#!conda install -c conda-forge folium=0.5.0 --yes # uncomment this line if you haven't completed the Foursquare API lab\n",
    "import folium # map rendering library"
   ]
  },
  {
   "cell_type": "markdown",
   "metadata": {},
   "source": [
    "## create the dataframe"
   ]
  },
  {
   "cell_type": "markdown",
   "metadata": {},
   "source": [
    "Use beautifulsoup to do it, and then store the data into 3 lisis, finally use pandas to create the dataframe.\n",
    "\n",
    "**In this part I use the re library to handle the data**"
   ]
  },
  {
   "cell_type": "code",
   "execution_count": 3,
   "metadata": {},
   "outputs": [],
   "source": [
    "#I copied the code and pasted it into a local text named canada.html\n",
    "soup=BeautifulSoup(open('canada.html'),features='html.parser')"
   ]
  },
  {
   "cell_type": "code",
   "execution_count": 4,
   "metadata": {},
   "outputs": [],
   "source": [
    "#create 3 list\n",
    "PostalCode=[]\n",
    "Borough=[]\n",
    "Neighborhood=[]\n"
   ]
  },
  {
   "cell_type": "code",
   "execution_count": 5,
   "metadata": {},
   "outputs": [],
   "source": [
    "for items in soup.find('table').find_all('tr'): # item是一行\n",
    "    item=items.find_all('td')\n",
    "    for i in range(len(item)):  #遍历一行的元素\n",
    "        ##print(item[i].text) #处理每一行第一个元素\n",
    "        stritem=(str(item[i].text))[1:-1]  #把第一个空格去掉\n",
    "        PostalCode.append(stritem[0:3])                ##这个是（1）str\n",
    "        strre=stritem[3:-1] # 去掉前三个元素\n",
    "        #print(strre)\n",
    "        if strre=='Not assigned':\n",
    "            Borough.append('Not assigned')\n",
    "            Neighborhood.append('Not assigned')\n",
    "        else:\n",
    "            try:                                   #使用try防止有不带括号的\n",
    "                res=re.compile(r'(.*?)[(]', re.S)\n",
    "                A=(re.findall(res,strre))[0]  #A是Borough(2)str\n",
    "                Borough.append(A)\n",
    "                res2=re.compile(r'[()](.*?)[)]', re.S)\n",
    "                B=(re.findall(res2,strre))[0]  #B是Neibor (3)str\n",
    "                B=B.replace(' / ',',')   #将B转换为，分割\n",
    "                Neighborhood.append(B)\n",
    "            except IndexError: #无neibor\n",
    "                A=strre\n",
    "                Borough.append(A)\n",
    "                B=A\n",
    "                Neighborhood.append(B)\n"
   ]
  },
  {
   "cell_type": "code",
   "execution_count": 6,
   "metadata": {},
   "outputs": [
    {
     "data": {
      "text/html": [
       "<div>\n",
       "<style scoped>\n",
       "    .dataframe tbody tr th:only-of-type {\n",
       "        vertical-align: middle;\n",
       "    }\n",
       "\n",
       "    .dataframe tbody tr th {\n",
       "        vertical-align: top;\n",
       "    }\n",
       "\n",
       "    .dataframe thead th {\n",
       "        text-align: right;\n",
       "    }\n",
       "</style>\n",
       "<table border=\"1\" class=\"dataframe\">\n",
       "  <thead>\n",
       "    <tr style=\"text-align: right;\">\n",
       "      <th></th>\n",
       "      <th>PostalCode</th>\n",
       "      <th>Borough</th>\n",
       "      <th>Neighborhood</th>\n",
       "    </tr>\n",
       "  </thead>\n",
       "  <tbody>\n",
       "    <tr>\n",
       "      <td>0</td>\n",
       "      <td>M1A</td>\n",
       "      <td>Not assigned</td>\n",
       "      <td>Not assigned</td>\n",
       "    </tr>\n",
       "    <tr>\n",
       "      <td>1</td>\n",
       "      <td>M2A</td>\n",
       "      <td>Not assigned</td>\n",
       "      <td>Not assigned</td>\n",
       "    </tr>\n",
       "    <tr>\n",
       "      <td>2</td>\n",
       "      <td>M3A</td>\n",
       "      <td>North York</td>\n",
       "      <td>Parkwoods</td>\n",
       "    </tr>\n",
       "    <tr>\n",
       "      <td>3</td>\n",
       "      <td>M4A</td>\n",
       "      <td>North York</td>\n",
       "      <td>Victoria Village</td>\n",
       "    </tr>\n",
       "    <tr>\n",
       "      <td>4</td>\n",
       "      <td>M5A</td>\n",
       "      <td>Downtown Toronto</td>\n",
       "      <td>Regent Park,Harbourfront</td>\n",
       "    </tr>\n",
       "  </tbody>\n",
       "</table>\n",
       "</div>"
      ],
      "text/plain": [
       "  PostalCode           Borough              Neighborhood\n",
       "0        M1A      Not assigned              Not assigned\n",
       "1        M2A      Not assigned              Not assigned\n",
       "2        M3A        North York                 Parkwoods\n",
       "3        M4A        North York          Victoria Village\n",
       "4        M5A  Downtown Toronto  Regent Park,Harbourfront"
      ]
     },
     "execution_count": 6,
     "metadata": {},
     "output_type": "execute_result"
    }
   ],
   "source": [
    "df=pd.DataFrame({'PostalCode':PostalCode,'Borough':Borough,'Neighborhood':Neighborhood})\n",
    "df.head()"
   ]
  },
  {
   "cell_type": "markdown",
   "metadata": {},
   "source": [
    "## Drop the rows with \"Not assigned\" Borough"
   ]
  },
  {
   "cell_type": "code",
   "execution_count": 7,
   "metadata": {},
   "outputs": [
    {
     "data": {
      "text/html": [
       "<div>\n",
       "<style scoped>\n",
       "    .dataframe tbody tr th:only-of-type {\n",
       "        vertical-align: middle;\n",
       "    }\n",
       "\n",
       "    .dataframe tbody tr th {\n",
       "        vertical-align: top;\n",
       "    }\n",
       "\n",
       "    .dataframe thead th {\n",
       "        text-align: right;\n",
       "    }\n",
       "</style>\n",
       "<table border=\"1\" class=\"dataframe\">\n",
       "  <thead>\n",
       "    <tr style=\"text-align: right;\">\n",
       "      <th></th>\n",
       "      <th>PostalCode</th>\n",
       "      <th>Borough</th>\n",
       "      <th>Neighborhood</th>\n",
       "    </tr>\n",
       "  </thead>\n",
       "  <tbody>\n",
       "    <tr>\n",
       "      <td>2</td>\n",
       "      <td>M3A</td>\n",
       "      <td>North York</td>\n",
       "      <td>Parkwoods</td>\n",
       "    </tr>\n",
       "    <tr>\n",
       "      <td>3</td>\n",
       "      <td>M4A</td>\n",
       "      <td>North York</td>\n",
       "      <td>Victoria Village</td>\n",
       "    </tr>\n",
       "    <tr>\n",
       "      <td>4</td>\n",
       "      <td>M5A</td>\n",
       "      <td>Downtown Toronto</td>\n",
       "      <td>Regent Park,Harbourfront</td>\n",
       "    </tr>\n",
       "    <tr>\n",
       "      <td>5</td>\n",
       "      <td>M6A</td>\n",
       "      <td>North York</td>\n",
       "      <td>Lawrence Manor,Lawrence Heights</td>\n",
       "    </tr>\n",
       "    <tr>\n",
       "      <td>6</td>\n",
       "      <td>M7A</td>\n",
       "      <td>Queen's Park / Ontario Provincial Government</td>\n",
       "      <td>Queen's Park / Ontario Provincial Government</td>\n",
       "    </tr>\n",
       "  </tbody>\n",
       "</table>\n",
       "</div>"
      ],
      "text/plain": [
       "  PostalCode                                       Borough  \\\n",
       "2        M3A                                    North York   \n",
       "3        M4A                                    North York   \n",
       "4        M5A                              Downtown Toronto   \n",
       "5        M6A                                    North York   \n",
       "6        M7A  Queen's Park / Ontario Provincial Government   \n",
       "\n",
       "                                   Neighborhood  \n",
       "2                                     Parkwoods  \n",
       "3                              Victoria Village  \n",
       "4                      Regent Park,Harbourfront  \n",
       "5               Lawrence Manor,Lawrence Heights  \n",
       "6  Queen's Park / Ontario Provincial Government  "
      ]
     },
     "execution_count": 7,
     "metadata": {},
     "output_type": "execute_result"
    }
   ],
   "source": [
    "df=df[df['Borough']!='Not assigned']\n",
    "df.head()"
   ]
  },
  {
   "cell_type": "code",
   "execution_count": 8,
   "metadata": {},
   "outputs": [
    {
     "data": {
      "text/plain": [
       "(103, 3)"
      ]
     },
     "execution_count": 8,
     "metadata": {},
     "output_type": "execute_result"
    }
   ],
   "source": [
    "df.shape"
   ]
  },
  {
   "cell_type": "markdown",
   "metadata": {},
   "source": [
    "**we can select the columns as we saw in the homework sample**"
   ]
  },
  {
   "cell_type": "code",
   "execution_count": 9,
   "metadata": {},
   "outputs": [
    {
     "data": {
      "text/html": [
       "<div>\n",
       "<style scoped>\n",
       "    .dataframe tbody tr th:only-of-type {\n",
       "        vertical-align: middle;\n",
       "    }\n",
       "\n",
       "    .dataframe tbody tr th {\n",
       "        vertical-align: top;\n",
       "    }\n",
       "\n",
       "    .dataframe thead th {\n",
       "        text-align: right;\n",
       "    }\n",
       "</style>\n",
       "<table border=\"1\" class=\"dataframe\">\n",
       "  <thead>\n",
       "    <tr style=\"text-align: right;\">\n",
       "      <th></th>\n",
       "      <th>PostalCode</th>\n",
       "      <th>Borough</th>\n",
       "      <th>Neighborhood</th>\n",
       "    </tr>\n",
       "  </thead>\n",
       "  <tbody>\n",
       "    <tr>\n",
       "      <td>0</td>\n",
       "      <td>M5G</td>\n",
       "      <td>Downtown Toronto</td>\n",
       "      <td>Central Bay Street</td>\n",
       "    </tr>\n",
       "    <tr>\n",
       "      <td>1</td>\n",
       "      <td>M2H</td>\n",
       "      <td>North York</td>\n",
       "      <td>Hillcrest Village</td>\n",
       "    </tr>\n",
       "    <tr>\n",
       "      <td>2</td>\n",
       "      <td>M4B</td>\n",
       "      <td>East York</td>\n",
       "      <td>Parkview Hill,Woodbine Gardens</td>\n",
       "    </tr>\n",
       "    <tr>\n",
       "      <td>3</td>\n",
       "      <td>M1J</td>\n",
       "      <td>Scarborough</td>\n",
       "      <td>Scarborough Village</td>\n",
       "    </tr>\n",
       "    <tr>\n",
       "      <td>4</td>\n",
       "      <td>M4G</td>\n",
       "      <td>East York</td>\n",
       "      <td>Leaside</td>\n",
       "    </tr>\n",
       "    <tr>\n",
       "      <td>5</td>\n",
       "      <td>M4M</td>\n",
       "      <td>East Toronto</td>\n",
       "      <td>Studio District</td>\n",
       "    </tr>\n",
       "    <tr>\n",
       "      <td>6</td>\n",
       "      <td>M1R</td>\n",
       "      <td>Scarborough</td>\n",
       "      <td>Wexford,Maryvale</td>\n",
       "    </tr>\n",
       "    <tr>\n",
       "      <td>7</td>\n",
       "      <td>M9V</td>\n",
       "      <td>Etobicoke</td>\n",
       "      <td>South Steeles,Silverstone,Humbergate,Jamestown...</td>\n",
       "    </tr>\n",
       "    <tr>\n",
       "      <td>8</td>\n",
       "      <td>M9L</td>\n",
       "      <td>North York</td>\n",
       "      <td>Humber Summit</td>\n",
       "    </tr>\n",
       "    <tr>\n",
       "      <td>9</td>\n",
       "      <td>M5V</td>\n",
       "      <td>Downtown Toronto</td>\n",
       "      <td>CN Tower,King and Spadina,Railway Lands,Harbou...</td>\n",
       "    </tr>\n",
       "    <tr>\n",
       "      <td>10</td>\n",
       "      <td>M1B</td>\n",
       "      <td>Scarborough</td>\n",
       "      <td>Malvern,Rouge</td>\n",
       "    </tr>\n",
       "    <tr>\n",
       "      <td>11</td>\n",
       "      <td>M5A</td>\n",
       "      <td>Downtown Toronto</td>\n",
       "      <td>Regent Park,Harbourfront</td>\n",
       "    </tr>\n",
       "  </tbody>\n",
       "</table>\n",
       "</div>"
      ],
      "text/plain": [
       "   PostalCode           Borough  \\\n",
       "0         M5G  Downtown Toronto   \n",
       "1         M2H        North York   \n",
       "2         M4B         East York   \n",
       "3         M1J       Scarborough   \n",
       "4         M4G         East York   \n",
       "5         M4M      East Toronto   \n",
       "6         M1R       Scarborough   \n",
       "7         M9V         Etobicoke   \n",
       "8         M9L        North York   \n",
       "9         M5V  Downtown Toronto   \n",
       "10        M1B       Scarborough   \n",
       "11        M5A  Downtown Toronto   \n",
       "\n",
       "                                         Neighborhood  \n",
       "0                                  Central Bay Street  \n",
       "1                                   Hillcrest Village  \n",
       "2                      Parkview Hill,Woodbine Gardens  \n",
       "3                                 Scarborough Village  \n",
       "4                                             Leaside  \n",
       "5                                     Studio District  \n",
       "6                                    Wexford,Maryvale  \n",
       "7   South Steeles,Silverstone,Humbergate,Jamestown...  \n",
       "8                                       Humber Summit  \n",
       "9   CN Tower,King and Spadina,Railway Lands,Harbou...  \n",
       "10                                      Malvern,Rouge  \n",
       "11                           Regent Park,Harbourfront  "
      ]
     },
     "execution_count": 9,
     "metadata": {},
     "output_type": "execute_result"
    }
   ],
   "source": [
    "column_names = [\"PostalCode\", \"Borough\", \"Neighborhood\"]\n",
    "dft = pd.DataFrame(columns=column_names)\n",
    "\n",
    "post_list = [\"M5G\", \"M2H\", \"M4B\", \"M1J\", \"M4G\", \"M4M\", \"M1R\", \"M9V\", \"M9L\", \"M5V\", \"M1B\", \"M5A\"]\n",
    "\n",
    "for postcode in post_list:\n",
    "    dft = dft.append(df[df[\"PostalCode\"]==postcode], ignore_index=True)\n",
    "dft"
   ]
  },
  {
   "cell_type": "markdown",
   "metadata": {},
   "source": [
    "## add the position information"
   ]
  },
  {
   "cell_type": "markdown",
   "metadata": {},
   "source": [
    "for the connection reason, I've downloaded the csv document "
   ]
  },
  {
   "cell_type": "code",
   "execution_count": 10,
   "metadata": {},
   "outputs": [],
   "source": [
    "dflocation=pd.read_csv('Geospatial_Coordinates.csv')"
   ]
  },
  {
   "cell_type": "markdown",
   "metadata": {},
   "source": [
    "we can use the loop to make it matched between our 2 dataframes"
   ]
  },
  {
   "cell_type": "code",
   "execution_count": 11,
   "metadata": {},
   "outputs": [],
   "source": [
    "Latitude=[]\n",
    "Longitude=[]\n",
    "\n",
    "for i in range(103):\n",
    "    for j in range(103):\n",
    "        if df.iat[i,0] ==dflocation.iat[j,0]:    #loop to find the match position\n",
    "            Latitude.append(dflocation.iat[j,1])\n",
    "            Longitude.append(dflocation.iat[j,2])"
   ]
  },
  {
   "cell_type": "code",
   "execution_count": 12,
   "metadata": {},
   "outputs": [
    {
     "data": {
      "text/html": [
       "<div>\n",
       "<style scoped>\n",
       "    .dataframe tbody tr th:only-of-type {\n",
       "        vertical-align: middle;\n",
       "    }\n",
       "\n",
       "    .dataframe tbody tr th {\n",
       "        vertical-align: top;\n",
       "    }\n",
       "\n",
       "    .dataframe thead th {\n",
       "        text-align: right;\n",
       "    }\n",
       "</style>\n",
       "<table border=\"1\" class=\"dataframe\">\n",
       "  <thead>\n",
       "    <tr style=\"text-align: right;\">\n",
       "      <th></th>\n",
       "      <th>PostalCode</th>\n",
       "      <th>Borough</th>\n",
       "      <th>Neighborhood</th>\n",
       "      <th>Latitude</th>\n",
       "      <th>Longitude</th>\n",
       "    </tr>\n",
       "  </thead>\n",
       "  <tbody>\n",
       "    <tr>\n",
       "      <td>2</td>\n",
       "      <td>M3A</td>\n",
       "      <td>North York</td>\n",
       "      <td>Parkwoods</td>\n",
       "      <td>43.753259</td>\n",
       "      <td>-79.329656</td>\n",
       "    </tr>\n",
       "    <tr>\n",
       "      <td>3</td>\n",
       "      <td>M4A</td>\n",
       "      <td>North York</td>\n",
       "      <td>Victoria Village</td>\n",
       "      <td>43.725882</td>\n",
       "      <td>-79.315572</td>\n",
       "    </tr>\n",
       "    <tr>\n",
       "      <td>4</td>\n",
       "      <td>M5A</td>\n",
       "      <td>Downtown Toronto</td>\n",
       "      <td>Regent Park,Harbourfront</td>\n",
       "      <td>43.654260</td>\n",
       "      <td>-79.360636</td>\n",
       "    </tr>\n",
       "    <tr>\n",
       "      <td>5</td>\n",
       "      <td>M6A</td>\n",
       "      <td>North York</td>\n",
       "      <td>Lawrence Manor,Lawrence Heights</td>\n",
       "      <td>43.718518</td>\n",
       "      <td>-79.464763</td>\n",
       "    </tr>\n",
       "    <tr>\n",
       "      <td>6</td>\n",
       "      <td>M7A</td>\n",
       "      <td>Queen's Park / Ontario Provincial Government</td>\n",
       "      <td>Queen's Park / Ontario Provincial Government</td>\n",
       "      <td>43.662301</td>\n",
       "      <td>-79.389494</td>\n",
       "    </tr>\n",
       "  </tbody>\n",
       "</table>\n",
       "</div>"
      ],
      "text/plain": [
       "  PostalCode                                       Borough  \\\n",
       "2        M3A                                    North York   \n",
       "3        M4A                                    North York   \n",
       "4        M5A                              Downtown Toronto   \n",
       "5        M6A                                    North York   \n",
       "6        M7A  Queen's Park / Ontario Provincial Government   \n",
       "\n",
       "                                   Neighborhood   Latitude  Longitude  \n",
       "2                                     Parkwoods  43.753259 -79.329656  \n",
       "3                              Victoria Village  43.725882 -79.315572  \n",
       "4                      Regent Park,Harbourfront  43.654260 -79.360636  \n",
       "5               Lawrence Manor,Lawrence Heights  43.718518 -79.464763  \n",
       "6  Queen's Park / Ontario Provincial Government  43.662301 -79.389494  "
      ]
     },
     "execution_count": 12,
     "metadata": {},
     "output_type": "execute_result"
    }
   ],
   "source": [
    "df['Latitude']=Latitude\n",
    "df['Longitude']=Longitude\n",
    "df.head()"
   ]
  },
  {
   "cell_type": "markdown",
   "metadata": {},
   "source": [
    "**since the order is not the same as what we saw in our homework sample, I created a test dataframe to see if the data is right** "
   ]
  },
  {
   "cell_type": "code",
   "execution_count": 13,
   "metadata": {},
   "outputs": [
    {
     "data": {
      "text/html": [
       "<div>\n",
       "<style scoped>\n",
       "    .dataframe tbody tr th:only-of-type {\n",
       "        vertical-align: middle;\n",
       "    }\n",
       "\n",
       "    .dataframe tbody tr th {\n",
       "        vertical-align: top;\n",
       "    }\n",
       "\n",
       "    .dataframe thead th {\n",
       "        text-align: right;\n",
       "    }\n",
       "</style>\n",
       "<table border=\"1\" class=\"dataframe\">\n",
       "  <thead>\n",
       "    <tr style=\"text-align: right;\">\n",
       "      <th></th>\n",
       "      <th>PostalCode</th>\n",
       "      <th>Borough</th>\n",
       "      <th>Neighborhood</th>\n",
       "      <th>Latitude</th>\n",
       "      <th>Longitude</th>\n",
       "    </tr>\n",
       "  </thead>\n",
       "  <tbody>\n",
       "    <tr>\n",
       "      <td>0</td>\n",
       "      <td>M5G</td>\n",
       "      <td>Downtown Toronto</td>\n",
       "      <td>Central Bay Street</td>\n",
       "      <td>43.657952</td>\n",
       "      <td>-79.387383</td>\n",
       "    </tr>\n",
       "    <tr>\n",
       "      <td>1</td>\n",
       "      <td>M2H</td>\n",
       "      <td>North York</td>\n",
       "      <td>Hillcrest Village</td>\n",
       "      <td>43.803762</td>\n",
       "      <td>-79.363452</td>\n",
       "    </tr>\n",
       "    <tr>\n",
       "      <td>2</td>\n",
       "      <td>M4B</td>\n",
       "      <td>East York</td>\n",
       "      <td>Parkview Hill,Woodbine Gardens</td>\n",
       "      <td>43.706397</td>\n",
       "      <td>-79.309937</td>\n",
       "    </tr>\n",
       "    <tr>\n",
       "      <td>3</td>\n",
       "      <td>M1J</td>\n",
       "      <td>Scarborough</td>\n",
       "      <td>Scarborough Village</td>\n",
       "      <td>43.744734</td>\n",
       "      <td>-79.239476</td>\n",
       "    </tr>\n",
       "    <tr>\n",
       "      <td>4</td>\n",
       "      <td>M4G</td>\n",
       "      <td>East York</td>\n",
       "      <td>Leaside</td>\n",
       "      <td>43.709060</td>\n",
       "      <td>-79.363452</td>\n",
       "    </tr>\n",
       "    <tr>\n",
       "      <td>5</td>\n",
       "      <td>M4M</td>\n",
       "      <td>East Toronto</td>\n",
       "      <td>Studio District</td>\n",
       "      <td>43.659526</td>\n",
       "      <td>-79.340923</td>\n",
       "    </tr>\n",
       "    <tr>\n",
       "      <td>6</td>\n",
       "      <td>M1R</td>\n",
       "      <td>Scarborough</td>\n",
       "      <td>Wexford,Maryvale</td>\n",
       "      <td>43.750072</td>\n",
       "      <td>-79.295849</td>\n",
       "    </tr>\n",
       "    <tr>\n",
       "      <td>7</td>\n",
       "      <td>M9V</td>\n",
       "      <td>Etobicoke</td>\n",
       "      <td>South Steeles,Silverstone,Humbergate,Jamestown...</td>\n",
       "      <td>43.739416</td>\n",
       "      <td>-79.588437</td>\n",
       "    </tr>\n",
       "    <tr>\n",
       "      <td>8</td>\n",
       "      <td>M9L</td>\n",
       "      <td>North York</td>\n",
       "      <td>Humber Summit</td>\n",
       "      <td>43.756303</td>\n",
       "      <td>-79.565963</td>\n",
       "    </tr>\n",
       "    <tr>\n",
       "      <td>9</td>\n",
       "      <td>M5V</td>\n",
       "      <td>Downtown Toronto</td>\n",
       "      <td>CN Tower,King and Spadina,Railway Lands,Harbou...</td>\n",
       "      <td>43.628947</td>\n",
       "      <td>-79.394420</td>\n",
       "    </tr>\n",
       "    <tr>\n",
       "      <td>10</td>\n",
       "      <td>M1B</td>\n",
       "      <td>Scarborough</td>\n",
       "      <td>Malvern,Rouge</td>\n",
       "      <td>43.806686</td>\n",
       "      <td>-79.194353</td>\n",
       "    </tr>\n",
       "    <tr>\n",
       "      <td>11</td>\n",
       "      <td>M5A</td>\n",
       "      <td>Downtown Toronto</td>\n",
       "      <td>Regent Park,Harbourfront</td>\n",
       "      <td>43.654260</td>\n",
       "      <td>-79.360636</td>\n",
       "    </tr>\n",
       "  </tbody>\n",
       "</table>\n",
       "</div>"
      ],
      "text/plain": [
       "   PostalCode           Borough  \\\n",
       "0         M5G  Downtown Toronto   \n",
       "1         M2H        North York   \n",
       "2         M4B         East York   \n",
       "3         M1J       Scarborough   \n",
       "4         M4G         East York   \n",
       "5         M4M      East Toronto   \n",
       "6         M1R       Scarborough   \n",
       "7         M9V         Etobicoke   \n",
       "8         M9L        North York   \n",
       "9         M5V  Downtown Toronto   \n",
       "10        M1B       Scarborough   \n",
       "11        M5A  Downtown Toronto   \n",
       "\n",
       "                                         Neighborhood   Latitude  Longitude  \n",
       "0                                  Central Bay Street  43.657952 -79.387383  \n",
       "1                                   Hillcrest Village  43.803762 -79.363452  \n",
       "2                      Parkview Hill,Woodbine Gardens  43.706397 -79.309937  \n",
       "3                                 Scarborough Village  43.744734 -79.239476  \n",
       "4                                             Leaside  43.709060 -79.363452  \n",
       "5                                     Studio District  43.659526 -79.340923  \n",
       "6                                    Wexford,Maryvale  43.750072 -79.295849  \n",
       "7   South Steeles,Silverstone,Humbergate,Jamestown...  43.739416 -79.588437  \n",
       "8                                       Humber Summit  43.756303 -79.565963  \n",
       "9   CN Tower,King and Spadina,Railway Lands,Harbou...  43.628947 -79.394420  \n",
       "10                                      Malvern,Rouge  43.806686 -79.194353  \n",
       "11                           Regent Park,Harbourfront  43.654260 -79.360636  "
      ]
     },
     "execution_count": 13,
     "metadata": {},
     "output_type": "execute_result"
    }
   ],
   "source": [
    "column_names = [\"PostalCode\", \"Borough\", \"Neighborhood\",\"Latitude\",\"Longitude\"]\n",
    "dft = pd.DataFrame(columns=column_names)\n",
    "\n",
    "post_list = [\"M5G\", \"M2H\", \"M4B\", \"M1J\", \"M4G\", \"M4M\", \"M1R\", \"M9V\", \"M9L\", \"M5V\", \"M1B\", \"M5A\"]\n",
    "\n",
    "for postcode in post_list:\n",
    "    dft = dft.append(df[df[\"PostalCode\"]==postcode], ignore_index=True)\n",
    "dft"
   ]
  },
  {
   "cell_type": "markdown",
   "metadata": {},
   "source": [
    "## map visualization"
   ]
  },
  {
   "cell_type": "code",
   "execution_count": 14,
   "metadata": {},
   "outputs": [
    {
     "name": "stdout",
     "output_type": "stream",
     "text": [
      "The dataframe has 15 boroughs and 103 neighborhoods.\n"
     ]
    }
   ],
   "source": [
    "print('The dataframe has {} boroughs and {} neighborhoods.'.format(\n",
    "        len(df['Borough'].unique()),\n",
    "        df.shape[0]\n",
    "    )\n",
    ")"
   ]
  },
  {
   "cell_type": "markdown",
   "metadata": {},
   "source": [
    "get the location of Toronto"
   ]
  },
  {
   "cell_type": "code",
   "execution_count": 15,
   "metadata": {},
   "outputs": [
    {
     "name": "stderr",
     "output_type": "stream",
     "text": [
      "C:\\Users\\Administrator\\AppData\\Roaming\\Python\\Python36\\site-packages\\ipykernel_launcher.py:7: DeprecationWarning: Using Nominatim with the default \"geopy/1.21.0\" `user_agent` is strongly discouraged, as it violates Nominatim's ToS https://operations.osmfoundation.org/policies/nominatim/ and may possibly cause 403 and 429 HTTP errors. Please specify a custom `user_agent` with `Nominatim(user_agent=\"my-application\")` or by overriding the default `user_agent`: `geopy.geocoders.options.default_user_agent = \"my-application\"`. In geopy 2.0 this will become an exception.\n",
      "  import sys\n"
     ]
    },
    {
     "name": "stdout",
     "output_type": "stream",
     "text": [
      "43.653963...-79.387207\n"
     ]
    }
   ],
   "source": [
    "address = 'Toronto'\n",
    "from geopy.geocoders import Nominatim\n",
    "from geopy.exc import GeocoderTimedOut\n",
    "\n",
    "geolocator = Nominatim(user_agent=\"ny_explorer\")\n",
    "def do_geocode(address):\n",
    "    geopy = Nominatim()\n",
    "    try:\n",
    "        return geolocator.geocode(address)\n",
    "    except GeocoderTimedOut:\n",
    "        return do_geocode(address)\n",
    "location = do_geocode(address)\n",
    "\n",
    "\n",
    "latitude = location.latitude\n",
    "longitude = location.longitude\n",
    "print(str(latitude)+'...'+str(longitude))"
   ]
  },
  {
   "cell_type": "markdown",
   "metadata": {},
   "source": [
    "### create the map"
   ]
  },
  {
   "cell_type": "code",
   "execution_count": 16,
   "metadata": {},
   "outputs": [
    {
     "data": {
      "text/html": [
       "<div style=\"width:100%;\"><div style=\"position:relative;width:100%;height:0;padding-bottom:60%;\"><iframe src=\"about:blank\" style=\"position:absolute;width:100%;height:100%;left:0;top:0;border:none !important;\" data-html=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 onload=\"this.contentDocument.open();this.contentDocument.write(atob(this.getAttribute('data-html')));this.contentDocument.close();\" allowfullscreen webkitallowfullscreen mozallowfullscreen></iframe></div></div>"
      ],
      "text/plain": [
       "<folium.folium.Map at 0x254f659f320>"
      ]
     },
     "execution_count": 16,
     "metadata": {},
     "output_type": "execute_result"
    }
   ],
   "source": [
    "# create map of canada Toronto neighbor using latitude and longitude values\n",
    "Toronto_map = folium.Map(location=[latitude, longitude], zoom_start=10)\n",
    "\n",
    "# add markers to map\n",
    "for lat, lng, borough, neighborhood in zip(df['Latitude'], df['Longitude'], df['Borough'], df['Neighborhood']):\n",
    "    label = '{}, {}'.format(neighborhood, borough)\n",
    "    label = folium.Popup(label, parse_html=True)\n",
    "    folium.CircleMarker(\n",
    "        [lat, lng],\n",
    "        radius=5,\n",
    "        popup=label,\n",
    "        color='blue',\n",
    "        fill=True,\n",
    "        fill_color='#3186cc',\n",
    "        fill_opacity=0.7,\n",
    "        parse_html=False).add_to(Toronto_map)  \n",
    "    \n",
    "Toronto_map\n",
    "\n"
   ]
  },
  {
   "cell_type": "code",
   "execution_count": 37,
   "metadata": {},
   "outputs": [
    {
     "data": {
      "text/plain": [
       "[456, 289, 289, 121, 81, 36, 25, 16, 16, 1, 1, 1, 1, 1, 1]"
      ]
     },
     "execution_count": 37,
     "metadata": {},
     "output_type": "execute_result"
    }
   ],
   "source": [
    "#做出每个Neighborhood的柱状图判断人口稠密程度\n",
    "df_counts=df['Borough'].value_counts()\n",
    "Boroughlist=list(df_counts.index)\n",
    "neighbor_numlist=[]\n",
    "for i in Boroughlist:\n",
    "    neighbor_numlist.append(len((df[df['Borough']==i])['Neighborhood'].unique()))\n",
    "    \n",
    "neighbor_numarray=np.array(neighbor_numlist)\n",
    "Borough_numlist=[]\n",
    "for i in range(len(df_counts)):\n",
    "    Borough_numlist.append(df_counts[i])\n",
    "Borough_numarray=np.array(Borough_numlist)\n",
    "Borough_total_num_list=neighbor_numarray*Borough_numarray\n",
    "Borough_total_num_list=Borough_total_num_list.tolist()\n",
    "Borough_total_num_list"
   ]
  },
  {
   "cell_type": "markdown",
   "metadata": {},
   "source": [
    "## population density"
   ]
  },
  {
   "cell_type": "code",
   "execution_count": 42,
   "metadata": {},
   "outputs": [
    {
     "data": {
      "image/png": "[encoded data removed]",
      "text/plain": [
       "<Figure size 432x288 with 1 Axes>"
      ]
     },
     "metadata": {},
     "output_type": "display_data"
    }
   ],
   "source": [
    "Boroughlist_new=[]\n",
    "Borough_total_num_list_new=[]\n",
    "for i in range(4):\n",
    "    Boroughlist_new.append(Boroughlist[i])\n",
    "Boroughlist_new.append('others')\n",
    "for i in range(4):\n",
    "    Borough_total_num_list_new.append(Borough_total_num_list[i])\n",
    "othernum=0\n",
    "for i in range(4,15):\n",
    "    othernum=othernum+Borough_total_num_list[i]\n",
    "Borough_total_num_list_new.append(othernum)\n",
    "#绘制饼图\n",
    "data1 = Borough_total_num_list_new\n",
    "labels = Boroughlist_new\n",
    "explode = [0.1,0,0,0,0]     # 凸显大专人群\n",
    "py.axes(aspect='equal')    # 将横纵坐标标准化处理,使得饼图是正圆不是椭圆\n",
    "py.pie(\n",
    "    x=data1,\n",
    "    explode=explode,\n",
    "    labels=labels,\n",
    "    autopct='%.1f%%',\n",
    "    pctdistance=0.8,     # 设置百分比数据与圆心的距离\n",
    "    labeldistance=1.1,    # 设置标签和圆心距离\n",
    "    textprops = {'fontsize':10,\"color\":\"black\"}\n",
    ")\n",
    "\n",
    "py.title(\"Density of Neighbor in Each Borough\")\n",
    "py.show()"
   ]
  },
  {
   "cell_type": "markdown",
   "metadata": {},
   "source": [
    "**as we can see, a lot people live in North York. So we can observe this area in more detail**"
   ]
  },
  {
   "cell_type": "code",
   "execution_count": 220,
   "metadata": {},
   "outputs": [
    {
     "data": {
      "text/html": [
       "<div>\n",
       "<style scoped>\n",
       "    .dataframe tbody tr th:only-of-type {\n",
       "        vertical-align: middle;\n",
       "    }\n",
       "\n",
       "    .dataframe tbody tr th {\n",
       "        vertical-align: top;\n",
       "    }\n",
       "\n",
       "    .dataframe thead th {\n",
       "        text-align: right;\n",
       "    }\n",
       "</style>\n",
       "<table border=\"1\" class=\"dataframe\">\n",
       "  <thead>\n",
       "    <tr style=\"text-align: right;\">\n",
       "      <th></th>\n",
       "      <th>PostalCode</th>\n",
       "      <th>Borough</th>\n",
       "      <th>Neighborhood</th>\n",
       "      <th>Latitude</th>\n",
       "      <th>Longitude</th>\n",
       "    </tr>\n",
       "  </thead>\n",
       "  <tbody>\n",
       "    <tr>\n",
       "      <td>0</td>\n",
       "      <td>M3A</td>\n",
       "      <td>North York</td>\n",
       "      <td>Parkwoods</td>\n",
       "      <td>43.753259</td>\n",
       "      <td>-79.329656</td>\n",
       "    </tr>\n",
       "    <tr>\n",
       "      <td>1</td>\n",
       "      <td>M4A</td>\n",
       "      <td>North York</td>\n",
       "      <td>Victoria Village</td>\n",
       "      <td>43.725882</td>\n",
       "      <td>-79.315572</td>\n",
       "    </tr>\n",
       "    <tr>\n",
       "      <td>2</td>\n",
       "      <td>M6A</td>\n",
       "      <td>North York</td>\n",
       "      <td>Lawrence Manor,Lawrence Heights</td>\n",
       "      <td>43.718518</td>\n",
       "      <td>-79.464763</td>\n",
       "    </tr>\n",
       "    <tr>\n",
       "      <td>3</td>\n",
       "      <td>M3B</td>\n",
       "      <td>North York</td>\n",
       "      <td>Don Mills</td>\n",
       "      <td>43.745906</td>\n",
       "      <td>-79.352188</td>\n",
       "    </tr>\n",
       "    <tr>\n",
       "      <td>4</td>\n",
       "      <td>M6B</td>\n",
       "      <td>North York</td>\n",
       "      <td>Glencairn</td>\n",
       "      <td>43.709577</td>\n",
       "      <td>-79.445073</td>\n",
       "    </tr>\n",
       "  </tbody>\n",
       "</table>\n",
       "</div>"
      ],
      "text/plain": [
       "  PostalCode     Borough                     Neighborhood   Latitude  \\\n",
       "0        M3A  North York                        Parkwoods  43.753259   \n",
       "1        M4A  North York                 Victoria Village  43.725882   \n",
       "2        M6A  North York  Lawrence Manor,Lawrence Heights  43.718518   \n",
       "3        M3B  North York                        Don Mills  43.745906   \n",
       "4        M6B  North York                        Glencairn  43.709577   \n",
       "\n",
       "   Longitude  \n",
       "0 -79.329656  \n",
       "1 -79.315572  \n",
       "2 -79.464763  \n",
       "3 -79.352188  \n",
       "4 -79.445073  "
      ]
     },
     "execution_count": 220,
     "metadata": {},
     "output_type": "execute_result"
    }
   ],
   "source": [
    "NY_data = df[df['Borough'] == 'North York'].reset_index(drop=True) #得到一个符合条件的新表\n",
    "NY_data.head()\n",
    "NY_data_origin=NY_data\n",
    "NY_data_origin.head()"
   ]
  },
  {
   "cell_type": "markdown",
   "metadata": {},
   "source": [
    "Let's get the geographical coordinates of North York"
   ]
  },
  {
   "cell_type": "code",
   "execution_count": 45,
   "metadata": {},
   "outputs": [
    {
     "name": "stderr",
     "output_type": "stream",
     "text": [
      "C:\\Users\\Administrator\\AppData\\Roaming\\Python\\Python36\\site-packages\\ipykernel_launcher.py:5: DeprecationWarning: Using Nominatim with the default \"geopy/1.21.0\" `user_agent` is strongly discouraged, as it violates Nominatim's ToS https://operations.osmfoundation.org/policies/nominatim/ and may possibly cause 403 and 429 HTTP errors. Please specify a custom `user_agent` with `Nominatim(user_agent=\"my-application\")` or by overriding the default `user_agent`: `geopy.geocoders.options.default_user_agent = \"my-application\"`. In geopy 2.0 this will become an exception.\n",
      "  \"\"\"\n"
     ]
    },
    {
     "name": "stdout",
     "output_type": "stream",
     "text": [
      "The geograpical coordinate of Manhattan are 43.7543263, -79.44911696639593.\n"
     ]
    }
   ],
   "source": [
    "address = 'North York'\n",
    "geolocator = Nominatim(user_agent=\"ny_explorer\")\n",
    "\n",
    "def do_geocode(address):\n",
    "    geopy = Nominatim()\n",
    "    try:\n",
    "        return geolocator.geocode(address)\n",
    "    except GeocoderTimedOut:\n",
    "        return do_geocode(address)\n",
    "location = do_geocode(address)\n",
    "\n",
    "latitude = location.latitude\n",
    "longitude = location.longitude\n",
    "print('The geograpical coordinate of Manhattan are {}, {}.'.format(latitude, longitude))"
   ]
  },
  {
   "cell_type": "code",
   "execution_count": 188,
   "metadata": {},
   "outputs": [
    {
     "data": {
      "text/html": [
       "<div style=\"width:100%;\"><div style=\"position:relative;width:100%;height:0;padding-bottom:60%;\"><iframe src=\"about:blank\" style=\"position:absolute;width:100%;height:100%;left:0;top:0;border:none !important;\" data-html=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 onload=\"this.contentDocument.open();this.contentDocument.write(atob(this.getAttribute('data-html')));this.contentDocument.close();\" allowfullscreen webkitallowfullscreen mozallowfullscreen></iframe></div></div>"
      ],
      "text/plain": [
       "<folium.folium.Map at 0x254fb916438>"
      ]
     },
     "execution_count": 188,
     "metadata": {},
     "output_type": "execute_result"
    }
   ],
   "source": [
    "# create map of Downtown Toronto using latitude and longitude values\n",
    "NY_map1 = folium.Map(location=[latitude, longitude], zoom_start=11)\n",
    "\n",
    "# add markers to map\n",
    "for lat, lng, label in zip(Downtown_data['Latitude'], Downtown_data['Longitude'], Downtown_data['Neighborhood']):\n",
    "    label = folium.Popup(label, parse_html=True)\n",
    "    folium.CircleMarker(\n",
    "        [lat, lng],\n",
    "        radius=5,\n",
    "        popup=label,\n",
    "        color='blue',\n",
    "        fill=True,\n",
    "        fill_color='#3186cc',\n",
    "        fill_opacity=0.7,\n",
    "        parse_html=False).add_to(NY_map1)  \n",
    "    \n",
    "NY_map1"
   ]
  },
  {
   "cell_type": "markdown",
   "metadata": {},
   "source": [
    "Though we all know that in the downtown the population may be more densy, we just culculate the total neighbors in this part to choose a position, since we don't have the area squre information.\n"
   ]
  },
  {
   "cell_type": "code",
   "execution_count": 49,
   "metadata": {},
   "outputs": [
    {
     "data": {
      "text/plain": [
       "Latitude     43.750727\n",
       "Longitude   -79.429338\n",
       "dtype: float64"
      ]
     },
     "execution_count": 49,
     "metadata": {},
     "output_type": "execute_result"
    }
   ],
   "source": [
    "NY_data.mean()  #找到区域中心点"
   ]
  },
  {
   "cell_type": "markdown",
   "metadata": {},
   "source": [
    "now we  are going to visulize the distribuition of the neighbors"
   ]
  },
  {
   "cell_type": "code",
   "execution_count": 56,
   "metadata": {},
   "outputs": [
    {
     "data": {
      "text/plain": [
       "Text(0.5, 1, 'NY_jointplot')"
      ]
     },
     "execution_count": 56,
     "metadata": {},
     "output_type": "execute_result"
    },
    {
     "data": {
      "image/png": "[encoded data removed]",
      "text/plain": [
       "<Figure size 432x432 with 3 Axes>"
      ]
     },
     "metadata": {
      "needs_background": "light"
     },
     "output_type": "display_data"
    }
   ],
   "source": [
    "NY_jointplot=sns.jointplot(\"Latitude\",\"Longitude\",data=NY_data,kind=\"kde\",space=0,ratio=6,color=\"k\")\n",
    "py.title('NY_jointplot')"
   ]
  },
  {
   "cell_type": "markdown",
   "metadata": {},
   "source": [
    "## cluster the positions with KMeans"
   ]
  },
  {
   "cell_type": "markdown",
   "metadata": {},
   "source": [
    "we may as well desprate the area into 2 clusters"
   ]
  },
  {
   "cell_type": "code",
   "execution_count": 67,
   "metadata": {},
   "outputs": [
    {
     "data": {
      "text/plain": [
       "array([[ 43.74121507, -79.48819163],\n",
       "       [ 43.76023978, -79.37048502]])"
      ]
     },
     "execution_count": 67,
     "metadata": {},
     "output_type": "execute_result"
    }
   ],
   "source": [
    "loc=np.array(NY_data[['Latitude','Longitude']])\n",
    "loc_cluster=KMeans(n_clusters=2)\n",
    "loc_cluster=loc_cluster.fit(loc)\n",
    "loc_cluster.cluster_centers_"
   ]
  },
  {
   "cell_type": "code",
   "execution_count": 70,
   "metadata": {},
   "outputs": [
    {
     "data": {
      "text/html": [
       "<div>\n",
       "<style scoped>\n",
       "    .dataframe tbody tr th:only-of-type {\n",
       "        vertical-align: middle;\n",
       "    }\n",
       "\n",
       "    .dataframe tbody tr th {\n",
       "        vertical-align: top;\n",
       "    }\n",
       "\n",
       "    .dataframe thead th {\n",
       "        text-align: right;\n",
       "    }\n",
       "</style>\n",
       "<table border=\"1\" class=\"dataframe\">\n",
       "  <thead>\n",
       "    <tr style=\"text-align: right;\">\n",
       "      <th></th>\n",
       "      <th>PostalCode</th>\n",
       "      <th>Borough</th>\n",
       "      <th>Neighborhood</th>\n",
       "      <th>Latitude</th>\n",
       "      <th>Longitude</th>\n",
       "      <th>label</th>\n",
       "    </tr>\n",
       "  </thead>\n",
       "  <tbody>\n",
       "    <tr>\n",
       "      <td>0</td>\n",
       "      <td>M3A</td>\n",
       "      <td>North York</td>\n",
       "      <td>Parkwoods</td>\n",
       "      <td>43.753259</td>\n",
       "      <td>-79.329656</td>\n",
       "      <td>1</td>\n",
       "    </tr>\n",
       "    <tr>\n",
       "      <td>1</td>\n",
       "      <td>M4A</td>\n",
       "      <td>North York</td>\n",
       "      <td>Victoria Village</td>\n",
       "      <td>43.725882</td>\n",
       "      <td>-79.315572</td>\n",
       "      <td>1</td>\n",
       "    </tr>\n",
       "    <tr>\n",
       "      <td>2</td>\n",
       "      <td>M6A</td>\n",
       "      <td>North York</td>\n",
       "      <td>Lawrence Manor,Lawrence Heights</td>\n",
       "      <td>43.718518</td>\n",
       "      <td>-79.464763</td>\n",
       "      <td>0</td>\n",
       "    </tr>\n",
       "    <tr>\n",
       "      <td>3</td>\n",
       "      <td>M3B</td>\n",
       "      <td>North York</td>\n",
       "      <td>Don Mills</td>\n",
       "      <td>43.745906</td>\n",
       "      <td>-79.352188</td>\n",
       "      <td>1</td>\n",
       "    </tr>\n",
       "    <tr>\n",
       "      <td>4</td>\n",
       "      <td>M6B</td>\n",
       "      <td>North York</td>\n",
       "      <td>Glencairn</td>\n",
       "      <td>43.709577</td>\n",
       "      <td>-79.445073</td>\n",
       "      <td>0</td>\n",
       "    </tr>\n",
       "    <tr>\n",
       "      <td>5</td>\n",
       "      <td>M3C</td>\n",
       "      <td>North York</td>\n",
       "      <td>Don Mills</td>\n",
       "      <td>43.725900</td>\n",
       "      <td>-79.340923</td>\n",
       "      <td>1</td>\n",
       "    </tr>\n",
       "    <tr>\n",
       "      <td>6</td>\n",
       "      <td>M2H</td>\n",
       "      <td>North York</td>\n",
       "      <td>Hillcrest Village</td>\n",
       "      <td>43.803762</td>\n",
       "      <td>-79.363452</td>\n",
       "      <td>1</td>\n",
       "    </tr>\n",
       "    <tr>\n",
       "      <td>7</td>\n",
       "      <td>M3H</td>\n",
       "      <td>North York</td>\n",
       "      <td>Bathurst Manor,Wilson Heights,Downsview North</td>\n",
       "      <td>43.754328</td>\n",
       "      <td>-79.442259</td>\n",
       "      <td>0</td>\n",
       "    </tr>\n",
       "    <tr>\n",
       "      <td>8</td>\n",
       "      <td>M2J</td>\n",
       "      <td>North York</td>\n",
       "      <td>Fairview,Henry Farm,Oriole</td>\n",
       "      <td>43.778517</td>\n",
       "      <td>-79.346556</td>\n",
       "      <td>1</td>\n",
       "    </tr>\n",
       "    <tr>\n",
       "      <td>9</td>\n",
       "      <td>M3J</td>\n",
       "      <td>North York</td>\n",
       "      <td>Northwood Park,York University</td>\n",
       "      <td>43.767980</td>\n",
       "      <td>-79.487262</td>\n",
       "      <td>0</td>\n",
       "    </tr>\n",
       "    <tr>\n",
       "      <td>10</td>\n",
       "      <td>M2K</td>\n",
       "      <td>North York</td>\n",
       "      <td>Bayview Village</td>\n",
       "      <td>43.786947</td>\n",
       "      <td>-79.385975</td>\n",
       "      <td>1</td>\n",
       "    </tr>\n",
       "    <tr>\n",
       "      <td>11</td>\n",
       "      <td>M3K</td>\n",
       "      <td>North York</td>\n",
       "      <td>Downsview</td>\n",
       "      <td>43.737473</td>\n",
       "      <td>-79.464763</td>\n",
       "      <td>0</td>\n",
       "    </tr>\n",
       "    <tr>\n",
       "      <td>12</td>\n",
       "      <td>M2L</td>\n",
       "      <td>North York</td>\n",
       "      <td>York Mills,Silver Hills</td>\n",
       "      <td>43.757490</td>\n",
       "      <td>-79.374714</td>\n",
       "      <td>1</td>\n",
       "    </tr>\n",
       "    <tr>\n",
       "      <td>13</td>\n",
       "      <td>M3L</td>\n",
       "      <td>North York</td>\n",
       "      <td>Downsview</td>\n",
       "      <td>43.739015</td>\n",
       "      <td>-79.506944</td>\n",
       "      <td>0</td>\n",
       "    </tr>\n",
       "    <tr>\n",
       "      <td>14</td>\n",
       "      <td>M6L</td>\n",
       "      <td>North York</td>\n",
       "      <td>North Park,Maple Leaf Park,Upwood Park</td>\n",
       "      <td>43.713756</td>\n",
       "      <td>-79.490074</td>\n",
       "      <td>0</td>\n",
       "    </tr>\n",
       "    <tr>\n",
       "      <td>15</td>\n",
       "      <td>M9L</td>\n",
       "      <td>North York</td>\n",
       "      <td>Humber Summit</td>\n",
       "      <td>43.756303</td>\n",
       "      <td>-79.565963</td>\n",
       "      <td>0</td>\n",
       "    </tr>\n",
       "    <tr>\n",
       "      <td>16</td>\n",
       "      <td>M2M</td>\n",
       "      <td>North York</td>\n",
       "      <td>Willowdale,Newtonbrook</td>\n",
       "      <td>43.789053</td>\n",
       "      <td>-79.408493</td>\n",
       "      <td>1</td>\n",
       "    </tr>\n",
       "    <tr>\n",
       "      <td>17</td>\n",
       "      <td>M3M</td>\n",
       "      <td>North York</td>\n",
       "      <td>Downsview</td>\n",
       "      <td>43.728496</td>\n",
       "      <td>-79.495697</td>\n",
       "      <td>0</td>\n",
       "    </tr>\n",
       "    <tr>\n",
       "      <td>18</td>\n",
       "      <td>M5M</td>\n",
       "      <td>North York</td>\n",
       "      <td>Bedford Park,Lawrence Manor East</td>\n",
       "      <td>43.733283</td>\n",
       "      <td>-79.419750</td>\n",
       "      <td>1</td>\n",
       "    </tr>\n",
       "    <tr>\n",
       "      <td>19</td>\n",
       "      <td>M9M</td>\n",
       "      <td>North York</td>\n",
       "      <td>Humberlea,Emery</td>\n",
       "      <td>43.724766</td>\n",
       "      <td>-79.532242</td>\n",
       "      <td>0</td>\n",
       "    </tr>\n",
       "    <tr>\n",
       "      <td>20</td>\n",
       "      <td>M2N</td>\n",
       "      <td>North York</td>\n",
       "      <td>Willowdale</td>\n",
       "      <td>43.770120</td>\n",
       "      <td>-79.408493</td>\n",
       "      <td>1</td>\n",
       "    </tr>\n",
       "    <tr>\n",
       "      <td>21</td>\n",
       "      <td>M3N</td>\n",
       "      <td>North York</td>\n",
       "      <td>Downsview</td>\n",
       "      <td>43.761631</td>\n",
       "      <td>-79.520999</td>\n",
       "      <td>0</td>\n",
       "    </tr>\n",
       "    <tr>\n",
       "      <td>22</td>\n",
       "      <td>M2P</td>\n",
       "      <td>North York</td>\n",
       "      <td>York Mills West</td>\n",
       "      <td>43.752758</td>\n",
       "      <td>-79.400049</td>\n",
       "      <td>1</td>\n",
       "    </tr>\n",
       "    <tr>\n",
       "      <td>23</td>\n",
       "      <td>M2R</td>\n",
       "      <td>North York</td>\n",
       "      <td>Willowdale</td>\n",
       "      <td>43.782736</td>\n",
       "      <td>-79.442259</td>\n",
       "      <td>0</td>\n",
       "    </tr>\n",
       "  </tbody>\n",
       "</table>\n",
       "</div>"
      ],
      "text/plain": [
       "   PostalCode     Borough                                   Neighborhood  \\\n",
       "0         M3A  North York                                      Parkwoods   \n",
       "1         M4A  North York                               Victoria Village   \n",
       "2         M6A  North York                Lawrence Manor,Lawrence Heights   \n",
       "3         M3B  North York                                      Don Mills   \n",
       "4         M6B  North York                                      Glencairn   \n",
       "5         M3C  North York                                      Don Mills   \n",
       "6         M2H  North York                              Hillcrest Village   \n",
       "7         M3H  North York  Bathurst Manor,Wilson Heights,Downsview North   \n",
       "8         M2J  North York                     Fairview,Henry Farm,Oriole   \n",
       "9         M3J  North York                 Northwood Park,York University   \n",
       "10        M2K  North York                                Bayview Village   \n",
       "11        M3K  North York                                      Downsview   \n",
       "12        M2L  North York                        York Mills,Silver Hills   \n",
       "13        M3L  North York                                      Downsview   \n",
       "14        M6L  North York         North Park,Maple Leaf Park,Upwood Park   \n",
       "15        M9L  North York                                  Humber Summit   \n",
       "16        M2M  North York                         Willowdale,Newtonbrook   \n",
       "17        M3M  North York                                      Downsview   \n",
       "18        M5M  North York               Bedford Park,Lawrence Manor East   \n",
       "19        M9M  North York                                Humberlea,Emery   \n",
       "20        M2N  North York                                     Willowdale   \n",
       "21        M3N  North York                                      Downsview   \n",
       "22        M2P  North York                                York Mills West   \n",
       "23        M2R  North York                                     Willowdale   \n",
       "\n",
       "     Latitude  Longitude  label  \n",
       "0   43.753259 -79.329656      1  \n",
       "1   43.725882 -79.315572      1  \n",
       "2   43.718518 -79.464763      0  \n",
       "3   43.745906 -79.352188      1  \n",
       "4   43.709577 -79.445073      0  \n",
       "5   43.725900 -79.340923      1  \n",
       "6   43.803762 -79.363452      1  \n",
       "7   43.754328 -79.442259      0  \n",
       "8   43.778517 -79.346556      1  \n",
       "9   43.767980 -79.487262      0  \n",
       "10  43.786947 -79.385975      1  \n",
       "11  43.737473 -79.464763      0  \n",
       "12  43.757490 -79.374714      1  \n",
       "13  43.739015 -79.506944      0  \n",
       "14  43.713756 -79.490074      0  \n",
       "15  43.756303 -79.565963      0  \n",
       "16  43.789053 -79.408493      1  \n",
       "17  43.728496 -79.495697      0  \n",
       "18  43.733283 -79.419750      1  \n",
       "19  43.724766 -79.532242      0  \n",
       "20  43.770120 -79.408493      1  \n",
       "21  43.761631 -79.520999      0  \n",
       "22  43.752758 -79.400049      1  \n",
       "23  43.782736 -79.442259      0  "
      ]
     },
     "execution_count": 70,
     "metadata": {},
     "output_type": "execute_result"
    }
   ],
   "source": [
    "NY_data['label']=loc_cluster.labels_\n",
    "NY_data"
   ]
  },
  {
   "cell_type": "code",
   "execution_count": 74,
   "metadata": {},
   "outputs": [],
   "source": [
    "NY_data0=NY_data[NY_data['label']==0].reset_index(drop=True)\n",
    "NY_data0=NY_data0[['Latitude','Longitude']]\n",
    "NY_data1=NY_data[NY_data['label']==1].reset_index(drop=True)\n",
    "NY_data1=NY_data1[['Latitude','Longitude']]"
   ]
  },
  {
   "cell_type": "code",
   "execution_count": 84,
   "metadata": {},
   "outputs": [
    {
     "data": {
      "text/plain": [
       "Text(0.5, 1.0, 'cluster for position in North York')"
      ]
     },
     "execution_count": 84,
     "metadata": {},
     "output_type": "execute_result"
    },
    {
     "data": {
      "image/png": "[encoded data removed]",
      "text/plain": [
       "<Figure size 432x288 with 1 Axes>"
      ]
     },
     "metadata": {
      "needs_background": "light"
     },
     "output_type": "display_data"
    }
   ],
   "source": [
    "py.scatter(NY_data0['Latitude'],NY_data0['Longitude'],color=\"red\")\n",
    "py.scatter(NY_data1['Latitude'],NY_data1['Longitude'],color=\"blue\",marker='+')\n",
    "py.scatter(43.74121507, -79.48819163,color='yellow')\n",
    "py.scatter(43.76023978, -79.37048502,color='black',marker='+')\n",
    "py.xlabel('Latitude')\n",
    "py.ylabel('Longitude')\n",
    "py.title('cluster for position in North York')"
   ]
  },
  {
   "cell_type": "markdown",
   "metadata": {},
   "source": [
    "As we can see, the yellow and black are the 2 center points of the position"
   ]
  },
  {
   "cell_type": "code",
   "execution_count": 189,
   "metadata": {},
   "outputs": [
    {
     "data": {
      "text/html": [
       "<div style=\"width:100%;\"><div style=\"position:relative;width:100%;height:0;padding-bottom:60%;\"><iframe src=\"about:blank\" style=\"position:absolute;width:100%;height:100%;left:0;top:0;border:none !important;\" data-html=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 onload=\"this.contentDocument.open();this.contentDocument.write(atob(this.getAttribute('data-html')));this.contentDocument.close();\" allowfullscreen webkitallowfullscreen mozallowfullscreen></iframe></div></div>"
      ],
      "text/plain": [
       "<folium.folium.Map at 0x254fb916438>"
      ]
     },
     "execution_count": 189,
     "metadata": {},
     "output_type": "execute_result"
    }
   ],
   "source": [
    "for lat, lng, label in zip([43.74121507,43.76023978], [-79.48819163,-79.37048502],['center0','center1']):\n",
    "    label = folium.Popup(label, parse_html=True)\n",
    "    folium.CircleMarker(\n",
    "        [lat, lng],\n",
    "        radius=5,\n",
    "        popup=label,\n",
    "        color='red',\n",
    "        fill=True,\n",
    "        fill_color='red',\n",
    "        fill_opacity=0.7,\n",
    "        parse_html=False).add_to(NY_map1)  \n",
    "    \n",
    "NY_map1"
   ]
  },
  {
   "cell_type": "code",
   "execution_count": 191,
   "metadata": {},
   "outputs": [
    {
     "data": {
      "text/html": [
       "<div style=\"width:100%;\"><div style=\"position:relative;width:100%;height:0;padding-bottom:60%;\"><iframe src=\"about:blank\" style=\"position:absolute;width:100%;height:100%;left:0;top:0;border:none !important;\" data-html=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 onload=\"this.contentDocument.open();this.contentDocument.write(atob(this.getAttribute('data-html')));this.contentDocument.close();\" allowfullscreen webkitallowfullscreen mozallowfullscreen></iframe></div></div>"
      ],
      "text/plain": [
       "<folium.folium.Map at 0x254fb916438>"
      ]
     },
     "execution_count": 191,
     "metadata": {},
     "output_type": "execute_result"
    }
   ],
   "source": [
    "folium.Circle([43.74121507,-79.48819163]\n",
    "              , 5000\n",
    "              ,color='red'\n",
    "              ,fill_color='red'\n",
    "              ,fillOpacity=0.5\n",
    "             ).add_to(NY_map1)\n",
    "folium.Circle([43.76023978,-79.37048502]\n",
    "              , 5000\n",
    "              ,color='red'\n",
    "              ,fill_color='red'\n",
    "              ,fillOpacity=0.5\n",
    "             ).add_to(NY_map1)\n",
    "\n",
    "NY_map1\n"
   ]
  },
  {
   "cell_type": "markdown",
   "metadata": {},
   "source": [
    "## use the API to get the nearby inpormation\n",
    "\n",
    "note:in this part, for the bad connection in my home, I can just add the dataframe every 5 neighbors\n",
    "\n",
    "so **lease just ignore this**."
   ]
  },
  {
   "cell_type": "code",
   "execution_count": 86,
   "metadata": {},
   "outputs": [
    {
     "name": "stdout",
     "output_type": "stream",
     "text": [
      "Your credentails:\n",
      "CLIENT_ID: JUNLRY3MCR1AE23FFX4ZC4HAGPSDXRETLZ5FJNNX0GJIKF51\n",
      "CLIENT_SECRET:H1GBVAUYFJ52DJT50FK1GZNK2DW2A1ZOWY32IGLD4BKIGHOQ\n"
     ]
    }
   ],
   "source": [
    "CLIENT_ID = 'JUNLRY3MCR1AE23FFX4ZC4HAGPSDXRETLZ5FJNNX0GJIKF51' # your Foursquare ID\n",
    "CLIENT_SECRET = 'H1GBVAUYFJ52DJT50FK1GZNK2DW2A1ZOWY32IGLD4BKIGHOQ' # your Foursquare Secret\n",
    "VERSION = '20180605' # Foursquare API version\n",
    "\n",
    "print('Your credentails:')\n",
    "print('CLIENT_ID: ' + CLIENT_ID)\n",
    "print('CLIENT_SECRET:' + CLIENT_SECRET)"
   ]
  },
  {
   "cell_type": "code",
   "execution_count": 87,
   "metadata": {},
   "outputs": [],
   "source": [
    "def getNearbyVenues(names, latitudes, longitudes, radius=500,LIMIT = 100): #limit是自己加上的\n",
    "    \n",
    "    venues_list=[]\n",
    "    for name, lat, lng in zip(names, latitudes, longitudes):\n",
    "        print(name)\n",
    "            \n",
    "        # create the API request URL\n",
    "        url = 'https://api.foursquare.com/v2/venues/explore?&client_id={}&client_secret={}&v={}&ll={},{}&radius={}&limit={}'.format(\n",
    "            CLIENT_ID, \n",
    "            CLIENT_SECRET, \n",
    "            VERSION, \n",
    "            lat, \n",
    "            lng, \n",
    "            radius, \n",
    "            LIMIT)\n",
    "            \n",
    "        # make the GET request\n",
    "        results = requests.get(url).json()[\"response\"]['groups'][0]['items']\n",
    "        \n",
    "        # return only relevant information for each nearby venue\n",
    "        venues_list.append([(\n",
    "            name, \n",
    "            lat, \n",
    "            lng, \n",
    "            v['venue']['name'], \n",
    "            v['venue']['location']['lat'], \n",
    "            v['venue']['location']['lng'],  \n",
    "            v['venue']['categories'][0]['name']) for v in results])\n",
    "\n",
    "    nearby_venues = pd.DataFrame([item for venue_list in venues_list for item in venue_list])\n",
    "    nearby_venues.columns = ['Neighborhood', \n",
    "                  'Neighborhood Latitude', \n",
    "                  'Neighborhood Longitude', \n",
    "                  'Venue', \n",
    "                  'Venue Latitude', \n",
    "                  'Venue Longitude', \n",
    "                  'Venue Category']\n",
    "    \n",
    "    return(nearby_venues)"
   ]
  },
  {
   "cell_type": "code",
   "execution_count": 91,
   "metadata": {},
   "outputs": [],
   "source": [
    "NY_data5=NY_data.head()"
   ]
  },
  {
   "cell_type": "code",
   "execution_count": 92,
   "metadata": {},
   "outputs": [
    {
     "name": "stdout",
     "output_type": "stream",
     "text": [
      "Parkwoods\n",
      "Victoria Village\n",
      "Lawrence Manor,Lawrence Heights\n",
      "Don Mills\n",
      "Glencairn\n"
     ]
    }
   ],
   "source": [
    "NY_venues = getNearbyVenues(names=NY_data5['Neighborhood'],\n",
    "                                   latitudes=NY_data5['Latitude'],\n",
    "                                   longitudes=NY_data5['Longitude']\n",
    "                                  )"
   ]
  },
  {
   "cell_type": "code",
   "execution_count": 101,
   "metadata": {},
   "outputs": [
    {
     "name": "stdout",
     "output_type": "stream",
     "text": [
      "Don Mills\n",
      "Hillcrest Village\n",
      "Bathurst Manor,Wilson Heights,Downsview North\n",
      "Fairview,Henry Farm,Oriole\n",
      "Northwood Park,York University\n"
     ]
    }
   ],
   "source": [
    "NY_data5=NY_data[5:10]\n",
    "NY_data5=NY_venues.append(getNearbyVenues(names=NY_data5['Neighborhood'],\n",
    "                                   latitudes=NY_data5['Latitude'],\n",
    "                                   longitudes=NY_data5['Longitude']\n",
    "                                  ))"
   ]
  },
  {
   "cell_type": "code",
   "execution_count": 103,
   "metadata": {},
   "outputs": [
    {
     "name": "stdout",
     "output_type": "stream",
     "text": [
      "Bayview Village\n",
      "Downsview\n",
      "York Mills,Silver Hills\n",
      "Downsview\n",
      "North Park,Maple Leaf Park,Upwood Park\n"
     ]
    }
   ],
   "source": [
    "NY_data5=NY_data[10:15]\n",
    "NY_data5=NY_venues.append(getNearbyVenues(names=NY_data5['Neighborhood'],\n",
    "                                   latitudes=NY_data5['Latitude'],\n",
    "                                   longitudes=NY_data5['Longitude']\n",
    "                                  ))"
   ]
  },
  {
   "cell_type": "code",
   "execution_count": 104,
   "metadata": {},
   "outputs": [
    {
     "name": "stdout",
     "output_type": "stream",
     "text": [
      "Humber Summit\n",
      "Willowdale,Newtonbrook\n",
      "Downsview\n",
      "Bedford Park,Lawrence Manor East\n",
      "Humberlea,Emery\n"
     ]
    }
   ],
   "source": [
    "NY_data5=NY_data[15:20]\n",
    "NY_data5=NY_venues.append(getNearbyVenues(names=NY_data5['Neighborhood'],\n",
    "                                   latitudes=NY_data5['Latitude'],\n",
    "                                   longitudes=NY_data5['Longitude']\n",
    "                                  ))"
   ]
  },
  {
   "cell_type": "code",
   "execution_count": 105,
   "metadata": {},
   "outputs": [
    {
     "name": "stdout",
     "output_type": "stream",
     "text": [
      "Willowdale\n",
      "Downsview\n",
      "York Mills West\n",
      "Willowdale\n"
     ]
    }
   ],
   "source": [
    "NY_data5=NY_data[20:24]\n",
    "NY_data5=NY_venues.append(getNearbyVenues(names=NY_data5['Neighborhood'],\n",
    "                                   latitudes=NY_data5['Latitude'],\n",
    "                                   longitudes=NY_data5['Longitude']\n",
    "                                  ))"
   ]
  },
  {
   "cell_type": "code",
   "execution_count": 106,
   "metadata": {
    "scrolled": false
   },
   "outputs": [
    {
     "data": {
      "text/html": [
       "<div>\n",
       "<style scoped>\n",
       "    .dataframe tbody tr th:only-of-type {\n",
       "        vertical-align: middle;\n",
       "    }\n",
       "\n",
       "    .dataframe tbody tr th {\n",
       "        vertical-align: top;\n",
       "    }\n",
       "\n",
       "    .dataframe thead th {\n",
       "        text-align: right;\n",
       "    }\n",
       "</style>\n",
       "<table border=\"1\" class=\"dataframe\">\n",
       "  <thead>\n",
       "    <tr style=\"text-align: right;\">\n",
       "      <th></th>\n",
       "      <th>Neighborhood</th>\n",
       "      <th>Neighborhood Latitude</th>\n",
       "      <th>Neighborhood Longitude</th>\n",
       "      <th>Venue</th>\n",
       "      <th>Venue Latitude</th>\n",
       "      <th>Venue Longitude</th>\n",
       "      <th>Venue Category</th>\n",
       "    </tr>\n",
       "  </thead>\n",
       "  <tbody>\n",
       "    <tr>\n",
       "      <td>0</td>\n",
       "      <td>Parkwoods</td>\n",
       "      <td>43.753259</td>\n",
       "      <td>-79.329656</td>\n",
       "      <td>Brookbanks Park</td>\n",
       "      <td>43.751976</td>\n",
       "      <td>-79.332140</td>\n",
       "      <td>Park</td>\n",
       "    </tr>\n",
       "    <tr>\n",
       "      <td>1</td>\n",
       "      <td>Parkwoods</td>\n",
       "      <td>43.753259</td>\n",
       "      <td>-79.329656</td>\n",
       "      <td>Variety Store</td>\n",
       "      <td>43.751974</td>\n",
       "      <td>-79.333114</td>\n",
       "      <td>Food &amp; Drink Shop</td>\n",
       "    </tr>\n",
       "    <tr>\n",
       "      <td>2</td>\n",
       "      <td>Victoria Village</td>\n",
       "      <td>43.725882</td>\n",
       "      <td>-79.315572</td>\n",
       "      <td>Victoria Village Arena</td>\n",
       "      <td>43.723481</td>\n",
       "      <td>-79.315635</td>\n",
       "      <td>Hockey Arena</td>\n",
       "    </tr>\n",
       "    <tr>\n",
       "      <td>3</td>\n",
       "      <td>Victoria Village</td>\n",
       "      <td>43.725882</td>\n",
       "      <td>-79.315572</td>\n",
       "      <td>Tim Hortons</td>\n",
       "      <td>43.725517</td>\n",
       "      <td>-79.313103</td>\n",
       "      <td>Coffee Shop</td>\n",
       "    </tr>\n",
       "    <tr>\n",
       "      <td>4</td>\n",
       "      <td>Victoria Village</td>\n",
       "      <td>43.725882</td>\n",
       "      <td>-79.315572</td>\n",
       "      <td>Portugril</td>\n",
       "      <td>43.725819</td>\n",
       "      <td>-79.312785</td>\n",
       "      <td>Portuguese Restaurant</td>\n",
       "    </tr>\n",
       "    <tr>\n",
       "      <td>...</td>\n",
       "      <td>...</td>\n",
       "      <td>...</td>\n",
       "      <td>...</td>\n",
       "      <td>...</td>\n",
       "      <td>...</td>\n",
       "      <td>...</td>\n",
       "      <td>...</td>\n",
       "    </tr>\n",
       "    <tr>\n",
       "      <td>44</td>\n",
       "      <td>Willowdale</td>\n",
       "      <td>43.782736</td>\n",
       "      <td>-79.442259</td>\n",
       "      <td>Dollarama</td>\n",
       "      <td>43.784670</td>\n",
       "      <td>-79.446670</td>\n",
       "      <td>Discount Store</td>\n",
       "    </tr>\n",
       "    <tr>\n",
       "      <td>45</td>\n",
       "      <td>Willowdale</td>\n",
       "      <td>43.782736</td>\n",
       "      <td>-79.442259</td>\n",
       "      <td>Tim Hortons</td>\n",
       "      <td>43.780940</td>\n",
       "      <td>-79.444231</td>\n",
       "      <td>Coffee Shop</td>\n",
       "    </tr>\n",
       "    <tr>\n",
       "      <td>46</td>\n",
       "      <td>Willowdale</td>\n",
       "      <td>43.782736</td>\n",
       "      <td>-79.442259</td>\n",
       "      <td>Price Chopper</td>\n",
       "      <td>43.783237</td>\n",
       "      <td>-79.446339</td>\n",
       "      <td>Grocery Store</td>\n",
       "    </tr>\n",
       "    <tr>\n",
       "      <td>47</td>\n",
       "      <td>Willowdale</td>\n",
       "      <td>43.782736</td>\n",
       "      <td>-79.442259</td>\n",
       "      <td>RBC Royal Bank</td>\n",
       "      <td>43.783894</td>\n",
       "      <td>-79.446603</td>\n",
       "      <td>Bank</td>\n",
       "    </tr>\n",
       "    <tr>\n",
       "      <td>48</td>\n",
       "      <td>Willowdale</td>\n",
       "      <td>43.782736</td>\n",
       "      <td>-79.442259</td>\n",
       "      <td>Painters With a Brush</td>\n",
       "      <td>43.782668</td>\n",
       "      <td>-79.448281</td>\n",
       "      <td>Home Service</td>\n",
       "    </tr>\n",
       "  </tbody>\n",
       "</table>\n",
       "<p>77 rows × 7 columns</p>\n",
       "</div>"
      ],
      "text/plain": [
       "        Neighborhood  Neighborhood Latitude  Neighborhood Longitude  \\\n",
       "0          Parkwoods              43.753259              -79.329656   \n",
       "1          Parkwoods              43.753259              -79.329656   \n",
       "2   Victoria Village              43.725882              -79.315572   \n",
       "3   Victoria Village              43.725882              -79.315572   \n",
       "4   Victoria Village              43.725882              -79.315572   \n",
       "..               ...                    ...                     ...   \n",
       "44        Willowdale              43.782736              -79.442259   \n",
       "45        Willowdale              43.782736              -79.442259   \n",
       "46        Willowdale              43.782736              -79.442259   \n",
       "47        Willowdale              43.782736              -79.442259   \n",
       "48        Willowdale              43.782736              -79.442259   \n",
       "\n",
       "                     Venue  Venue Latitude  Venue Longitude  \\\n",
       "0          Brookbanks Park       43.751976       -79.332140   \n",
       "1            Variety Store       43.751974       -79.333114   \n",
       "2   Victoria Village Arena       43.723481       -79.315635   \n",
       "3              Tim Hortons       43.725517       -79.313103   \n",
       "4                Portugril       43.725819       -79.312785   \n",
       "..                     ...             ...              ...   \n",
       "44               Dollarama       43.784670       -79.446670   \n",
       "45             Tim Hortons       43.780940       -79.444231   \n",
       "46           Price Chopper       43.783237       -79.446339   \n",
       "47          RBC Royal Bank       43.783894       -79.446603   \n",
       "48   Painters With a Brush       43.782668       -79.448281   \n",
       "\n",
       "           Venue Category  \n",
       "0                    Park  \n",
       "1       Food & Drink Shop  \n",
       "2            Hockey Arena  \n",
       "3             Coffee Shop  \n",
       "4   Portuguese Restaurant  \n",
       "..                    ...  \n",
       "44         Discount Store  \n",
       "45            Coffee Shop  \n",
       "46          Grocery Store  \n",
       "47                   Bank  \n",
       "48           Home Service  \n",
       "\n",
       "[77 rows x 7 columns]"
      ]
     },
     "execution_count": 106,
     "metadata": {},
     "output_type": "execute_result"
    }
   ],
   "source": [
    "NY_data=NY_data5\n",
    "NY_data"
   ]
  },
  {
   "cell_type": "code",
   "execution_count": 107,
   "metadata": {},
   "outputs": [
    {
     "data": {
      "text/html": [
       "<div>\n",
       "<style scoped>\n",
       "    .dataframe tbody tr th:only-of-type {\n",
       "        vertical-align: middle;\n",
       "    }\n",
       "\n",
       "    .dataframe tbody tr th {\n",
       "        vertical-align: top;\n",
       "    }\n",
       "\n",
       "    .dataframe thead th {\n",
       "        text-align: right;\n",
       "    }\n",
       "</style>\n",
       "<table border=\"1\" class=\"dataframe\">\n",
       "  <thead>\n",
       "    <tr style=\"text-align: right;\">\n",
       "      <th></th>\n",
       "      <th>Neighborhood Latitude</th>\n",
       "      <th>Neighborhood Longitude</th>\n",
       "      <th>Venue</th>\n",
       "      <th>Venue Latitude</th>\n",
       "      <th>Venue Longitude</th>\n",
       "      <th>Venue Category</th>\n",
       "    </tr>\n",
       "    <tr>\n",
       "      <th>Neighborhood</th>\n",
       "      <th></th>\n",
       "      <th></th>\n",
       "      <th></th>\n",
       "      <th></th>\n",
       "      <th></th>\n",
       "      <th></th>\n",
       "    </tr>\n",
       "  </thead>\n",
       "  <tbody>\n",
       "    <tr>\n",
       "      <td>Don Mills</td>\n",
       "      <td>5</td>\n",
       "      <td>5</td>\n",
       "      <td>5</td>\n",
       "      <td>5</td>\n",
       "      <td>5</td>\n",
       "      <td>5</td>\n",
       "    </tr>\n",
       "    <tr>\n",
       "      <td>Downsview</td>\n",
       "      <td>4</td>\n",
       "      <td>4</td>\n",
       "      <td>4</td>\n",
       "      <td>4</td>\n",
       "      <td>4</td>\n",
       "      <td>4</td>\n",
       "    </tr>\n",
       "    <tr>\n",
       "      <td>Glencairn</td>\n",
       "      <td>4</td>\n",
       "      <td>4</td>\n",
       "      <td>4</td>\n",
       "      <td>4</td>\n",
       "      <td>4</td>\n",
       "      <td>4</td>\n",
       "    </tr>\n",
       "    <tr>\n",
       "      <td>Lawrence Manor,Lawrence Heights</td>\n",
       "      <td>13</td>\n",
       "      <td>13</td>\n",
       "      <td>13</td>\n",
       "      <td>13</td>\n",
       "      <td>13</td>\n",
       "      <td>13</td>\n",
       "    </tr>\n",
       "    <tr>\n",
       "      <td>Parkwoods</td>\n",
       "      <td>2</td>\n",
       "      <td>2</td>\n",
       "      <td>2</td>\n",
       "      <td>2</td>\n",
       "      <td>2</td>\n",
       "      <td>2</td>\n",
       "    </tr>\n",
       "    <tr>\n",
       "      <td>Victoria Village</td>\n",
       "      <td>4</td>\n",
       "      <td>4</td>\n",
       "      <td>4</td>\n",
       "      <td>4</td>\n",
       "      <td>4</td>\n",
       "      <td>4</td>\n",
       "    </tr>\n",
       "    <tr>\n",
       "      <td>Willowdale</td>\n",
       "      <td>41</td>\n",
       "      <td>41</td>\n",
       "      <td>41</td>\n",
       "      <td>41</td>\n",
       "      <td>41</td>\n",
       "      <td>41</td>\n",
       "    </tr>\n",
       "    <tr>\n",
       "      <td>York Mills West</td>\n",
       "      <td>4</td>\n",
       "      <td>4</td>\n",
       "      <td>4</td>\n",
       "      <td>4</td>\n",
       "      <td>4</td>\n",
       "      <td>4</td>\n",
       "    </tr>\n",
       "  </tbody>\n",
       "</table>\n",
       "</div>"
      ],
      "text/plain": [
       "                                 Neighborhood Latitude  \\\n",
       "Neighborhood                                             \n",
       "Don Mills                                            5   \n",
       "Downsview                                            4   \n",
       "Glencairn                                            4   \n",
       "Lawrence Manor,Lawrence Heights                     13   \n",
       "Parkwoods                                            2   \n",
       "Victoria Village                                     4   \n",
       "Willowdale                                          41   \n",
       "York Mills West                                      4   \n",
       "\n",
       "                                 Neighborhood Longitude  Venue  \\\n",
       "Neighborhood                                                     \n",
       "Don Mills                                             5      5   \n",
       "Downsview                                             4      4   \n",
       "Glencairn                                             4      4   \n",
       "Lawrence Manor,Lawrence Heights                      13     13   \n",
       "Parkwoods                                             2      2   \n",
       "Victoria Village                                      4      4   \n",
       "Willowdale                                           41     41   \n",
       "York Mills West                                       4      4   \n",
       "\n",
       "                                 Venue Latitude  Venue Longitude  \\\n",
       "Neighborhood                                                       \n",
       "Don Mills                                     5                5   \n",
       "Downsview                                     4                4   \n",
       "Glencairn                                     4                4   \n",
       "Lawrence Manor,Lawrence Heights              13               13   \n",
       "Parkwoods                                     2                2   \n",
       "Victoria Village                              4                4   \n",
       "Willowdale                                   41               41   \n",
       "York Mills West                               4                4   \n",
       "\n",
       "                                 Venue Category  \n",
       "Neighborhood                                     \n",
       "Don Mills                                     5  \n",
       "Downsview                                     4  \n",
       "Glencairn                                     4  \n",
       "Lawrence Manor,Lawrence Heights              13  \n",
       "Parkwoods                                     2  \n",
       "Victoria Village                              4  \n",
       "Willowdale                                   41  \n",
       "York Mills West                               4  "
      ]
     },
     "execution_count": 107,
     "metadata": {},
     "output_type": "execute_result"
    }
   ],
   "source": [
    "NY_data.groupby(['Neighborhood']).count()"
   ]
  },
  {
   "cell_type": "code",
   "execution_count": 129,
   "metadata": {},
   "outputs": [],
   "source": [
    "Venue_Category=NY_data['Venue Category'].unique()"
   ]
  },
  {
   "cell_type": "markdown",
   "metadata": {},
   "source": [
    "## create the **one-hot dataframe** to analyze the destribution of the restaurants."
   ]
  },
  {
   "cell_type": "code",
   "execution_count": 114,
   "metadata": {},
   "outputs": [
    {
     "data": {
      "text/html": [
       "<div>\n",
       "<style scoped>\n",
       "    .dataframe tbody tr th:only-of-type {\n",
       "        vertical-align: middle;\n",
       "    }\n",
       "\n",
       "    .dataframe tbody tr th {\n",
       "        vertical-align: top;\n",
       "    }\n",
       "\n",
       "    .dataframe thead th {\n",
       "        text-align: right;\n",
       "    }\n",
       "</style>\n",
       "<table border=\"1\" class=\"dataframe\">\n",
       "  <thead>\n",
       "    <tr style=\"text-align: right;\">\n",
       "      <th></th>\n",
       "      <th>Accessories Store</th>\n",
       "      <th>Arts &amp; Crafts Store</th>\n",
       "      <th>Athletics &amp; Sports</th>\n",
       "      <th>Bank</th>\n",
       "      <th>Baseball Field</th>\n",
       "      <th>Boutique</th>\n",
       "      <th>Bubble Tea Shop</th>\n",
       "      <th>Café</th>\n",
       "      <th>Caribbean Restaurant</th>\n",
       "      <th>Clothing Store</th>\n",
       "      <th>...</th>\n",
       "      <th>Pub</th>\n",
       "      <th>Ramen Restaurant</th>\n",
       "      <th>Restaurant</th>\n",
       "      <th>Sandwich Place</th>\n",
       "      <th>Shoe Store</th>\n",
       "      <th>Shopping Mall</th>\n",
       "      <th>Steakhouse</th>\n",
       "      <th>Sushi Restaurant</th>\n",
       "      <th>Vietnamese Restaurant</th>\n",
       "      <th>Neighborhood</th>\n",
       "    </tr>\n",
       "  </thead>\n",
       "  <tbody>\n",
       "    <tr>\n",
       "      <td>0</td>\n",
       "      <td>0</td>\n",
       "      <td>0</td>\n",
       "      <td>0</td>\n",
       "      <td>0</td>\n",
       "      <td>0</td>\n",
       "      <td>0</td>\n",
       "      <td>0</td>\n",
       "      <td>0</td>\n",
       "      <td>0</td>\n",
       "      <td>0</td>\n",
       "      <td>...</td>\n",
       "      <td>0</td>\n",
       "      <td>0</td>\n",
       "      <td>0</td>\n",
       "      <td>0</td>\n",
       "      <td>0</td>\n",
       "      <td>0</td>\n",
       "      <td>0</td>\n",
       "      <td>0</td>\n",
       "      <td>0</td>\n",
       "      <td>Parkwoods</td>\n",
       "    </tr>\n",
       "    <tr>\n",
       "      <td>1</td>\n",
       "      <td>0</td>\n",
       "      <td>0</td>\n",
       "      <td>0</td>\n",
       "      <td>0</td>\n",
       "      <td>0</td>\n",
       "      <td>0</td>\n",
       "      <td>0</td>\n",
       "      <td>0</td>\n",
       "      <td>0</td>\n",
       "      <td>0</td>\n",
       "      <td>...</td>\n",
       "      <td>0</td>\n",
       "      <td>0</td>\n",
       "      <td>0</td>\n",
       "      <td>0</td>\n",
       "      <td>0</td>\n",
       "      <td>0</td>\n",
       "      <td>0</td>\n",
       "      <td>0</td>\n",
       "      <td>0</td>\n",
       "      <td>Parkwoods</td>\n",
       "    </tr>\n",
       "    <tr>\n",
       "      <td>2</td>\n",
       "      <td>0</td>\n",
       "      <td>0</td>\n",
       "      <td>0</td>\n",
       "      <td>0</td>\n",
       "      <td>0</td>\n",
       "      <td>0</td>\n",
       "      <td>0</td>\n",
       "      <td>0</td>\n",
       "      <td>0</td>\n",
       "      <td>0</td>\n",
       "      <td>...</td>\n",
       "      <td>0</td>\n",
       "      <td>0</td>\n",
       "      <td>0</td>\n",
       "      <td>0</td>\n",
       "      <td>0</td>\n",
       "      <td>0</td>\n",
       "      <td>0</td>\n",
       "      <td>0</td>\n",
       "      <td>0</td>\n",
       "      <td>Victoria Village</td>\n",
       "    </tr>\n",
       "    <tr>\n",
       "      <td>3</td>\n",
       "      <td>0</td>\n",
       "      <td>0</td>\n",
       "      <td>0</td>\n",
       "      <td>0</td>\n",
       "      <td>0</td>\n",
       "      <td>0</td>\n",
       "      <td>0</td>\n",
       "      <td>0</td>\n",
       "      <td>0</td>\n",
       "      <td>0</td>\n",
       "      <td>...</td>\n",
       "      <td>0</td>\n",
       "      <td>0</td>\n",
       "      <td>0</td>\n",
       "      <td>0</td>\n",
       "      <td>0</td>\n",
       "      <td>0</td>\n",
       "      <td>0</td>\n",
       "      <td>0</td>\n",
       "      <td>0</td>\n",
       "      <td>Victoria Village</td>\n",
       "    </tr>\n",
       "    <tr>\n",
       "      <td>4</td>\n",
       "      <td>0</td>\n",
       "      <td>0</td>\n",
       "      <td>0</td>\n",
       "      <td>0</td>\n",
       "      <td>0</td>\n",
       "      <td>0</td>\n",
       "      <td>0</td>\n",
       "      <td>0</td>\n",
       "      <td>0</td>\n",
       "      <td>0</td>\n",
       "      <td>...</td>\n",
       "      <td>0</td>\n",
       "      <td>0</td>\n",
       "      <td>0</td>\n",
       "      <td>0</td>\n",
       "      <td>0</td>\n",
       "      <td>0</td>\n",
       "      <td>0</td>\n",
       "      <td>0</td>\n",
       "      <td>0</td>\n",
       "      <td>Victoria Village</td>\n",
       "    </tr>\n",
       "    <tr>\n",
       "      <td>...</td>\n",
       "      <td>...</td>\n",
       "      <td>...</td>\n",
       "      <td>...</td>\n",
       "      <td>...</td>\n",
       "      <td>...</td>\n",
       "      <td>...</td>\n",
       "      <td>...</td>\n",
       "      <td>...</td>\n",
       "      <td>...</td>\n",
       "      <td>...</td>\n",
       "      <td>...</td>\n",
       "      <td>...</td>\n",
       "      <td>...</td>\n",
       "      <td>...</td>\n",
       "      <td>...</td>\n",
       "      <td>...</td>\n",
       "      <td>...</td>\n",
       "      <td>...</td>\n",
       "      <td>...</td>\n",
       "      <td>...</td>\n",
       "      <td>...</td>\n",
       "    </tr>\n",
       "    <tr>\n",
       "      <td>44</td>\n",
       "      <td>0</td>\n",
       "      <td>0</td>\n",
       "      <td>0</td>\n",
       "      <td>0</td>\n",
       "      <td>0</td>\n",
       "      <td>0</td>\n",
       "      <td>0</td>\n",
       "      <td>0</td>\n",
       "      <td>0</td>\n",
       "      <td>0</td>\n",
       "      <td>...</td>\n",
       "      <td>0</td>\n",
       "      <td>0</td>\n",
       "      <td>0</td>\n",
       "      <td>0</td>\n",
       "      <td>0</td>\n",
       "      <td>0</td>\n",
       "      <td>0</td>\n",
       "      <td>0</td>\n",
       "      <td>0</td>\n",
       "      <td>Willowdale</td>\n",
       "    </tr>\n",
       "    <tr>\n",
       "      <td>45</td>\n",
       "      <td>0</td>\n",
       "      <td>0</td>\n",
       "      <td>0</td>\n",
       "      <td>0</td>\n",
       "      <td>0</td>\n",
       "      <td>0</td>\n",
       "      <td>0</td>\n",
       "      <td>0</td>\n",
       "      <td>0</td>\n",
       "      <td>0</td>\n",
       "      <td>...</td>\n",
       "      <td>0</td>\n",
       "      <td>0</td>\n",
       "      <td>0</td>\n",
       "      <td>0</td>\n",
       "      <td>0</td>\n",
       "      <td>0</td>\n",
       "      <td>0</td>\n",
       "      <td>0</td>\n",
       "      <td>0</td>\n",
       "      <td>Willowdale</td>\n",
       "    </tr>\n",
       "    <tr>\n",
       "      <td>46</td>\n",
       "      <td>0</td>\n",
       "      <td>0</td>\n",
       "      <td>0</td>\n",
       "      <td>0</td>\n",
       "      <td>0</td>\n",
       "      <td>0</td>\n",
       "      <td>0</td>\n",
       "      <td>0</td>\n",
       "      <td>0</td>\n",
       "      <td>0</td>\n",
       "      <td>...</td>\n",
       "      <td>0</td>\n",
       "      <td>0</td>\n",
       "      <td>0</td>\n",
       "      <td>0</td>\n",
       "      <td>0</td>\n",
       "      <td>0</td>\n",
       "      <td>0</td>\n",
       "      <td>0</td>\n",
       "      <td>0</td>\n",
       "      <td>Willowdale</td>\n",
       "    </tr>\n",
       "    <tr>\n",
       "      <td>47</td>\n",
       "      <td>0</td>\n",
       "      <td>0</td>\n",
       "      <td>0</td>\n",
       "      <td>1</td>\n",
       "      <td>0</td>\n",
       "      <td>0</td>\n",
       "      <td>0</td>\n",
       "      <td>0</td>\n",
       "      <td>0</td>\n",
       "      <td>0</td>\n",
       "      <td>...</td>\n",
       "      <td>0</td>\n",
       "      <td>0</td>\n",
       "      <td>0</td>\n",
       "      <td>0</td>\n",
       "      <td>0</td>\n",
       "      <td>0</td>\n",
       "      <td>0</td>\n",
       "      <td>0</td>\n",
       "      <td>0</td>\n",
       "      <td>Willowdale</td>\n",
       "    </tr>\n",
       "    <tr>\n",
       "      <td>48</td>\n",
       "      <td>0</td>\n",
       "      <td>0</td>\n",
       "      <td>0</td>\n",
       "      <td>0</td>\n",
       "      <td>0</td>\n",
       "      <td>0</td>\n",
       "      <td>0</td>\n",
       "      <td>0</td>\n",
       "      <td>0</td>\n",
       "      <td>0</td>\n",
       "      <td>...</td>\n",
       "      <td>0</td>\n",
       "      <td>0</td>\n",
       "      <td>0</td>\n",
       "      <td>0</td>\n",
       "      <td>0</td>\n",
       "      <td>0</td>\n",
       "      <td>0</td>\n",
       "      <td>0</td>\n",
       "      <td>0</td>\n",
       "      <td>Willowdale</td>\n",
       "    </tr>\n",
       "  </tbody>\n",
       "</table>\n",
       "<p>77 rows × 49 columns</p>\n",
       "</div>"
      ],
      "text/plain": [
       "    Accessories Store  Arts & Crafts Store  Athletics & Sports  Bank  \\\n",
       "0                   0                    0                   0     0   \n",
       "1                   0                    0                   0     0   \n",
       "2                   0                    0                   0     0   \n",
       "3                   0                    0                   0     0   \n",
       "4                   0                    0                   0     0   \n",
       "..                ...                  ...                 ...   ...   \n",
       "44                  0                    0                   0     0   \n",
       "45                  0                    0                   0     0   \n",
       "46                  0                    0                   0     0   \n",
       "47                  0                    0                   0     1   \n",
       "48                  0                    0                   0     0   \n",
       "\n",
       "    Baseball Field  Boutique  Bubble Tea Shop  Café  Caribbean Restaurant  \\\n",
       "0                0         0                0     0                     0   \n",
       "1                0         0                0     0                     0   \n",
       "2                0         0                0     0                     0   \n",
       "3                0         0                0     0                     0   \n",
       "4                0         0                0     0                     0   \n",
       "..             ...       ...              ...   ...                   ...   \n",
       "44               0         0                0     0                     0   \n",
       "45               0         0                0     0                     0   \n",
       "46               0         0                0     0                     0   \n",
       "47               0         0                0     0                     0   \n",
       "48               0         0                0     0                     0   \n",
       "\n",
       "    Clothing Store  ...  Pub  Ramen Restaurant  Restaurant  Sandwich Place  \\\n",
       "0                0  ...    0                 0           0               0   \n",
       "1                0  ...    0                 0           0               0   \n",
       "2                0  ...    0                 0           0               0   \n",
       "3                0  ...    0                 0           0               0   \n",
       "4                0  ...    0                 0           0               0   \n",
       "..             ...  ...  ...               ...         ...             ...   \n",
       "44               0  ...    0                 0           0               0   \n",
       "45               0  ...    0                 0           0               0   \n",
       "46               0  ...    0                 0           0               0   \n",
       "47               0  ...    0                 0           0               0   \n",
       "48               0  ...    0                 0           0               0   \n",
       "\n",
       "    Shoe Store  Shopping Mall  Steakhouse  Sushi Restaurant  \\\n",
       "0            0              0           0                 0   \n",
       "1            0              0           0                 0   \n",
       "2            0              0           0                 0   \n",
       "3            0              0           0                 0   \n",
       "4            0              0           0                 0   \n",
       "..         ...            ...         ...               ...   \n",
       "44           0              0           0                 0   \n",
       "45           0              0           0                 0   \n",
       "46           0              0           0                 0   \n",
       "47           0              0           0                 0   \n",
       "48           0              0           0                 0   \n",
       "\n",
       "    Vietnamese Restaurant      Neighborhood  \n",
       "0                       0         Parkwoods  \n",
       "1                       0         Parkwoods  \n",
       "2                       0  Victoria Village  \n",
       "3                       0  Victoria Village  \n",
       "4                       0  Victoria Village  \n",
       "..                    ...               ...  \n",
       "44                      0        Willowdale  \n",
       "45                      0        Willowdale  \n",
       "46                      0        Willowdale  \n",
       "47                      0        Willowdale  \n",
       "48                      0        Willowdale  \n",
       "\n",
       "[77 rows x 49 columns]"
      ]
     },
     "execution_count": 114,
     "metadata": {},
     "output_type": "execute_result"
    }
   ],
   "source": [
    "one_hot=pd.get_dummies(NY_data['Venue Category'])\n",
    "one_hot['Neighborhood']=NY_data['Neighborhood']\n",
    "one_hot"
   ]
  },
  {
   "cell_type": "code",
   "execution_count": 132,
   "metadata": {},
   "outputs": [
    {
     "data": {
      "text/plain": [
       "['Park',\n",
       " 'Food & Drink Shop',\n",
       " 'Hockey Arena',\n",
       " 'Coffee Shop',\n",
       " 'Portuguese Restaurant',\n",
       " 'Financial or Legal Service',\n",
       " 'Boutique',\n",
       " 'Furniture / Home Store',\n",
       " 'Vietnamese Restaurant',\n",
       " 'Clothing Store',\n",
       " 'Accessories Store',\n",
       " 'Event Space',\n",
       " 'Miscellaneous Shop',\n",
       " 'Shoe Store',\n",
       " 'Gym / Fitness Center',\n",
       " 'Caribbean Restaurant',\n",
       " 'Café',\n",
       " 'Japanese Restaurant',\n",
       " 'Baseball Field',\n",
       " 'Sushi Restaurant',\n",
       " 'Pub',\n",
       " 'Grocery Store',\n",
       " 'Ramen Restaurant',\n",
       " 'Steakhouse',\n",
       " 'Movie Theater',\n",
       " 'Indonesian Restaurant',\n",
       " 'Plaza',\n",
       " 'Ice Cream Shop',\n",
       " 'Shopping Mall',\n",
       " 'Arts & Crafts Store',\n",
       " 'Juice Bar',\n",
       " 'Pet Store',\n",
       " 'Lounge',\n",
       " 'Restaurant',\n",
       " 'Sandwich Place',\n",
       " 'Fast Food Restaurant',\n",
       " 'Electronics Store',\n",
       " 'Discount Store',\n",
       " 'Pizza Place',\n",
       " 'Middle Eastern Restaurant',\n",
       " 'Bubble Tea Shop',\n",
       " 'Hotel',\n",
       " 'Liquor Store',\n",
       " 'Athletics & Sports',\n",
       " 'Bank',\n",
       " 'Convenience Store',\n",
       " 'Pharmacy',\n",
       " 'Home Service']"
      ]
     },
     "execution_count": 132,
     "metadata": {},
     "output_type": "execute_result"
    }
   ],
   "source": [
    "Venue_Category\n",
    "Venue_Category=list(Venue_Category)\n",
    "Venue_Category"
   ]
  },
  {
   "cell_type": "markdown",
   "metadata": {},
   "source": [
    "now we can clean the data and select the restaurants"
   ]
  },
  {
   "cell_type": "code",
   "execution_count": 133,
   "metadata": {},
   "outputs": [
    {
     "data": {
      "text/plain": [
       "['Portuguese Restaurant',\n",
       " 'Vietnamese Restaurant',\n",
       " 'Caribbean Restaurant',\n",
       " 'Japanese Restaurant',\n",
       " 'Sushi Restaurant',\n",
       " 'Ramen Restaurant',\n",
       " 'Indonesian Restaurant',\n",
       " 'Restaurant',\n",
       " 'Fast Food Restaurant',\n",
       " 'Middle Eastern Restaurant']"
      ]
     },
     "execution_count": 133,
     "metadata": {},
     "output_type": "execute_result"
    }
   ],
   "source": [
    "Venue_Category_new=[]\n",
    "for i in range(len(Venue_Category)):\n",
    "    if \"Restaurant\" in Venue_Category[i]:\n",
    "        Venue_Category_new.append(Venue_Category[i])\n",
    "Venue_Category_new"
   ]
  },
  {
   "cell_type": "markdown",
   "metadata": {},
   "source": [
    "## Culculate restaurants in each neighborhood"
   ]
  },
  {
   "cell_type": "code",
   "execution_count": 163,
   "metadata": {},
   "outputs": [
    {
     "name": "stderr",
     "output_type": "stream",
     "text": [
      "C:\\Users\\Administrator\\AppData\\Roaming\\Python\\Python36\\site-packages\\ipykernel_launcher.py:2: SettingWithCopyWarning: \n",
      "A value is trying to be set on a copy of a slice from a DataFrame.\n",
      "Try using .loc[row_indexer,col_indexer] = value instead\n",
      "\n",
      "See the caveats in the documentation: http://pandas.pydata.org/pandas-docs/stable/user_guide/indexing.html#returning-a-view-versus-a-copy\n",
      "  \n",
      "C:\\Users\\Administrator\\AppData\\Roaming\\Python\\Python36\\site-packages\\ipykernel_launcher.py:3: SettingWithCopyWarning: \n",
      "A value is trying to be set on a copy of a slice from a DataFrame.\n",
      "Try using .loc[row_indexer,col_indexer] = value instead\n",
      "\n",
      "See the caveats in the documentation: http://pandas.pydata.org/pandas-docs/stable/user_guide/indexing.html#returning-a-view-versus-a-copy\n",
      "  This is separate from the ipykernel package so we can avoid doing imports until\n"
     ]
    },
    {
     "data": {
      "text/html": [
       "<div>\n",
       "<style scoped>\n",
       "    .dataframe tbody tr th:only-of-type {\n",
       "        vertical-align: middle;\n",
       "    }\n",
       "\n",
       "    .dataframe tbody tr th {\n",
       "        vertical-align: top;\n",
       "    }\n",
       "\n",
       "    .dataframe thead th {\n",
       "        text-align: right;\n",
       "    }\n",
       "</style>\n",
       "<table border=\"1\" class=\"dataframe\">\n",
       "  <thead>\n",
       "    <tr style=\"text-align: right;\">\n",
       "      <th></th>\n",
       "      <th>Neighborhood</th>\n",
       "      <th>total_res</th>\n",
       "    </tr>\n",
       "  </thead>\n",
       "  <tbody>\n",
       "    <tr>\n",
       "      <td>0</td>\n",
       "      <td>Don Mills</td>\n",
       "      <td>2</td>\n",
       "    </tr>\n",
       "    <tr>\n",
       "      <td>1</td>\n",
       "      <td>Downsview</td>\n",
       "      <td>0</td>\n",
       "    </tr>\n",
       "    <tr>\n",
       "      <td>2</td>\n",
       "      <td>Glencairn</td>\n",
       "      <td>2</td>\n",
       "    </tr>\n",
       "    <tr>\n",
       "      <td>3</td>\n",
       "      <td>Lawrence Manor,Lawrence Heights</td>\n",
       "      <td>1</td>\n",
       "    </tr>\n",
       "    <tr>\n",
       "      <td>4</td>\n",
       "      <td>Parkwoods</td>\n",
       "      <td>0</td>\n",
       "    </tr>\n",
       "    <tr>\n",
       "      <td>5</td>\n",
       "      <td>Victoria Village</td>\n",
       "      <td>1</td>\n",
       "    </tr>\n",
       "    <tr>\n",
       "      <td>6</td>\n",
       "      <td>Willowdale</td>\n",
       "      <td>12</td>\n",
       "    </tr>\n",
       "    <tr>\n",
       "      <td>7</td>\n",
       "      <td>York Mills West</td>\n",
       "      <td>0</td>\n",
       "    </tr>\n",
       "  </tbody>\n",
       "</table>\n",
       "</div>"
      ],
      "text/plain": [
       "                      Neighborhood  total_res\n",
       "0                        Don Mills          2\n",
       "1                        Downsview          0\n",
       "2                        Glencairn          2\n",
       "3  Lawrence Manor,Lawrence Heights          1\n",
       "4                        Parkwoods          0\n",
       "5                 Victoria Village          1\n",
       "6                       Willowdale         12\n",
       "7                  York Mills West          0"
      ]
     },
     "execution_count": 163,
     "metadata": {},
     "output_type": "execute_result"
    }
   ],
   "source": [
    "one_hot_res=one_hot[Venue_Category_new]\n",
    "one_hot_res['total_res']=one_hot_res.sum(axis=1)\n",
    "one_hot_res['Neighborhood']=one_hot['Neighborhood']\n",
    "df_T_N=one_hot_res.drop(Venue_Category_new,axis=1)\n",
    "df_T_N=df_T_N.groupby('Neighborhood',as_index=False).sum()   #use'as_index=False'\n",
    "df_T_N\n",
    "#one_hot_res_group=one_hot_res.groupby(['Neighborhood'])\n",
    "#one_hot_res_group"
   ]
  },
  {
   "cell_type": "code",
   "execution_count": 174,
   "metadata": {},
   "outputs": [
    {
     "data": {
      "text/plain": [
       "Text(0.5, 1.0, 'Total_res in Neighborhoods')"
      ]
     },
     "execution_count": 174,
     "metadata": {},
     "output_type": "execute_result"
    },
    {
     "data": {
      "image/png": "[encoded data removed]",
      "text/plain": [
       "<Figure size 432x288 with 1 Axes>"
      ]
     },
     "metadata": {
      "needs_background": "light"
     },
     "output_type": "display_data"
    }
   ],
   "source": [
    "ylabel = list(df_T_N['Neighborhood'])\n",
    "x = list(df_T_N['total_res'])\n",
    "idx = np.arange(len(x))\n",
    "color = cm.jet(np.array(x)/max(x))\n",
    "py.barh(idx, x, color=color)\n",
    "py.yticks(idx+0.4,ylabel)\n",
    "py.grid(axis='x')\n",
    "py.xlabel('restaurant count')\n",
    "py.title('Total_res in Neighborhoods')"
   ]
  },
  {
   "cell_type": "markdown",
   "metadata": {},
   "source": [
    "now, we know the restraunt destribution in the areas. what's more, we are about to try to avoid open our restaurant near the most density areas. \n",
    "\n",
    "we can assum that since people are going to eat out, they have the same tendency to eat in each restaurants. In this case, the propability **(P)** of this tendency can be seemed as **1/(res_count+1)**"
   ]
  },
  {
   "cell_type": "code",
   "execution_count": 180,
   "metadata": {},
   "outputs": [
    {
     "data": {
      "text/plain": [
       "['Don Mills',\n",
       " 'Downsview',\n",
       " 'Glencairn',\n",
       " 'Lawrence Manor,Lawrence Heights',\n",
       " 'Parkwoods',\n",
       " 'Victoria Village',\n",
       " 'Willowdale',\n",
       " 'York Mills West']"
      ]
     },
     "execution_count": 180,
     "metadata": {},
     "output_type": "execute_result"
    }
   ],
   "source": [
    "loc_name=list(df_T_N['Neighborhood'])\n",
    "loc_name"
   ]
  },
  {
   "cell_type": "markdown",
   "metadata": {},
   "source": [
    "consider Neibor as the center of venues，use the weight(number of restaurants) to culculate the mean position of neighbors\n",
    "\n",
    "\n",
    "注：实际上餐厅分布在neighbor venues可以认为是均匀的，因此用平均位置代替此时的位置"
   ]
  },
  {
   "cell_type": "code",
   "execution_count": 199,
   "metadata": {},
   "outputs": [],
   "source": [
    "Latitudes=[]\n",
    "Longitudes=[]\n",
    "for nei in loc_name:\n",
    "    Latitude=NY_data[NY_data['Neighborhood']==nei]['Neighborhood Latitude'].mean()\n",
    "    Longitude=NY_data[NY_data['Neighborhood']==nei]['Neighborhood Longitude'].mean()\n",
    "    Latitudes.append(Latitude)\n",
    "    Longitudes.append(Longitude)"
   ]
  },
  {
   "cell_type": "code",
   "execution_count": 201,
   "metadata": {},
   "outputs": [
    {
     "data": {
      "text/html": [
       "<div>\n",
       "<style scoped>\n",
       "    .dataframe tbody tr th:only-of-type {\n",
       "        vertical-align: middle;\n",
       "    }\n",
       "\n",
       "    .dataframe tbody tr th {\n",
       "        vertical-align: top;\n",
       "    }\n",
       "\n",
       "    .dataframe thead th {\n",
       "        text-align: right;\n",
       "    }\n",
       "</style>\n",
       "<table border=\"1\" class=\"dataframe\">\n",
       "  <thead>\n",
       "    <tr style=\"text-align: right;\">\n",
       "      <th></th>\n",
       "      <th>Neighborhood</th>\n",
       "      <th>total_res</th>\n",
       "      <th>Latitude</th>\n",
       "      <th>Longitude</th>\n",
       "    </tr>\n",
       "  </thead>\n",
       "  <tbody>\n",
       "    <tr>\n",
       "      <td>0</td>\n",
       "      <td>Don Mills</td>\n",
       "      <td>2</td>\n",
       "      <td>43.745906</td>\n",
       "      <td>-79.352188</td>\n",
       "    </tr>\n",
       "    <tr>\n",
       "      <td>1</td>\n",
       "      <td>Downsview</td>\n",
       "      <td>0</td>\n",
       "      <td>43.761631</td>\n",
       "      <td>-79.520999</td>\n",
       "    </tr>\n",
       "    <tr>\n",
       "      <td>2</td>\n",
       "      <td>Glencairn</td>\n",
       "      <td>2</td>\n",
       "      <td>43.709577</td>\n",
       "      <td>-79.445073</td>\n",
       "    </tr>\n",
       "    <tr>\n",
       "      <td>3</td>\n",
       "      <td>Lawrence Manor,Lawrence Heights</td>\n",
       "      <td>1</td>\n",
       "      <td>43.718518</td>\n",
       "      <td>-79.464763</td>\n",
       "    </tr>\n",
       "    <tr>\n",
       "      <td>4</td>\n",
       "      <td>Parkwoods</td>\n",
       "      <td>0</td>\n",
       "      <td>43.753259</td>\n",
       "      <td>-79.329656</td>\n",
       "    </tr>\n",
       "    <tr>\n",
       "      <td>5</td>\n",
       "      <td>Victoria Village</td>\n",
       "      <td>1</td>\n",
       "      <td>43.725882</td>\n",
       "      <td>-79.315572</td>\n",
       "    </tr>\n",
       "    <tr>\n",
       "      <td>6</td>\n",
       "      <td>Willowdale</td>\n",
       "      <td>12</td>\n",
       "      <td>43.772274</td>\n",
       "      <td>-79.414258</td>\n",
       "    </tr>\n",
       "    <tr>\n",
       "      <td>7</td>\n",
       "      <td>York Mills West</td>\n",
       "      <td>0</td>\n",
       "      <td>43.752758</td>\n",
       "      <td>-79.400049</td>\n",
       "    </tr>\n",
       "  </tbody>\n",
       "</table>\n",
       "</div>"
      ],
      "text/plain": [
       "                      Neighborhood  total_res   Latitude  Longitude\n",
       "0                        Don Mills          2  43.745906 -79.352188\n",
       "1                        Downsview          0  43.761631 -79.520999\n",
       "2                        Glencairn          2  43.709577 -79.445073\n",
       "3  Lawrence Manor,Lawrence Heights          1  43.718518 -79.464763\n",
       "4                        Parkwoods          0  43.753259 -79.329656\n",
       "5                 Victoria Village          1  43.725882 -79.315572\n",
       "6                       Willowdale         12  43.772274 -79.414258\n",
       "7                  York Mills West          0  43.752758 -79.400049"
      ]
     },
     "execution_count": 201,
     "metadata": {},
     "output_type": "execute_result"
    }
   ],
   "source": [
    "df_T_N['Latitude']=Latitudes\n",
    "df_T_N['Longitude']=Longitudes\n",
    "df_T_N"
   ]
  },
  {
   "cell_type": "markdown",
   "metadata": {},
   "source": [
    "**1.Take the weighted center point of the restaurant venues to find this**"
   ]
  },
  {
   "cell_type": "code",
   "execution_count": 205,
   "metadata": {},
   "outputs": [
    {
     "name": "stdout",
     "output_type": "stream",
     "text": [
      "mean latitude:43.75681406327914,mean longitude:-79.40810832479674\n"
     ]
    }
   ],
   "source": [
    "Laplus=0  #这两个量用来计算位置的加权和\n",
    "Loplus=0\n",
    "suml=0 #权重和\n",
    "total_res=list(df_T_N['total_res'])\n",
    "for i in range(len(total_res)):\n",
    "    Laplus=total_res[i]*Latitudes[i]+ Laplus\n",
    "    Loplus=total_res[i]*Longitudes[i]+Loplus\n",
    "    suml=suml+total_res[i]\n",
    "la_mean=Laplus/suml  #平均值\n",
    "lo_mean=Loplus/suml\n",
    "print('mean latitude:{},mean longitude:{}'.format(la_mean,lo_mean))"
   ]
  },
  {
   "cell_type": "markdown",
   "metadata": {},
   "source": [
    "**2.Categorize this point**"
   ]
  },
  {
   "cell_type": "code",
   "execution_count": 214,
   "metadata": {},
   "outputs": [],
   "source": [
    "#聚类函数\n",
    "def destribute(p,c1,c2):  #p,c1,c2均为点的坐标列表形式   \n",
    "    r1=(p[0]-c1[0])**2+(p[1]-c1[1])**2  #p,c1的距离\n",
    "    r2=(p[0]-c2[0])**2+(p[1]-c2[1])**2\n",
    "    if r1<r2:\n",
    "        return 'c1'\n",
    "    else:\n",
    "        return 'c2'"
   ]
  },
  {
   "cell_type": "code",
   "execution_count": 215,
   "metadata": {},
   "outputs": [
    {
     "data": {
      "text/plain": [
       "'c2'"
      ]
     },
     "execution_count": 215,
     "metadata": {},
     "output_type": "execute_result"
    }
   ],
   "source": [
    "p=[la_mean,lo_mean]\n",
    "c1=[43.74121507,-79.48819163]\n",
    "c2=[43.76023978,-79.37048502]\n",
    "destribute(p,c1,c2)"
   ]
  },
  {
   "cell_type": "markdown",
   "metadata": {},
   "source": [
    "When the classification is divided into c2, we think that c1 is the best, and make a diagram"
   ]
  },
  {
   "cell_type": "code",
   "execution_count": 216,
   "metadata": {},
   "outputs": [
    {
     "data": {
      "text/html": [
       "<div style=\"width:100%;\"><div style=\"position:relative;width:100%;height:0;padding-bottom:60%;\"><iframe src=\"about:blank\" style=\"position:absolute;width:100%;height:100%;left:0;top:0;border:none !important;\" data-html=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 onload=\"this.contentDocument.open();this.contentDocument.write(atob(this.getAttribute('data-html')));this.contentDocument.close();\" allowfullscreen webkitallowfullscreen mozallowfullscreen></iframe></div></div>"
      ],
      "text/plain": [
       "<folium.folium.Map at 0x254fb916438>"
      ]
     },
     "execution_count": 216,
     "metadata": {},
     "output_type": "execute_result"
    }
   ],
   "source": [
    "NY_map2=NY_map1\n",
    "\n",
    "folium.CircleMarker(\n",
    "        [la_mean, lo_mean],\n",
    "        radius=5,\n",
    "        color='red',\n",
    "        fill=True,\n",
    "        fill_color='yellow',\n",
    "        fill_opacity=0.7,\n",
    "        parse_html=False).add_to(NY_map2)  \n",
    "    \n",
    "NY_map2"
   ]
  },
  {
   "cell_type": "markdown",
   "metadata": {},
   "source": [
    "**3.Reinitialize the cluster**"
   ]
  },
  {
   "cell_type": "code",
   "execution_count": 291,
   "metadata": {},
   "outputs": [],
   "source": [
    "loc2=np.array(NY_data_origin[['Latitude','Longitude']])\n",
    "c1=[43.74121507,-79.48819163]\n",
    "c2=[la_mean, lo_mean]\n",
    "def distance_choice(p,c1,c2):            #用于判断离谁近从而决定往哪个数组放\n",
    "    r1=(p[0]-c1[0])**2+(p[1]-c1[1])**2  #p,c1的距离\n",
    "    r2=(p[0]-c2[0])**2+(p[1]-c2[1])**2\n",
    "    if r1<r2:\n",
    "        return 1\n",
    "    else:\n",
    "        return 0\n",
    "    \n",
    "    \n",
    "def kmeans(plist_array,c1,c2,k):\n",
    "    for j in range(k):                   #更新次数\n",
    "        c1s=[]    #两个数组用于储存c1 c2在每次循环中的值\n",
    "        c2s=[]\n",
    "        for i in range(loc2.shape[0]):   #过position array\n",
    "            p=plist_array[i]\n",
    "            c1=c1\n",
    "            c2=c2\n",
    "            if distance_choice(p,c1,c2):\n",
    "                c1s.append(p)\n",
    "            else:\n",
    "                c2s.append(p)\n",
    "        c1=np.array(c1s).mean(axis=0)\n",
    "        print(c1)\n",
    "        c2=np.array(c2s).mean(axis=0)\n",
    "    return c1,c2,c1s,c2s"
   ]
  },
  {
   "cell_type": "code",
   "execution_count": 292,
   "metadata": {},
   "outputs": [
    {
     "data": {
      "text/plain": [
       "([43.74121507, -79.48819163], [43.75681406327914, -79.40810832479674])"
      ]
     },
     "execution_count": 292,
     "metadata": {},
     "output_type": "execute_result"
    }
   ],
   "source": [
    "c1,c2"
   ]
  },
  {
   "cell_type": "code",
   "execution_count": 293,
   "metadata": {},
   "outputs": [
    {
     "name": "stdout",
     "output_type": "stream",
     "text": [
      "[ 43.73575162 -79.4973781 ]\n"
     ]
    }
   ],
   "source": [
    "c1,c2,c1s,c2s=kmeans(loc2,c1,c2,1)"
   ]
  },
  {
   "cell_type": "code",
   "execution_count": 294,
   "metadata": {},
   "outputs": [
    {
     "data": {
      "text/plain": [
       "(array([ 43.73575162, -79.4973781 ]),\n",
       " array([ 43.76142443, -79.38073849]),\n",
       " [array([ 43.718518 , -79.4647633]),\n",
       "  array([ 43.709577 , -79.4450726]),\n",
       "  array([ 43.7679803, -79.4872619]),\n",
       "  array([ 43.7374732, -79.4647633]),\n",
       "  array([ 43.7390146, -79.5069436]),\n",
       "  array([ 43.7137562, -79.4900738]),\n",
       "  array([ 43.7563033, -79.5659633]),\n",
       "  array([ 43.7284964, -79.4956974]),\n",
       "  array([ 43.7247659, -79.5322424]),\n",
       "  array([ 43.7616313, -79.5209994])],\n",
       " [array([ 43.7532586, -79.3296565]),\n",
       "  array([ 43.7258823, -79.3155716]),\n",
       "  array([ 43.7459058, -79.352188 ]),\n",
       "  array([ 43.7258997, -79.340923 ]),\n",
       "  array([ 43.8037622, -79.3634517]),\n",
       "  array([ 43.7543283, -79.4422593]),\n",
       "  array([ 43.7785175, -79.3465557]),\n",
       "  array([ 43.7869473, -79.385975 ]),\n",
       "  array([ 43.7574902, -79.3747141]),\n",
       "  array([ 43.789053 , -79.4084928]),\n",
       "  array([ 43.7332825, -79.4197497]),\n",
       "  array([ 43.7701199, -79.4084928]),\n",
       "  array([ 43.7527583, -79.4000493]),\n",
       "  array([ 43.7827364, -79.4422593])])"
      ]
     },
     "execution_count": 294,
     "metadata": {},
     "output_type": "execute_result"
    }
   ],
   "source": [
    "c1,c2,c1s,c2s"
   ]
  },
  {
   "cell_type": "code",
   "execution_count": 300,
   "metadata": {},
   "outputs": [
    {
     "data": {
      "text/html": [
       "<div style=\"width:100%;\"><div style=\"position:relative;width:100%;height:0;padding-bottom:60%;\"><iframe src=\"about:blank\" style=\"position:absolute;width:100%;height:100%;left:0;top:0;border:none !important;\" data-html=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 onload=\"this.contentDocument.open();this.contentDocument.write(atob(this.getAttribute('data-html')));this.contentDocument.close();\" allowfullscreen webkitallowfullscreen mozallowfullscreen></iframe></div></div>"
      ],
      "text/plain": [
       "<folium.folium.Map at 0x254fb916438>"
      ]
     },
     "execution_count": 300,
     "metadata": {},
     "output_type": "execute_result"
    }
   ],
   "source": [
    "folium.CircleMarker(\n",
    "        c2,\n",
    "        radius=5,\n",
    "        color='green',\n",
    "        fill=True,\n",
    "        fill_color='green',\n",
    "        fill_opacity=0.7,\n",
    "        parse_html=False).add_to(NY_map2)  \n",
    "    \n",
    "NY_map2"
   ]
  },
  {
   "cell_type": "code",
   "execution_count": 302,
   "metadata": {},
   "outputs": [
    {
     "data": {
      "text/html": [
       "<div style=\"width:100%;\"><div style=\"position:relative;width:100%;height:0;padding-bottom:60%;\"><iframe src=\"about:blank\" style=\"position:absolute;width:100%;height:100%;left:0;top:0;border:none !important;\" data-html=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 onload=\"this.contentDocument.open();this.contentDocument.write(atob(this.getAttribute('data-html')));this.contentDocument.close();\" allowfullscreen webkitallowfullscreen mozallowfullscreen></iframe></div></div>"
      ],
      "text/plain": [
       "<folium.folium.Map at 0x254fb916438>"
      ]
     },
     "execution_count": 302,
     "metadata": {},
     "output_type": "execute_result"
    }
   ],
   "source": [
    "folium.CircleMarker(\n",
    "        c1,\n",
    "        radius=5,\n",
    "        color='black',\n",
    "        fill=True,\n",
    "        fill_color='black',\n",
    "        fill_opacity=0.7,\n",
    "        parse_html=False).add_to(NY_map2)  \n",
    "    \n",
    "NY_map2"
   ]
  },
  {
   "cell_type": "markdown",
   "metadata": {},
   "source": [
    "Both considering the density of population and the destribution of other restaurants, we find the point c1 can fullfill the condition. Thus we can finally get the conclusion that our restaurant can open at c1[ 43.73575162, -79.4973781 ]"
   ]
  },
  {
   "cell_type": "code",
   "execution_count": null,
   "metadata": {},
   "outputs": [],
   "source": [
    "#只用一次循环的原因：找到与c1 c2最近的点，求出新中心点"
   ]
  },
  {
   "cell_type": "code",
   "execution_count": 312,
   "metadata": {
    "scrolled": true
   },
   "outputs": [
    {
     "data": {
      "text/html": [
       "<div style=\"width:100%;\"><div style=\"position:relative;width:100%;height:0;padding-bottom:60%;\"><iframe src=\"about:blank\" style=\"position:absolute;width:100%;height:100%;left:0;top:0;border:none !important;\" data-html=PCFET0NUWVBFIGh0bWw+CjxoZWFkPiAgICAKICAgIDxtZXRhIGh0dHAtZXF1aXY9ImNvbnRlbnQtdHlwZSIgY29udGVudD0idGV4dC9odG1sOyBjaGFyc2V0PVVURi04IiAvPgogICAgCiAgICAgICAgPHNjcmlwdD4KICAgICAgICAgICAgTF9OT19UT1VDSCA9IGZhbHNlOwogICAgICAgICAgICBMX0RJU0FCTEVfM0QgPSBmYWxzZTsKICAgICAgICA8L3NjcmlwdD4KICAgIAogICAgPHNjcmlwdCBzcmM9Imh0dHBzOi8vY2RuLmpzZGVsaXZyLm5ldC9ucG0vbGVhZmxldEAxLjUuMS9kaXN0L2xlYWZsZXQuanMiPjwvc2NyaXB0PgogICAgPHNjcmlwdCBzcmM9Imh0dHBzOi8vY29kZS5qcXVlcnkuY29tL2pxdWVyeS0xLjEyLjQubWluLmpzIj48L3NjcmlwdD4KICAgIDxzY3JpcHQgc3JjPSJodHRwczovL21heGNkbi5ib290c3RyYXBjZG4uY29tL2Jvb3RzdHJhcC8zLjIuMC9qcy9ib290c3RyYXAubWluLmpzIj48L3NjcmlwdD4KICAgIDxzY3JpcHQgc3JjPSJodHRwczovL2NkbmpzLmNsb3VkZmxhcmUuY29tL2FqYXgvbGlicy9MZWFmbGV0LmF3ZXNvbWUtbWFya2Vycy8yLjAuMi9sZWFmbGV0LmF3ZXNvbWUtbWFya2Vycy5qcyI+PC9zY3JpcHQ+CiAgICA8bGluayByZWw9InN0eWxlc2hlZXQiIGhyZWY9Imh0dHBzOi8vY2RuLmpzZGVsaXZyLm5ldC9ucG0vbGVhZmxldEAxLjUuMS9kaXN0L2xlYWZsZXQuY3NzIi8+CiAgICA8bGluayByZWw9InN0eWxlc2hlZXQiIGhyZWY9Imh0dHBzOi8vbWF4Y2RuLmJvb3RzdHJhcGNkbi5jb20vYm9vdHN0cmFwLzMuMi4wL2Nzcy9ib290c3RyYXAubWluLmNzcyIvPgogICAgPGxpbmsgcmVsPSJzdHlsZXNoZWV0IiBocmVmPSJodHRwczovL21heGNkbi5ib290c3RyYXBjZG4uY29tL2Jvb3RzdHJhcC8zLjIuMC9jc3MvYm9vdHN0cmFwLXRoZW1lLm1pbi5jc3MiLz4KICAgIDxsaW5rIHJlbD0ic3R5bGVzaGVldCIgaHJlZj0iaHR0cHM6Ly9tYXhjZG4uYm9vdHN0cmFwY2RuLmNvbS9mb250LWF3ZXNvbWUvNC42LjMvY3NzL2ZvbnQtYXdlc29tZS5taW4uY3NzIi8+CiAgICA8bGluayByZWw9InN0eWxlc2hlZXQiIGhyZWY9Imh0dHBzOi8vY2RuanMuY2xvdWRmbGFyZS5jb20vYWpheC9saWJzL0xlYWZsZXQuYXdlc29tZS1tYXJrZXJzLzIuMC4yL2xlYWZsZXQuYXdlc29tZS1tYXJrZXJzLmNzcyIvPgogICAgPGxpbmsgcmVsPSJzdHlsZXNoZWV0IiBocmVmPSJodHRwczovL3Jhd2Nkbi5naXRoYWNrLmNvbS9weXRob24tdmlzdWFsaXphdGlvbi9mb2xpdW0vbWFzdGVyL2ZvbGl1bS90ZW1wbGF0ZXMvbGVhZmxldC5hd2Vzb21lLnJvdGF0ZS5jc3MiLz4KICAgIDxzdHlsZT5odG1sLCBib2R5IHt3aWR0aDogMTAwJTtoZWlnaHQ6IDEwMCU7bWFyZ2luOiAwO3BhZGRpbmc6IDA7fTwvc3R5bGU+CiAgICA8c3R5bGU+I21hcCB7cG9zaXRpb246YWJzb2x1dGU7dG9wOjA7Ym90dG9tOjA7cmlnaHQ6MDtsZWZ0OjA7fTwvc3R5bGU+CiAgICAKICAgICAgICAgICAgPG1ldGEgbmFtZT0idmlld3BvcnQiIGNvbnRlbnQ9IndpZHRoPWRldmljZS13aWR0aCwKICAgICAgICAgICAgICAgIGluaXRpYWwtc2NhbGU9MS4wLCBtYXhpbXVtLXNjYWxlPTEuMCwgdXNlci1zY2FsYWJsZT1ubyIgLz4KICAgICAgICAgICAgPHN0eWxlPgogICAgICAgICAgICAgICAgI21hcF80NGRiMTI2N2M1NGY0YjE2OTAxM2JjNjliNzE5NDgwYSB7CiAgICAgICAgICAgICAgICAgICAgcG9zaXRpb246IHJlbGF0aXZlOwogICAgICAgICAgICAgICAgICAgIHdpZHRoOiAxMDAuMCU7CiAgICAgICAgICAgICAgICAgICAgaGVpZ2h0OiAxMDAuMCU7CiAgICAgICAgICAgICAgICAgICAgbGVmdDogMC4wJTsKICAgICAgICAgICAgICAgICAgICB0b3A6IDAuMCU7CiAgICAgICAgICAgICAgICB9CiAgICAgICAgICAgIDwvc3R5bGU+CiAgICAgICAgCjwvaGVhZD4KPGJvZHk+ICAgIAogICAgCiAgICAgICAgICAgIDxkaXYgY2xhc3M9ImZvbGl1bS1tYXAiIGlkPSJtYXBfNDRkYjEyNjdjNTRmNGIxNjkwMTNiYzY5YjcxOTQ4MGEiID48L2Rpdj4KICAgICAgICAKPC9ib2R5Pgo8c2NyaXB0PiAgICAKICAgIAogICAgICAgICAgICB2YXIgbWFwXzQ0ZGIxMjY3YzU0ZjRiMTY5MDEzYmM2OWI3MTk0ODBhID0gTC5tYXAoCiAgICAgICAgICAgICAgICAibWFwXzQ0ZGIxMjY3YzU0ZjRiMTY5MDEzYmM2OWI3MTk0ODBhIiwKICAgICAgICAgICAgICAgIHsKICAgICAgICAgICAgICAgICAgICBjZW50ZXI6IFs0My43NTQzMjYzLCAtNzkuNDQ5MTE2OTY2Mzk1OTNdLAogICAgICAgICAgICAgICAgICAgIGNyczogTC5DUlMuRVBTRzM4NTcsCiAgICAgICAgICAgICAgICAgICAgem9vbTogMTEsCiAgICAgICAgICAgICAgICAgICAgem9vbUNvbnRyb2w6IHRydWUsCiAgICAgICAgICAgICAgICAgICAgcHJlZmVyQ2FudmFzOiBmYWxzZSwKICAgICAgICAgICAgICAgIH0KICAgICAgICAgICAgKTsKCiAgICAgICAgICAgIAoKICAgICAgICAKICAgIAogICAgICAgICAgICB2YXIgdGlsZV9sYXllcl80YmFlMTQ1YjVmOTU0MzE5YWM1ZmQ5NDJkM2Y3NjZlOCA9IEwudGlsZUxheWVyKAogICAgICAgICAgICAgICAgImh0dHBzOi8ve3N9LnRpbGUub3BlbnN0cmVldG1hcC5vcmcve3p9L3t4fS97eX0ucG5nIiwKICAgICAgICAgICAgICAgIHsiYXR0cmlidXRpb24iOiAiRGF0YSBieSBcdTAwMjZjb3B5OyBcdTAwM2NhIGhyZWY9XCJodHRwOi8vb3BlbnN0cmVldG1hcC5vcmdcIlx1MDAzZU9wZW5TdHJlZXRNYXBcdTAwM2MvYVx1MDAzZSwgdW5kZXIgXHUwMDNjYSBocmVmPVwiaHR0cDovL3d3dy5vcGVuc3RyZWV0bWFwLm9yZy9jb3B5cmlnaHRcIlx1MDAzZU9EYkxcdTAwM2MvYVx1MDAzZS4iLCAiZGV0ZWN0UmV0aW5hIjogZmFsc2UsICJtYXhOYXRpdmVab29tIjogMTgsICJtYXhab29tIjogMTgsICJtaW5ab29tIjogMCwgIm5vV3JhcCI6IGZhbHNlLCAib3BhY2l0eSI6IDEsICJzdWJkb21haW5zIjogImFiYyIsICJ0bXMiOiBmYWxzZX0KICAgICAgICAgICAgKS5hZGRUbyhtYXBfNDRkYjEyNjdjNTRmNGIxNjkwMTNiYzY5YjcxOTQ4MGEpOwogICAgICAgIAogICAgCiAgICAgICAgICAgIHZhciBjaXJjbGVfbWFya2VyX2IyOTFmZWVmMDc2ZTQzNDI4NGFjZGFiOTQ4ZWMzZjczID0gTC5jaXJjbGVNYXJrZXIoCiAgICAgICAgICAgICAgICBbNDMuNzUzMjU4NiwgLTc5LjMyOTY1NjVdLAogICAgICAgICAgICAgICAgeyJidWJibGluZ01vdXNlRXZlbnRzIjogdHJ1ZSwgImNvbG9yIjogImJsdWUiLCAiZGFzaEFycmF5IjogbnVsbCwgImRhc2hPZmZzZXQiOiBudWxsLCAiZmlsbCI6IHRydWUsICJmaWxsQ29sb3IiOiAiIzMxODZjYyIsICJmaWxsT3BhY2l0eSI6IDAuNywgImZpbGxSdWxlIjogImV2ZW5vZGQiLCAibGluZUNhcCI6ICJyb3VuZCIsICJsaW5lSm9pbiI6ICJyb3VuZCIsICJvcGFjaXR5IjogMS4wLCAicmFkaXVzIjogNSwgInN0cm9rZSI6IHRydWUsICJ3ZWlnaHQiOiAzfQogICAgICAgICAgICApLmFkZFRvKG1hcF80NGRiMTI2N2M1NGY0YjE2OTAxM2JjNjliNzE5NDgwYSk7CiAgICAgICAgCiAgICAKICAgICAgICB2YXIgcG9wdXBfMjYwMDFhYmM5Y2NmNDJhZDkzYjAxYjdjYmMxMjA2YjQgPSBMLnBvcHVwKHsibWF4V2lkdGgiOiAiMTAwJSJ9KTsKCiAgICAgICAgCiAgICAgICAgICAgIHZhciBodG1sXzE1YTA3NDQ2MjA4YzRiN2Y4ZGIzOGVhYjE0NjEwMWM5ID0gJChgPGRpdiBpZD0iaHRtbF8xNWEwNzQ0NjIwOGM0YjdmOGRiMzhlYWIxNDYxMDFjOSIgc3R5bGU9IndpZHRoOiAxMDAuMCU7IGhlaWdodDogMTAwLjAlOyI+UGFya3dvb2RzPC9kaXY+YClbMF07CiAgICAgICAgICAgIHBvcHVwXzI2MDAxYWJjOWNjZjQyYWQ5M2IwMWI3Y2JjMTIwNmI0LnNldENvbnRlbnQoaHRtbF8xNWEwNzQ0NjIwOGM0YjdmOGRiMzhlYWIxNDYxMDFjOSk7CiAgICAgICAgCgogICAgICAgIGNpcmNsZV9tYXJrZXJfYjI5MWZlZWYwNzZlNDM0Mjg0YWNkYWI5NDhlYzNmNzMuYmluZFBvcHVwKHBvcHVwXzI2MDAxYWJjOWNjZjQyYWQ5M2IwMWI3Y2JjMTIwNmI0KQogICAgICAgIDsKCiAgICAgICAgCiAgICAKICAgIAogICAgICAgICAgICB2YXIgY2lyY2xlX21hcmtlcl82Yjc4OTA4NWY2MGY0ZWM2YjI5MjBlZWRlYjIyYmZlNiA9IEwuY2lyY2xlTWFya2VyKAogICAgICAgICAgICAgICAgWzQzLjcyNTg4MjI5OTk5OTk5NSwgLTc5LjMxNTU3MTU5OTk5OTk4XSwKICAgICAgICAgICAgICAgIHsiYnViYmxpbmdNb3VzZUV2ZW50cyI6IHRydWUsICJjb2xvciI6ICJibHVlIiwgImRhc2hBcnJheSI6IG51bGwsICJkYXNoT2Zmc2V0IjogbnVsbCwgImZpbGwiOiB0cnVlLCAiZmlsbENvbG9yIjogIiMzMTg2Y2MiLCAiZmlsbE9wYWNpdHkiOiAwLjcsICJmaWxsUnVsZSI6ICJldmVub2RkIiwgImxpbmVDYXAiOiAicm91bmQiLCAibGluZUpvaW4iOiAicm91bmQiLCAib3BhY2l0eSI6IDEuMCwgInJhZGl1cyI6IDUsICJzdHJva2UiOiB0cnVlLCAid2VpZ2h0IjogM30KICAgICAgICAgICAgKS5hZGRUbyhtYXBfNDRkYjEyNjdjNTRmNGIxNjkwMTNiYzY5YjcxOTQ4MGEpOwogICAgICAgIAogICAgCiAgICAgICAgdmFyIHBvcHVwXzcyNWEyZGViMWVjZDQwNzk5ZjQ1ZDcyZDk4MzNhNzQxID0gTC5wb3B1cCh7Im1heFdpZHRoIjogIjEwMCUifSk7CgogICAgICAgIAogICAgICAgICAgICB2YXIgaHRtbF8xOWQ1M2U5YTM2YjA0YjAyOTRjYTI5OTFlOTZkYzhkZSA9ICQoYDxkaXYgaWQ9Imh0bWxfMTlkNTNlOWEzNmIwNGIwMjk0Y2EyOTkxZTk2ZGM4ZGUiIHN0eWxlPSJ3aWR0aDogMTAwLjAlOyBoZWlnaHQ6IDEwMC4wJTsiPlZpY3RvcmlhIFZpbGxhZ2U8L2Rpdj5gKVswXTsKICAgICAgICAgICAgcG9wdXBfNzI1YTJkZWIxZWNkNDA3OTlmNDVkNzJkOTgzM2E3NDEuc2V0Q29udGVudChodG1sXzE5ZDUzZTlhMzZiMDRiMDI5NGNhMjk5MWU5NmRjOGRlKTsKICAgICAgICAKCiAgICAgICAgY2lyY2xlX21hcmtlcl82Yjc4OTA4NWY2MGY0ZWM2YjI5MjBlZWRlYjIyYmZlNi5iaW5kUG9wdXAocG9wdXBfNzI1YTJkZWIxZWNkNDA3OTlmNDVkNzJkOTgzM2E3NDEpCiAgICAgICAgOwoKICAgICAgICAKICAgIAogICAgCiAgICAgICAgICAgIHZhciBjaXJjbGVfbWFya2VyX2M1OGIyMGYzNjU2ZjRkZGY5YWI2MzcxODBlNWRjMDA4ID0gTC5jaXJjbGVNYXJrZXIoCiAgICAgICAgICAgICAgICBbNDMuNzE4NTE3OTk5OTk5OTk2LCAtNzkuNDY0NzYzMjk5OTk5OTldLAogICAgICAgICAgICAgICAgeyJidWJibGluZ01vdXNlRXZlbnRzIjogdHJ1ZSwgImNvbG9yIjogImJsdWUiLCAiZGFzaEFycmF5IjogbnVsbCwgImRhc2hPZmZzZXQiOiBudWxsLCAiZmlsbCI6IHRydWUsICJmaWxsQ29sb3IiOiAiIzMxODZjYyIsICJmaWxsT3BhY2l0eSI6IDAuNywgImZpbGxSdWxlIjogImV2ZW5vZGQiLCAibGluZUNhcCI6ICJyb3VuZCIsICJsaW5lSm9pbiI6ICJyb3VuZCIsICJvcGFjaXR5IjogMS4wLCAicmFkaXVzIjogNSwgInN0cm9rZSI6IHRydWUsICJ3ZWlnaHQiOiAzfQogICAgICAgICAgICApLmFkZFRvKG1hcF80NGRiMTI2N2M1NGY0YjE2OTAxM2JjNjliNzE5NDgwYSk7CiAgICAgICAgCiAgICAKICAgICAgICB2YXIgcG9wdXBfYWM2YTkzNzUxNGU1NDNlYzk5ZWQwMDU2MjAxZjFkZmUgPSBMLnBvcHVwKHsibWF4V2lkdGgiOiAiMTAwJSJ9KTsKCiAgICAgICAgCiAgICAgICAgICAgIHZhciBodG1sXzIzZjJmOGRkZGRjYzQwZmQ4MTllMWJmYWUwMmU5ZGMzID0gJChgPGRpdiBpZD0iaHRtbF8yM2YyZjhkZGRkY2M0MGZkODE5ZTFiZmFlMDJlOWRjMyIgc3R5bGU9IndpZHRoOiAxMDAuMCU7IGhlaWdodDogMTAwLjAlOyI+TGF3cmVuY2UgTWFub3IsTGF3cmVuY2UgSGVpZ2h0czwvZGl2PmApWzBdOwogICAgICAgICAgICBwb3B1cF9hYzZhOTM3NTE0ZTU0M2VjOTllZDAwNTYyMDFmMWRmZS5zZXRDb250ZW50KGh0bWxfMjNmMmY4ZGRkZGNjNDBmZDgxOWUxYmZhZTAyZTlkYzMpOwogICAgICAgIAoKICAgICAgICBjaXJjbGVfbWFya2VyX2M1OGIyMGYzNjU2ZjRkZGY5YWI2MzcxODBlNWRjMDA4LmJpbmRQb3B1cChwb3B1cF9hYzZhOTM3NTE0ZTU0M2VjOTllZDAwNTYyMDFmMWRmZSkKICAgICAgICA7CgogICAgICAgIAogICAgCiAgICAKICAgICAgICAgICAgdmFyIGNpcmNsZV9tYXJrZXJfYjlmNTViNzMxNjRjNDY5NDk5OTRhOWM5ODI5YTQyZTcgPSBMLmNpcmNsZU1hcmtlcigKICAgICAgICAgICAgICAgIFs0My43NDU5MDU3OTk5OTk5OTYsIC03OS4zNTIxODhdLAogICAgICAgICAgICAgICAgeyJidWJibGluZ01vdXNlRXZlbnRzIjogdHJ1ZSwgImNvbG9yIjogImJsdWUiLCAiZGFzaEFycmF5IjogbnVsbCwgImRhc2hPZmZzZXQiOiBudWxsLCAiZmlsbCI6IHRydWUsICJmaWxsQ29sb3IiOiAiIzMxODZjYyIsICJmaWxsT3BhY2l0eSI6IDAuNywgImZpbGxSdWxlIjogImV2ZW5vZGQiLCAibGluZUNhcCI6ICJyb3VuZCIsICJsaW5lSm9pbiI6ICJyb3VuZCIsICJvcGFjaXR5IjogMS4wLCAicmFkaXVzIjogNSwgInN0cm9rZSI6IHRydWUsICJ3ZWlnaHQiOiAzfQogICAgICAgICAgICApLmFkZFRvKG1hcF80NGRiMTI2N2M1NGY0YjE2OTAxM2JjNjliNzE5NDgwYSk7CiAgICAgICAgCiAgICAKICAgICAgICB2YXIgcG9wdXBfYzljNDcwYjEwYzllNDI0MDlmYWYwMzI5YTg0MDEwOWEgPSBMLnBvcHVwKHsibWF4V2lkdGgiOiAiMTAwJSJ9KTsKCiAgICAgICAgCiAgICAgICAgICAgIHZhciBodG1sXzU4OTUxMTI5OTFhYzRhODdiOWE1MTk4OTA2ZmZjYzAyID0gJChgPGRpdiBpZD0iaHRtbF81ODk1MTEyOTkxYWM0YTg3YjlhNTE5ODkwNmZmY2MwMiIgc3R5bGU9IndpZHRoOiAxMDAuMCU7IGhlaWdodDogMTAwLjAlOyI+RG9uIE1pbGxzPC9kaXY+YClbMF07CiAgICAgICAgICAgIHBvcHVwX2M5YzQ3MGIxMGM5ZTQyNDA5ZmFmMDMyOWE4NDAxMDlhLnNldENvbnRlbnQoaHRtbF81ODk1MTEyOTkxYWM0YTg3YjlhNTE5ODkwNmZmY2MwMik7CiAgICAgICAgCgogICAgICAgIGNpcmNsZV9tYXJrZXJfYjlmNTViNzMxNjRjNDY5NDk5OTRhOWM5ODI5YTQyZTcuYmluZFBvcHVwKHBvcHVwX2M5YzQ3MGIxMGM5ZTQyNDA5ZmFmMDMyOWE4NDAxMDlhKQogICAgICAgIDsKCiAgICAgICAgCiAgICAKICAgIAogICAgICAgICAgICB2YXIgY2lyY2xlX21hcmtlcl9lYWY3Nzk3MDA3NTM0M2ZjYjk0ZjViY2YwM2MyYTg4MCA9IEwuY2lyY2xlTWFya2VyKAogICAgICAgICAgICAgICAgWzQzLjcwOTU3NywgLTc5LjQ0NTA3MjU5OTk5OTk5XSwKICAgICAgICAgICAgICAgIHsiYnViYmxpbmdNb3VzZUV2ZW50cyI6IHRydWUsICJjb2xvciI6ICJibHVlIiwgImRhc2hBcnJheSI6IG51bGwsICJkYXNoT2Zmc2V0IjogbnVsbCwgImZpbGwiOiB0cnVlLCAiZmlsbENvbG9yIjogIiMzMTg2Y2MiLCAiZmlsbE9wYWNpdHkiOiAwLjcsICJmaWxsUnVsZSI6ICJldmVub2RkIiwgImxpbmVDYXAiOiAicm91bmQiLCAibGluZUpvaW4iOiAicm91bmQiLCAib3BhY2l0eSI6IDEuMCwgInJhZGl1cyI6IDUsICJzdHJva2UiOiB0cnVlLCAid2VpZ2h0IjogM30KICAgICAgICAgICAgKS5hZGRUbyhtYXBfNDRkYjEyNjdjNTRmNGIxNjkwMTNiYzY5YjcxOTQ4MGEpOwogICAgICAgIAogICAgCiAgICAgICAgdmFyIHBvcHVwX2M4M2Q1NGE3NjcxYjQ3N2Q4NjY3YTU4MTBkZDI4MGFmID0gTC5wb3B1cCh7Im1heFdpZHRoIjogIjEwMCUifSk7CgogICAgICAgIAogICAgICAgICAgICB2YXIgaHRtbF9hNGQxOTM5ZmJhNzg0Yzg2ODMyZjk3OTEyZWIzMjc5OCA9ICQoYDxkaXYgaWQ9Imh0bWxfYTRkMTkzOWZiYTc4NGM4NjgzMmY5NzkxMmViMzI3OTgiIHN0eWxlPSJ3aWR0aDogMTAwLjAlOyBoZWlnaHQ6IDEwMC4wJTsiPkdsZW5jYWlybjwvZGl2PmApWzBdOwogICAgICAgICAgICBwb3B1cF9jODNkNTRhNzY3MWI0NzdkODY2N2E1ODEwZGQyODBhZi5zZXRDb250ZW50KGh0bWxfYTRkMTkzOWZiYTc4NGM4NjgzMmY5NzkxMmViMzI3OTgpOwogICAgICAgIAoKICAgICAgICBjaXJjbGVfbWFya2VyX2VhZjc3OTcwMDc1MzQzZmNiOTRmNWJjZjAzYzJhODgwLmJpbmRQb3B1cChwb3B1cF9jODNkNTRhNzY3MWI0NzdkODY2N2E1ODEwZGQyODBhZikKICAgICAgICA7CgogICAgICAgIAogICAgCiAgICAKICAgICAgICAgICAgdmFyIGNpcmNsZV9tYXJrZXJfZTMzYmZjMzdkYjAwNDYyNjgyMjcxYjE2ZTE1NDlhYjggPSBMLmNpcmNsZU1hcmtlcigKICAgICAgICAgICAgICAgIFs0My43MjU4OTk3MDAwMDAwMSwgLTc5LjM0MDkyM10sCiAgICAgICAgICAgICAgICB7ImJ1YmJsaW5nTW91c2VFdmVudHMiOiB0cnVlLCAiY29sb3IiOiAiYmx1ZSIsICJkYXNoQXJyYXkiOiBudWxsLCAiZGFzaE9mZnNldCI6IG51bGwsICJmaWxsIjogdHJ1ZSwgImZpbGxDb2xvciI6ICIjMzE4NmNjIiwgImZpbGxPcGFjaXR5IjogMC43LCAiZmlsbFJ1bGUiOiAiZXZlbm9kZCIsICJsaW5lQ2FwIjogInJvdW5kIiwgImxpbmVKb2luIjogInJvdW5kIiwgIm9wYWNpdHkiOiAxLjAsICJyYWRpdXMiOiA1LCAic3Ryb2tlIjogdHJ1ZSwgIndlaWdodCI6IDN9CiAgICAgICAgICAgICkuYWRkVG8obWFwXzQ0ZGIxMjY3YzU0ZjRiMTY5MDEzYmM2OWI3MTk0ODBhKTsKICAgICAgICAKICAgIAogICAgICAgIHZhciBwb3B1cF9mNmRjZTA0ODVlNDA0OTE4YTliNjdmZGE5Y2E3NzY1OCA9IEwucG9wdXAoeyJtYXhXaWR0aCI6ICIxMDAlIn0pOwoKICAgICAgICAKICAgICAgICAgICAgdmFyIGh0bWxfYjdlMjYxM2JmZGI2NGUzZWE2ZDY5OTg4YWNjZGFmY2YgPSAkKGA8ZGl2IGlkPSJodG1sX2I3ZTI2MTNiZmRiNjRlM2VhNmQ2OTk4OGFjY2RhZmNmIiBzdHlsZT0id2lkdGg6IDEwMC4wJTsgaGVpZ2h0OiAxMDAuMCU7Ij5Eb24gTWlsbHM8L2Rpdj5gKVswXTsKICAgICAgICAgICAgcG9wdXBfZjZkY2UwNDg1ZTQwNDkxOGE5YjY3ZmRhOWNhNzc2NTguc2V0Q29udGVudChodG1sX2I3ZTI2MTNiZmRiNjRlM2VhNmQ2OTk4OGFjY2RhZmNmKTsKICAgICAgICAKCiAgICAgICAgY2lyY2xlX21hcmtlcl9lMzNiZmMzN2RiMDA0NjI2ODIyNzFiMTZlMTU0OWFiOC5iaW5kUG9wdXAocG9wdXBfZjZkY2UwNDg1ZTQwNDkxOGE5YjY3ZmRhOWNhNzc2NTgpCiAgICAgICAgOwoKICAgICAgICAKICAgIAogICAgCiAgICAgICAgICAgIHZhciBjaXJjbGVfbWFya2VyXzQxMGZkMmUzMTA3OTRhMzhiNTc0ZWJlM2IzNGIwMGNmID0gTC5jaXJjbGVNYXJrZXIoCiAgICAgICAgICAgICAgICBbNDMuODAzNzYyMiwgLTc5LjM2MzQ1MTddLAogICAgICAgICAgICAgICAgeyJidWJibGluZ01vdXNlRXZlbnRzIjogdHJ1ZSwgImNvbG9yIjogImJsdWUiLCAiZGFzaEFycmF5IjogbnVsbCwgImRhc2hPZmZzZXQiOiBudWxsLCAiZmlsbCI6IHRydWUsICJmaWxsQ29sb3IiOiAiIzMxODZjYyIsICJmaWxsT3BhY2l0eSI6IDAuNywgImZpbGxSdWxlIjogImV2ZW5vZGQiLCAibGluZUNhcCI6ICJyb3VuZCIsICJsaW5lSm9pbiI6ICJyb3VuZCIsICJvcGFjaXR5IjogMS4wLCAicmFkaXVzIjogNSwgInN0cm9rZSI6IHRydWUsICJ3ZWlnaHQiOiAzfQogICAgICAgICAgICApLmFkZFRvKG1hcF80NGRiMTI2N2M1NGY0YjE2OTAxM2JjNjliNzE5NDgwYSk7CiAgICAgICAgCiAgICAKICAgICAgICB2YXIgcG9wdXBfYjM4OThiNTc5YTZlNDAzZjhlNTFlN2M1NmNiOTEzMmEgPSBMLnBvcHVwKHsibWF4V2lkdGgiOiAiMTAwJSJ9KTsKCiAgICAgICAgCiAgICAgICAgICAgIHZhciBodG1sXzE0OTM4MWMyOTQ5NTQ4ZGRhZjRjMDk2MzU5OTY1NTJhID0gJChgPGRpdiBpZD0iaHRtbF8xNDkzODFjMjk0OTU0OGRkYWY0YzA5NjM1OTk2NTUyYSIgc3R5bGU9IndpZHRoOiAxMDAuMCU7IGhlaWdodDogMTAwLjAlOyI+SGlsbGNyZXN0IFZpbGxhZ2U8L2Rpdj5gKVswXTsKICAgICAgICAgICAgcG9wdXBfYjM4OThiNTc5YTZlNDAzZjhlNTFlN2M1NmNiOTEzMmEuc2V0Q29udGVudChodG1sXzE0OTM4MWMyOTQ5NTQ4ZGRhZjRjMDk2MzU5OTY1NTJhKTsKICAgICAgICAKCiAgICAgICAgY2lyY2xlX21hcmtlcl80MTBmZDJlMzEwNzk0YTM4YjU3NGViZTNiMzRiMDBjZi5iaW5kUG9wdXAocG9wdXBfYjM4OThiNTc5YTZlNDAzZjhlNTFlN2M1NmNiOTEzMmEpCiAgICAgICAgOwoKICAgICAgICAKICAgIAogICAgCiAgICAgICAgICAgIHZhciBjaXJjbGVfbWFya2VyX2M4MTQ3YTdkODU4MDRjMDc5YjUzM2M1ZGJhMGM2YTJjID0gTC5jaXJjbGVNYXJrZXIoCiAgICAgICAgICAgICAgICBbNDMuNzU0MzI4MywgLTc5LjQ0MjI1OTNdLAogICAgICAgICAgICAgICAgeyJidWJibGluZ01vdXNlRXZlbnRzIjogdHJ1ZSwgImNvbG9yIjogImJsdWUiLCAiZGFzaEFycmF5IjogbnVsbCwgImRhc2hPZmZzZXQiOiBudWxsLCAiZmlsbCI6IHRydWUsICJmaWxsQ29sb3IiOiAiIzMxODZjYyIsICJmaWxsT3BhY2l0eSI6IDAuNywgImZpbGxSdWxlIjogImV2ZW5vZGQiLCAibGluZUNhcCI6ICJyb3VuZCIsICJsaW5lSm9pbiI6ICJyb3VuZCIsICJvcGFjaXR5IjogMS4wLCAicmFkaXVzIjogNSwgInN0cm9rZSI6IHRydWUsICJ3ZWlnaHQiOiAzfQogICAgICAgICAgICApLmFkZFRvKG1hcF80NGRiMTI2N2M1NGY0YjE2OTAxM2JjNjliNzE5NDgwYSk7CiAgICAgICAgCiAgICAKICAgICAgICB2YXIgcG9wdXBfNTA5ZjJhMjNlZjFjNGVjMmE4ODVjNDY1N2FiYjQ1ZmEgPSBMLnBvcHVwKHsibWF4V2lkdGgiOiAiMTAwJSJ9KTsKCiAgICAgICAgCiAgICAgICAgICAgIHZhciBodG1sX2ZlNWQwZWY2ZGZiNjRmNzliNDMxNzAwNGU0ODI4YTE0ID0gJChgPGRpdiBpZD0iaHRtbF9mZTVkMGVmNmRmYjY0Zjc5YjQzMTcwMDRlNDgyOGExNCIgc3R5bGU9IndpZHRoOiAxMDAuMCU7IGhlaWdodDogMTAwLjAlOyI+QmF0aHVyc3QgTWFub3IsV2lsc29uIEhlaWdodHMsRG93bnN2aWV3IE5vcnRoPC9kaXY+YClbMF07CiAgICAgICAgICAgIHBvcHVwXzUwOWYyYTIzZWYxYzRlYzJhODg1YzQ2NTdhYmI0NWZhLnNldENvbnRlbnQoaHRtbF9mZTVkMGVmNmRmYjY0Zjc5YjQzMTcwMDRlNDgyOGExNCk7CiAgICAgICAgCgogICAgICAgIGNpcmNsZV9tYXJrZXJfYzgxNDdhN2Q4NTgwNGMwNzliNTMzYzVkYmEwYzZhMmMuYmluZFBvcHVwKHBvcHVwXzUwOWYyYTIzZWYxYzRlYzJhODg1YzQ2NTdhYmI0NWZhKQogICAgICAgIDsKCiAgICAgICAgCiAgICAKICAgIAogICAgICAgICAgICB2YXIgY2lyY2xlX21hcmtlcl8wMWYzZTNjODk1NWM0ODJkYTRjMWI2MjJmOGQxMjFkOSA9IEwuY2lyY2xlTWFya2VyKAogICAgICAgICAgICAgICAgWzQzLjc3ODUxNzUsIC03OS4zNDY1NTU3XSwKICAgICAgICAgICAgICAgIHsiYnViYmxpbmdNb3VzZUV2ZW50cyI6IHRydWUsICJjb2xvciI6ICJibHVlIiwgImRhc2hBcnJheSI6IG51bGwsICJkYXNoT2Zmc2V0IjogbnVsbCwgImZpbGwiOiB0cnVlLCAiZmlsbENvbG9yIjogIiMzMTg2Y2MiLCAiZmlsbE9wYWNpdHkiOiAwLjcsICJmaWxsUnVsZSI6ICJldmVub2RkIiwgImxpbmVDYXAiOiAicm91bmQiLCAibGluZUpvaW4iOiAicm91bmQiLCAib3BhY2l0eSI6IDEuMCwgInJhZGl1cyI6IDUsICJzdHJva2UiOiB0cnVlLCAid2VpZ2h0IjogM30KICAgICAgICAgICAgKS5hZGRUbyhtYXBfNDRkYjEyNjdjNTRmNGIxNjkwMTNiYzY5YjcxOTQ4MGEpOwogICAgICAgIAogICAgCiAgICAgICAgdmFyIHBvcHVwX2IyMjIzYmZmMDBlNDQ0ODJhYmUyZDAxNmQyYjg1NzFiID0gTC5wb3B1cCh7Im1heFdpZHRoIjogIjEwMCUifSk7CgogICAgICAgIAogICAgICAgICAgICB2YXIgaHRtbF83ZDRiMDQyYjMzNzQ0ZmY4YTBlYzUzOWI5ZjdkMmYzYSA9ICQoYDxkaXYgaWQ9Imh0bWxfN2Q0YjA0MmIzMzc0NGZmOGEwZWM1MzliOWY3ZDJmM2EiIHN0eWxlPSJ3aWR0aDogMTAwLjAlOyBoZWlnaHQ6IDEwMC4wJTsiPkZhaXJ2aWV3LEhlbnJ5IEZhcm0sT3Jpb2xlPC9kaXY+YClbMF07CiAgICAgICAgICAgIHBvcHVwX2IyMjIzYmZmMDBlNDQ0ODJhYmUyZDAxNmQyYjg1NzFiLnNldENvbnRlbnQoaHRtbF83ZDRiMDQyYjMzNzQ0ZmY4YTBlYzUzOWI5ZjdkMmYzYSk7CiAgICAgICAgCgogICAgICAgIGNpcmNsZV9tYXJrZXJfMDFmM2UzYzg5NTVjNDgyZGE0YzFiNjIyZjhkMTIxZDkuYmluZFBvcHVwKHBvcHVwX2IyMjIzYmZmMDBlNDQ0ODJhYmUyZDAxNmQyYjg1NzFiKQogICAgICAgIDsKCiAgICAgICAgCiAgICAKICAgIAogICAgICAgICAgICB2YXIgY2lyY2xlX21hcmtlcl9kODBlOTc1OTMyM2Y0NzA0YWUwNzY1N2Y0NWI5Y2QxNiA9IEwuY2lyY2xlTWFya2VyKAogICAgICAgICAgICAgICAgWzQzLjc2Nzk4MDMsIC03OS40ODcyNjE5MDAwMDAwMV0sCiAgICAgICAgICAgICAgICB7ImJ1YmJsaW5nTW91c2VFdmVudHMiOiB0cnVlLCAiY29sb3IiOiAiYmx1ZSIsICJkYXNoQXJyYXkiOiBudWxsLCAiZGFzaE9mZnNldCI6IG51bGwsICJmaWxsIjogdHJ1ZSwgImZpbGxDb2xvciI6ICIjMzE4NmNjIiwgImZpbGxPcGFjaXR5IjogMC43LCAiZmlsbFJ1bGUiOiAiZXZlbm9kZCIsICJsaW5lQ2FwIjogInJvdW5kIiwgImxpbmVKb2luIjogInJvdW5kIiwgIm9wYWNpdHkiOiAxLjAsICJyYWRpdXMiOiA1LCAic3Ryb2tlIjogdHJ1ZSwgIndlaWdodCI6IDN9CiAgICAgICAgICAgICkuYWRkVG8obWFwXzQ0ZGIxMjY3YzU0ZjRiMTY5MDEzYmM2OWI3MTk0ODBhKTsKICAgICAgICAKICAgIAogICAgICAgIHZhciBwb3B1cF9hZDBiYWRhNjI2YjA0MjEyOTgwZmIyOWVjMjk4NzA1NSA9IEwucG9wdXAoeyJtYXhXaWR0aCI6ICIxMDAlIn0pOwoKICAgICAgICAKICAgICAgICAgICAgdmFyIGh0bWxfYTNmN2ViMGU3MzNjNGJjN2IwNjg4YzljZDQ3YWY1MzkgPSAkKGA8ZGl2IGlkPSJodG1sX2EzZjdlYjBlNzMzYzRiYzdiMDY4OGM5Y2Q0N2FmNTM5IiBzdHlsZT0id2lkdGg6IDEwMC4wJTsgaGVpZ2h0OiAxMDAuMCU7Ij5Ob3J0aHdvb2QgUGFyayxZb3JrIFVuaXZlcnNpdHk8L2Rpdj5gKVswXTsKICAgICAgICAgICAgcG9wdXBfYWQwYmFkYTYyNmIwNDIxMjk4MGZiMjllYzI5ODcwNTUuc2V0Q29udGVudChodG1sX2EzZjdlYjBlNzMzYzRiYzdiMDY4OGM5Y2Q0N2FmNTM5KTsKICAgICAgICAKCiAgICAgICAgY2lyY2xlX21hcmtlcl9kODBlOTc1OTMyM2Y0NzA0YWUwNzY1N2Y0NWI5Y2QxNi5iaW5kUG9wdXAocG9wdXBfYWQwYmFkYTYyNmIwNDIxMjk4MGZiMjllYzI5ODcwNTUpCiAgICAgICAgOwoKICAgICAgICAKICAgIAogICAgCiAgICAgICAgICAgIHZhciBjaXJjbGVfbWFya2VyX2YyM2MwNzQ1ZDFhMjRkYTY5Nzc5NzUzZTczZmJiOTlhID0gTC5jaXJjbGVNYXJrZXIoCiAgICAgICAgICAgICAgICBbNDMuNzg2OTQ3MywgLTc5LjM4NTk3NV0sCiAgICAgICAgICAgICAgICB7ImJ1YmJsaW5nTW91c2VFdmVudHMiOiB0cnVlLCAiY29sb3IiOiAiYmx1ZSIsICJkYXNoQXJyYXkiOiBudWxsLCAiZGFzaE9mZnNldCI6IG51bGwsICJmaWxsIjogdHJ1ZSwgImZpbGxDb2xvciI6ICIjMzE4NmNjIiwgImZpbGxPcGFjaXR5IjogMC43LCAiZmlsbFJ1bGUiOiAiZXZlbm9kZCIsICJsaW5lQ2FwIjogInJvdW5kIiwgImxpbmVKb2luIjogInJvdW5kIiwgIm9wYWNpdHkiOiAxLjAsICJyYWRpdXMiOiA1LCAic3Ryb2tlIjogdHJ1ZSwgIndlaWdodCI6IDN9CiAgICAgICAgICAgICkuYWRkVG8obWFwXzQ0ZGIxMjY3YzU0ZjRiMTY5MDEzYmM2OWI3MTk0ODBhKTsKICAgICAgICAKICAgIAogICAgICAgIHZhciBwb3B1cF8zYzUzZDk1NTRhNzk0ZTg0YmY1NmY1NzEzZTkyYWUxMSA9IEwucG9wdXAoeyJtYXhXaWR0aCI6ICIxMDAlIn0pOwoKICAgICAgICAKICAgICAgICAgICAgdmFyIGh0bWxfMmI3ZTY5YWQ4OTRkNGE4ZmFhYjUzMWJiM2FlOWRjZGUgPSAkKGA8ZGl2IGlkPSJodG1sXzJiN2U2OWFkODk0ZDRhOGZhYWI1MzFiYjNhZTlkY2RlIiBzdHlsZT0id2lkdGg6IDEwMC4wJTsgaGVpZ2h0OiAxMDAuMCU7Ij5CYXl2aWV3IFZpbGxhZ2U8L2Rpdj5gKVswXTsKICAgICAgICAgICAgcG9wdXBfM2M1M2Q5NTU0YTc5NGU4NGJmNTZmNTcxM2U5MmFlMTEuc2V0Q29udGVudChodG1sXzJiN2U2OWFkODk0ZDRhOGZhYWI1MzFiYjNhZTlkY2RlKTsKICAgICAgICAKCiAgICAgICAgY2lyY2xlX21hcmtlcl9mMjNjMDc0NWQxYTI0ZGE2OTc3OTc1M2U3M2ZiYjk5YS5iaW5kUG9wdXAocG9wdXBfM2M1M2Q5NTU0YTc5NGU4NGJmNTZmNTcxM2U5MmFlMTEpCiAgICAgICAgOwoKICAgICAgICAKICAgIAogICAgCiAgICAgICAgICAgIHZhciBjaXJjbGVfbWFya2VyX2M2OThlNTA1ZTc2ZjRkNGViZTU5ZmNjMjkxMjBjZDQ1ID0gTC5jaXJjbGVNYXJrZXIoCiAgICAgICAgICAgICAgICBbNDMuNzM3NDczMjAwMDAwMDA0LCAtNzkuNDY0NzYzMjk5OTk5OTldLAogICAgICAgICAgICAgICAgeyJidWJibGluZ01vdXNlRXZlbnRzIjogdHJ1ZSwgImNvbG9yIjogImJsdWUiLCAiZGFzaEFycmF5IjogbnVsbCwgImRhc2hPZmZzZXQiOiBudWxsLCAiZmlsbCI6IHRydWUsICJmaWxsQ29sb3IiOiAiIzMxODZjYyIsICJmaWxsT3BhY2l0eSI6IDAuNywgImZpbGxSdWxlIjogImV2ZW5vZGQiLCAibGluZUNhcCI6ICJyb3VuZCIsICJsaW5lSm9pbiI6ICJyb3VuZCIsICJvcGFjaXR5IjogMS4wLCAicmFkaXVzIjogNSwgInN0cm9rZSI6IHRydWUsICJ3ZWlnaHQiOiAzfQogICAgICAgICAgICApLmFkZFRvKG1hcF80NGRiMTI2N2M1NGY0YjE2OTAxM2JjNjliNzE5NDgwYSk7CiAgICAgICAgCiAgICAKICAgICAgICB2YXIgcG9wdXBfNWJjMjJhNmQ4YTJlNDZkYWJiMGYyMDQ3YjBlM2U1YTYgPSBMLnBvcHVwKHsibWF4V2lkdGgiOiAiMTAwJSJ9KTsKCiAgICAgICAgCiAgICAgICAgICAgIHZhciBodG1sXzVjMTMyZDUzNWIyZTRmZmU5ZGM4NWNiY2I2NGZiYTExID0gJChgPGRpdiBpZD0iaHRtbF81YzEzMmQ1MzViMmU0ZmZlOWRjODVjYmNiNjRmYmExMSIgc3R5bGU9IndpZHRoOiAxMDAuMCU7IGhlaWdodDogMTAwLjAlOyI+RG93bnN2aWV3PC9kaXY+YClbMF07CiAgICAgICAgICAgIHBvcHVwXzViYzIyYTZkOGEyZTQ2ZGFiYjBmMjA0N2IwZTNlNWE2LnNldENvbnRlbnQoaHRtbF81YzEzMmQ1MzViMmU0ZmZlOWRjODVjYmNiNjRmYmExMSk7CiAgICAgICAgCgogICAgICAgIGNpcmNsZV9tYXJrZXJfYzY5OGU1MDVlNzZmNGQ0ZWJlNTlmY2MyOTEyMGNkNDUuYmluZFBvcHVwKHBvcHVwXzViYzIyYTZkOGEyZTQ2ZGFiYjBmMjA0N2IwZTNlNWE2KQogICAgICAgIDsKCiAgICAgICAgCiAgICAKICAgIAogICAgICAgICAgICB2YXIgY2lyY2xlX21hcmtlcl8xN2QzNmM0YWZlNzQ0MmM4OWNkMzYyMjU4ODU4MzBkYiA9IEwuY2lyY2xlTWFya2VyKAogICAgICAgICAgICAgICAgWzQzLjc1NzQ5MDIsIC03OS4zNzQ3MTQwOTk5OTk5OV0sCiAgICAgICAgICAgICAgICB7ImJ1YmJsaW5nTW91c2VFdmVudHMiOiB0cnVlLCAiY29sb3IiOiAiYmx1ZSIsICJkYXNoQXJyYXkiOiBudWxsLCAiZGFzaE9mZnNldCI6IG51bGwsICJmaWxsIjogdHJ1ZSwgImZpbGxDb2xvciI6ICIjMzE4NmNjIiwgImZpbGxPcGFjaXR5IjogMC43LCAiZmlsbFJ1bGUiOiAiZXZlbm9kZCIsICJsaW5lQ2FwIjogInJvdW5kIiwgImxpbmVKb2luIjogInJvdW5kIiwgIm9wYWNpdHkiOiAxLjAsICJyYWRpdXMiOiA1LCAic3Ryb2tlIjogdHJ1ZSwgIndlaWdodCI6IDN9CiAgICAgICAgICAgICkuYWRkVG8obWFwXzQ0ZGIxMjY3YzU0ZjRiMTY5MDEzYmM2OWI3MTk0ODBhKTsKICAgICAgICAKICAgIAogICAgICAgIHZhciBwb3B1cF9kZWMwMGY4ZmNiZjE0YTViYjIxYmVhMDI3NzgyZDA0YyA9IEwucG9wdXAoeyJtYXhXaWR0aCI6ICIxMDAlIn0pOwoKICAgICAgICAKICAgICAgICAgICAgdmFyIGh0bWxfYzk2Y2E5NDA4Y2QyNDk5YzhlZDQzNTFkNmZjYjc5OWEgPSAkKGA8ZGl2IGlkPSJodG1sX2M5NmNhOTQwOGNkMjQ5OWM4ZWQ0MzUxZDZmY2I3OTlhIiBzdHlsZT0id2lkdGg6IDEwMC4wJTsgaGVpZ2h0OiAxMDAuMCU7Ij5Zb3JrIE1pbGxzLFNpbHZlciBIaWxsczwvZGl2PmApWzBdOwogICAgICAgICAgICBwb3B1cF9kZWMwMGY4ZmNiZjE0YTViYjIxYmVhMDI3NzgyZDA0Yy5zZXRDb250ZW50KGh0bWxfYzk2Y2E5NDA4Y2QyNDk5YzhlZDQzNTFkNmZjYjc5OWEpOwogICAgICAgIAoKICAgICAgICBjaXJjbGVfbWFya2VyXzE3ZDM2YzRhZmU3NDQyYzg5Y2QzNjIyNTg4NTgzMGRiLmJpbmRQb3B1cChwb3B1cF9kZWMwMGY4ZmNiZjE0YTViYjIxYmVhMDI3NzgyZDA0YykKICAgICAgICA7CgogICAgICAgIAogICAgCiAgICAKICAgICAgICAgICAgdmFyIGNpcmNsZV9tYXJrZXJfZjVlNzI1Y2NkN2Y0NDk4NTk3YTZhMmFmMzk3M2FmYTUgPSBMLmNpcmNsZU1hcmtlcigKICAgICAgICAgICAgICAgIFs0My43MzkwMTQ2LCAtNzkuNTA2OTQzNl0sCiAgICAgICAgICAgICAgICB7ImJ1YmJsaW5nTW91c2VFdmVudHMiOiB0cnVlLCAiY29sb3IiOiAiYmx1ZSIsICJkYXNoQXJyYXkiOiBudWxsLCAiZGFzaE9mZnNldCI6IG51bGwsICJmaWxsIjogdHJ1ZSwgImZpbGxDb2xvciI6ICIjMzE4NmNjIiwgImZpbGxPcGFjaXR5IjogMC43LCAiZmlsbFJ1bGUiOiAiZXZlbm9kZCIsICJsaW5lQ2FwIjogInJvdW5kIiwgImxpbmVKb2luIjogInJvdW5kIiwgIm9wYWNpdHkiOiAxLjAsICJyYWRpdXMiOiA1LCAic3Ryb2tlIjogdHJ1ZSwgIndlaWdodCI6IDN9CiAgICAgICAgICAgICkuYWRkVG8obWFwXzQ0ZGIxMjY3YzU0ZjRiMTY5MDEzYmM2OWI3MTk0ODBhKTsKICAgICAgICAKICAgIAogICAgICAgIHZhciBwb3B1cF8wY2M2NThjZDgzZmQ0OTBkOGYyMzlmYTVlZDM1NjM0ZCA9IEwucG9wdXAoeyJtYXhXaWR0aCI6ICIxMDAlIn0pOwoKICAgICAgICAKICAgICAgICAgICAgdmFyIGh0bWxfMGRiNGNhNzMwMGI2NGNjY2E4N2M0ZjJlZTM1ODkxNzggPSAkKGA8ZGl2IGlkPSJodG1sXzBkYjRjYTczMDBiNjRjY2NhODdjNGYyZWUzNTg5MTc4IiBzdHlsZT0id2lkdGg6IDEwMC4wJTsgaGVpZ2h0OiAxMDAuMCU7Ij5Eb3duc3ZpZXc8L2Rpdj5gKVswXTsKICAgICAgICAgICAgcG9wdXBfMGNjNjU4Y2Q4M2ZkNDkwZDhmMjM5ZmE1ZWQzNTYzNGQuc2V0Q29udGVudChodG1sXzBkYjRjYTczMDBiNjRjY2NhODdjNGYyZWUzNTg5MTc4KTsKICAgICAgICAKCiAgICAgICAgY2lyY2xlX21hcmtlcl9mNWU3MjVjY2Q3ZjQ0OTg1OTdhNmEyYWYzOTczYWZhNS5iaW5kUG9wdXAocG9wdXBfMGNjNjU4Y2Q4M2ZkNDkwZDhmMjM5ZmE1ZWQzNTYzNGQpCiAgICAgICAgOwoKICAgICAgICAKICAgIAogICAgCiAgICAgICAgICAgIHZhciBjaXJjbGVfbWFya2VyXzA5N2YxNGNmOGQzMDRiYzVhNGUzZGM4MTYxNDgxZDI1ID0gTC5jaXJjbGVNYXJrZXIoCiAgICAgICAgICAgICAgICBbNDMuNzEzNzU2MjAwMDAwMDA2LCAtNzkuNDkwMDczOF0sCiAgICAgICAgICAgICAgICB7ImJ1YmJsaW5nTW91c2VFdmVudHMiOiB0cnVlLCAiY29sb3IiOiAiYmx1ZSIsICJkYXNoQXJyYXkiOiBudWxsLCAiZGFzaE9mZnNldCI6IG51bGwsICJmaWxsIjogdHJ1ZSwgImZpbGxDb2xvciI6ICIjMzE4NmNjIiwgImZpbGxPcGFjaXR5IjogMC43LCAiZmlsbFJ1bGUiOiAiZXZlbm9kZCIsICJsaW5lQ2FwIjogInJvdW5kIiwgImxpbmVKb2luIjogInJvdW5kIiwgIm9wYWNpdHkiOiAxLjAsICJyYWRpdXMiOiA1LCAic3Ryb2tlIjogdHJ1ZSwgIndlaWdodCI6IDN9CiAgICAgICAgICAgICkuYWRkVG8obWFwXzQ0ZGIxMjY3YzU0ZjRiMTY5MDEzYmM2OWI3MTk0ODBhKTsKICAgICAgICAKICAgIAogICAgICAgIHZhciBwb3B1cF84N2RhNmJhMjQzZTk0YTAwYTIzOThlNGIzYTQ1ZGVlMSA9IEwucG9wdXAoeyJtYXhXaWR0aCI6ICIxMDAlIn0pOwoKICAgICAgICAKICAgICAgICAgICAgdmFyIGh0bWxfZTA4OGM1OWRhZDFlNGYxNDg1YjQ4YjhhNjA3NGRiYmQgPSAkKGA8ZGl2IGlkPSJodG1sX2UwODhjNTlkYWQxZTRmMTQ4NWI0OGI4YTYwNzRkYmJkIiBzdHlsZT0id2lkdGg6IDEwMC4wJTsgaGVpZ2h0OiAxMDAuMCU7Ij5Ob3J0aCBQYXJrLE1hcGxlIExlYWYgUGFyayxVcHdvb2QgUGFyazwvZGl2PmApWzBdOwogICAgICAgICAgICBwb3B1cF84N2RhNmJhMjQzZTk0YTAwYTIzOThlNGIzYTQ1ZGVlMS5zZXRDb250ZW50KGh0bWxfZTA4OGM1OWRhZDFlNGYxNDg1YjQ4YjhhNjA3NGRiYmQpOwogICAgICAgIAoKICAgICAgICBjaXJjbGVfbWFya2VyXzA5N2YxNGNmOGQzMDRiYzVhNGUzZGM4MTYxNDgxZDI1LmJpbmRQb3B1cChwb3B1cF84N2RhNmJhMjQzZTk0YTAwYTIzOThlNGIzYTQ1ZGVlMSkKICAgICAgICA7CgogICAgICAgIAogICAgCiAgICAKICAgICAgICAgICAgdmFyIGNpcmNsZV9tYXJrZXJfNzkwOTY3YTNmYjdhNGRiNzk2ZmE4MmQyZjY4NWU4MTIgPSBMLmNpcmNsZU1hcmtlcigKICAgICAgICAgICAgICAgIFs0My43NTYzMDMzLCAtNzkuNTY1OTYzMjk5OTk5OTldLAogICAgICAgICAgICAgICAgeyJidWJibGluZ01vdXNlRXZlbnRzIjogdHJ1ZSwgImNvbG9yIjogImJsdWUiLCAiZGFzaEFycmF5IjogbnVsbCwgImRhc2hPZmZzZXQiOiBudWxsLCAiZmlsbCI6IHRydWUsICJmaWxsQ29sb3IiOiAiIzMxODZjYyIsICJmaWxsT3BhY2l0eSI6IDAuNywgImZpbGxSdWxlIjogImV2ZW5vZGQiLCAibGluZUNhcCI6ICJyb3VuZCIsICJsaW5lSm9pbiI6ICJyb3VuZCIsICJvcGFjaXR5IjogMS4wLCAicmFkaXVzIjogNSwgInN0cm9rZSI6IHRydWUsICJ3ZWlnaHQiOiAzfQogICAgICAgICAgICApLmFkZFRvKG1hcF80NGRiMTI2N2M1NGY0YjE2OTAxM2JjNjliNzE5NDgwYSk7CiAgICAgICAgCiAgICAKICAgICAgICB2YXIgcG9wdXBfNTI3YmM2MmQxOTE5NDQzYjg1NTM2NzJjNzQxMmQ0NjYgPSBMLnBvcHVwKHsibWF4V2lkdGgiOiAiMTAwJSJ9KTsKCiAgICAgICAgCiAgICAgICAgICAgIHZhciBodG1sXzk1NDlhYTU3ZDNmZDQ5M2U5NWFhZmJjZGI2MDAzZGQwID0gJChgPGRpdiBpZD0iaHRtbF85NTQ5YWE1N2QzZmQ0OTNlOTVhYWZiY2RiNjAwM2RkMCIgc3R5bGU9IndpZHRoOiAxMDAuMCU7IGhlaWdodDogMTAwLjAlOyI+SHVtYmVyIFN1bW1pdDwvZGl2PmApWzBdOwogICAgICAgICAgICBwb3B1cF81MjdiYzYyZDE5MTk0NDNiODU1MzY3MmM3NDEyZDQ2Ni5zZXRDb250ZW50KGh0bWxfOTU0OWFhNTdkM2ZkNDkzZTk1YWFmYmNkYjYwMDNkZDApOwogICAgICAgIAoKICAgICAgICBjaXJjbGVfbWFya2VyXzc5MDk2N2EzZmI3YTRkYjc5NmZhODJkMmY2ODVlODEyLmJpbmRQb3B1cChwb3B1cF81MjdiYzYyZDE5MTk0NDNiODU1MzY3MmM3NDEyZDQ2NikKICAgICAgICA7CgogICAgICAgIAogICAgCiAgICAKICAgICAgICAgICAgdmFyIGNpcmNsZV9tYXJrZXJfNDk3ZWM3NjJjNTVmNDFkNDlhYjYyODUyYmNmNjE5ZmQgPSBMLmNpcmNsZU1hcmtlcigKICAgICAgICAgICAgICAgIFs0My43ODkwNTMsIC03OS40MDg0OTI3OTk5OTk5OV0sCiAgICAgICAgICAgICAgICB7ImJ1YmJsaW5nTW91c2VFdmVudHMiOiB0cnVlLCAiY29sb3IiOiAiYmx1ZSIsICJkYXNoQXJyYXkiOiBudWxsLCAiZGFzaE9mZnNldCI6IG51bGwsICJmaWxsIjogdHJ1ZSwgImZpbGxDb2xvciI6ICIjMzE4NmNjIiwgImZpbGxPcGFjaXR5IjogMC43LCAiZmlsbFJ1bGUiOiAiZXZlbm9kZCIsICJsaW5lQ2FwIjogInJvdW5kIiwgImxpbmVKb2luIjogInJvdW5kIiwgIm9wYWNpdHkiOiAxLjAsICJyYWRpdXMiOiA1LCAic3Ryb2tlIjogdHJ1ZSwgIndlaWdodCI6IDN9CiAgICAgICAgICAgICkuYWRkVG8obWFwXzQ0ZGIxMjY3YzU0ZjRiMTY5MDEzYmM2OWI3MTk0ODBhKTsKICAgICAgICAKICAgIAogICAgICAgIHZhciBwb3B1cF9lZGFjYjYxMTNkYmQ0MDlmYWM1MzNhNmY1ODM5NzFhOCA9IEwucG9wdXAoeyJtYXhXaWR0aCI6ICIxMDAlIn0pOwoKICAgICAgICAKICAgICAgICAgICAgdmFyIGh0bWxfOTMxODgzYzFiMDViNDY1NjgwZDg1ZmYwNzc0YjM5ZWQgPSAkKGA8ZGl2IGlkPSJodG1sXzkzMTg4M2MxYjA1YjQ2NTY4MGQ4NWZmMDc3NGIzOWVkIiBzdHlsZT0id2lkdGg6IDEwMC4wJTsgaGVpZ2h0OiAxMDAuMCU7Ij5XaWxsb3dkYWxlLE5ld3RvbmJyb29rPC9kaXY+YClbMF07CiAgICAgICAgICAgIHBvcHVwX2VkYWNiNjExM2RiZDQwOWZhYzUzM2E2ZjU4Mzk3MWE4LnNldENvbnRlbnQoaHRtbF85MzE4ODNjMWIwNWI0NjU2ODBkODVmZjA3NzRiMzllZCk7CiAgICAgICAgCgogICAgICAgIGNpcmNsZV9tYXJrZXJfNDk3ZWM3NjJjNTVmNDFkNDlhYjYyODUyYmNmNjE5ZmQuYmluZFBvcHVwKHBvcHVwX2VkYWNiNjExM2RiZDQwOWZhYzUzM2E2ZjU4Mzk3MWE4KQogICAgICAgIDsKCiAgICAgICAgCiAgICAKICAgIAogICAgICAgICAgICB2YXIgY2lyY2xlX21hcmtlcl83OTljNWYxYWJmOGI0N2U0YjMzMjFhZGJhNjgyZmE3YyA9IEwuY2lyY2xlTWFya2VyKAogICAgICAgICAgICAgICAgWzQzLjcyODQ5NjQsIC03OS40OTU2OTc0MDAwMDAwMV0sCiAgICAgICAgICAgICAgICB7ImJ1YmJsaW5nTW91c2VFdmVudHMiOiB0cnVlLCAiY29sb3IiOiAiYmx1ZSIsICJkYXNoQXJyYXkiOiBudWxsLCAiZGFzaE9mZnNldCI6IG51bGwsICJmaWxsIjogdHJ1ZSwgImZpbGxDb2xvciI6ICIjMzE4NmNjIiwgImZpbGxPcGFjaXR5IjogMC43LCAiZmlsbFJ1bGUiOiAiZXZlbm9kZCIsICJsaW5lQ2FwIjogInJvdW5kIiwgImxpbmVKb2luIjogInJvdW5kIiwgIm9wYWNpdHkiOiAxLjAsICJyYWRpdXMiOiA1LCAic3Ryb2tlIjogdHJ1ZSwgIndlaWdodCI6IDN9CiAgICAgICAgICAgICkuYWRkVG8obWFwXzQ0ZGIxMjY3YzU0ZjRiMTY5MDEzYmM2OWI3MTk0ODBhKTsKICAgICAgICAKICAgIAogICAgICAgIHZhciBwb3B1cF84NzA5ZjJkNWNlNzY0Y2ZiOTdkM2UyNTBjNmQ2NGM5OSA9IEwucG9wdXAoeyJtYXhXaWR0aCI6ICIxMDAlIn0pOwoKICAgICAgICAKICAgICAgICAgICAgdmFyIGh0bWxfNDk2YWUxY2RjYTZlNDQ5YThmNGMyZWY0NDlmODlmMzUgPSAkKGA8ZGl2IGlkPSJodG1sXzQ5NmFlMWNkY2E2ZTQ0OWE4ZjRjMmVmNDQ5Zjg5ZjM1IiBzdHlsZT0id2lkdGg6IDEwMC4wJTsgaGVpZ2h0OiAxMDAuMCU7Ij5Eb3duc3ZpZXc8L2Rpdj5gKVswXTsKICAgICAgICAgICAgcG9wdXBfODcwOWYyZDVjZTc2NGNmYjk3ZDNlMjUwYzZkNjRjOTkuc2V0Q29udGVudChodG1sXzQ5NmFlMWNkY2E2ZTQ0OWE4ZjRjMmVmNDQ5Zjg5ZjM1KTsKICAgICAgICAKCiAgICAgICAgY2lyY2xlX21hcmtlcl83OTljNWYxYWJmOGI0N2U0YjMzMjFhZGJhNjgyZmE3Yy5iaW5kUG9wdXAocG9wdXBfODcwOWYyZDVjZTc2NGNmYjk3ZDNlMjUwYzZkNjRjOTkpCiAgICAgICAgOwoKICAgICAgICAKICAgIAogICAgCiAgICAgICAgICAgIHZhciBjaXJjbGVfbWFya2VyXzMxOTk5NDFlNTlkODQyYTk5YzgzMTNmNDVlOGNjZDkwID0gTC5jaXJjbGVNYXJrZXIoCiAgICAgICAgICAgICAgICBbNDMuNzMzMjgyNSwgLTc5LjQxOTc0OTddLAogICAgICAgICAgICAgICAgeyJidWJibGluZ01vdXNlRXZlbnRzIjogdHJ1ZSwgImNvbG9yIjogImJsdWUiLCAiZGFzaEFycmF5IjogbnVsbCwgImRhc2hPZmZzZXQiOiBudWxsLCAiZmlsbCI6IHRydWUsICJmaWxsQ29sb3IiOiAiIzMxODZjYyIsICJmaWxsT3BhY2l0eSI6IDAuNywgImZpbGxSdWxlIjogImV2ZW5vZGQiLCAibGluZUNhcCI6ICJyb3VuZCIsICJsaW5lSm9pbiI6ICJyb3VuZCIsICJvcGFjaXR5IjogMS4wLCAicmFkaXVzIjogNSwgInN0cm9rZSI6IHRydWUsICJ3ZWlnaHQiOiAzfQogICAgICAgICAgICApLmFkZFRvKG1hcF80NGRiMTI2N2M1NGY0YjE2OTAxM2JjNjliNzE5NDgwYSk7CiAgICAgICAgCiAgICAKICAgICAgICB2YXIgcG9wdXBfOTdkZmM2ODlkNGNiNGNjNzgyNTA4YjAxMzM4NzFlYmEgPSBMLnBvcHVwKHsibWF4V2lkdGgiOiAiMTAwJSJ9KTsKCiAgICAgICAgCiAgICAgICAgICAgIHZhciBodG1sXzdmYWE5N2U5NWRjYTRkOWNhZjk5NTM0NGNiNDA0Njk4ID0gJChgPGRpdiBpZD0iaHRtbF83ZmFhOTdlOTVkY2E0ZDljYWY5OTUzNDRjYjQwNDY5OCIgc3R5bGU9IndpZHRoOiAxMDAuMCU7IGhlaWdodDogMTAwLjAlOyI+QmVkZm9yZCBQYXJrLExhd3JlbmNlIE1hbm9yIEVhc3Q8L2Rpdj5gKVswXTsKICAgICAgICAgICAgcG9wdXBfOTdkZmM2ODlkNGNiNGNjNzgyNTA4YjAxMzM4NzFlYmEuc2V0Q29udGVudChodG1sXzdmYWE5N2U5NWRjYTRkOWNhZjk5NTM0NGNiNDA0Njk4KTsKICAgICAgICAKCiAgICAgICAgY2lyY2xlX21hcmtlcl8zMTk5OTQxZTU5ZDg0MmE5OWM4MzEzZjQ1ZThjY2Q5MC5iaW5kUG9wdXAocG9wdXBfOTdkZmM2ODlkNGNiNGNjNzgyNTA4YjAxMzM4NzFlYmEpCiAgICAgICAgOwoKICAgICAgICAKICAgIAogICAgCiAgICAgICAgICAgIHZhciBjaXJjbGVfbWFya2VyX2VlOWNhYzJkNWQ5YjQzNmJiY2FkMzA3Y2IwNzJlMGEzID0gTC5jaXJjbGVNYXJrZXIoCiAgICAgICAgICAgICAgICBbNDMuNzI0NzY1OSwgLTc5LjUzMjI0MjQwMDAwMDAyXSwKICAgICAgICAgICAgICAgIHsiYnViYmxpbmdNb3VzZUV2ZW50cyI6IHRydWUsICJjb2xvciI6ICJibHVlIiwgImRhc2hBcnJheSI6IG51bGwsICJkYXNoT2Zmc2V0IjogbnVsbCwgImZpbGwiOiB0cnVlLCAiZmlsbENvbG9yIjogIiMzMTg2Y2MiLCAiZmlsbE9wYWNpdHkiOiAwLjcsICJmaWxsUnVsZSI6ICJldmVub2RkIiwgImxpbmVDYXAiOiAicm91bmQiLCAibGluZUpvaW4iOiAicm91bmQiLCAib3BhY2l0eSI6IDEuMCwgInJhZGl1cyI6IDUsICJzdHJva2UiOiB0cnVlLCAid2VpZ2h0IjogM30KICAgICAgICAgICAgKS5hZGRUbyhtYXBfNDRkYjEyNjdjNTRmNGIxNjkwMTNiYzY5YjcxOTQ4MGEpOwogICAgICAgIAogICAgCiAgICAgICAgdmFyIHBvcHVwXzdhMDQ1YWMwZjRjZTRkMDI5YWU4NTg1MDY4NDA5MzczID0gTC5wb3B1cCh7Im1heFdpZHRoIjogIjEwMCUifSk7CgogICAgICAgIAogICAgICAgICAgICB2YXIgaHRtbF85NDNiMWNiMzZiYWU0ZDU2OTkxMmYzMGY2ZmQwMGRmOCA9ICQoYDxkaXYgaWQ9Imh0bWxfOTQzYjFjYjM2YmFlNGQ1Njk5MTJmMzBmNmZkMDBkZjgiIHN0eWxlPSJ3aWR0aDogMTAwLjAlOyBoZWlnaHQ6IDEwMC4wJTsiPkh1bWJlcmxlYSxFbWVyeTwvZGl2PmApWzBdOwogICAgICAgICAgICBwb3B1cF83YTA0NWFjMGY0Y2U0ZDAyOWFlODU4NTA2ODQwOTM3My5zZXRDb250ZW50KGh0bWxfOTQzYjFjYjM2YmFlNGQ1Njk5MTJmMzBmNmZkMDBkZjgpOwogICAgICAgIAoKICAgICAgICBjaXJjbGVfbWFya2VyX2VlOWNhYzJkNWQ5YjQzNmJiY2FkMzA3Y2IwNzJlMGEzLmJpbmRQb3B1cChwb3B1cF83YTA0NWFjMGY0Y2U0ZDAyOWFlODU4NTA2ODQwOTM3MykKICAgICAgICA7CgogICAgICAgIAogICAgCiAgICAKICAgICAgICAgICAgdmFyIGNpcmNsZV9tYXJrZXJfNjBhODBjMzZkMWE4NDE4MTg0ZWJlMTEwMjQ4YmE2N2QgPSBMLmNpcmNsZU1hcmtlcigKICAgICAgICAgICAgICAgIFs0My43NzAxMTk5LCAtNzkuNDA4NDkyNzk5OTk5OTldLAogICAgICAgICAgICAgICAgeyJidWJibGluZ01vdXNlRXZlbnRzIjogdHJ1ZSwgImNvbG9yIjogImJsdWUiLCAiZGFzaEFycmF5IjogbnVsbCwgImRhc2hPZmZzZXQiOiBudWxsLCAiZmlsbCI6IHRydWUsICJmaWxsQ29sb3IiOiAiIzMxODZjYyIsICJmaWxsT3BhY2l0eSI6IDAuNywgImZpbGxSdWxlIjogImV2ZW5vZGQiLCAibGluZUNhcCI6ICJyb3VuZCIsICJsaW5lSm9pbiI6ICJyb3VuZCIsICJvcGFjaXR5IjogMS4wLCAicmFkaXVzIjogNSwgInN0cm9rZSI6IHRydWUsICJ3ZWlnaHQiOiAzfQogICAgICAgICAgICApLmFkZFRvKG1hcF80NGRiMTI2N2M1NGY0YjE2OTAxM2JjNjliNzE5NDgwYSk7CiAgICAgICAgCiAgICAKICAgICAgICB2YXIgcG9wdXBfOGJkYzk1NTIwM2E3NDhmYWFkOTFjMDlhNWUwNmViMmIgPSBMLnBvcHVwKHsibWF4V2lkdGgiOiAiMTAwJSJ9KTsKCiAgICAgICAgCiAgICAgICAgICAgIHZhciBodG1sXzY5OTJhNjRkMzRlMTRhM2JhZGJmYmFhYTcwNGFiYTU5ID0gJChgPGRpdiBpZD0iaHRtbF82OTkyYTY0ZDM0ZTE0YTNiYWRiZmJhYWE3MDRhYmE1OSIgc3R5bGU9IndpZHRoOiAxMDAuMCU7IGhlaWdodDogMTAwLjAlOyI+V2lsbG93ZGFsZTwvZGl2PmApWzBdOwogICAgICAgICAgICBwb3B1cF84YmRjOTU1MjAzYTc0OGZhYWQ5MWMwOWE1ZTA2ZWIyYi5zZXRDb250ZW50KGh0bWxfNjk5MmE2NGQzNGUxNGEzYmFkYmZiYWFhNzA0YWJhNTkpOwogICAgICAgIAoKICAgICAgICBjaXJjbGVfbWFya2VyXzYwYTgwYzM2ZDFhODQxODE4NGViZTExMDI0OGJhNjdkLmJpbmRQb3B1cChwb3B1cF84YmRjOTU1MjAzYTc0OGZhYWQ5MWMwOWE1ZTA2ZWIyYikKICAgICAgICA7CgogICAgICAgIAogICAgCiAgICAKICAgICAgICAgICAgdmFyIGNpcmNsZV9tYXJrZXJfNmU1ZWM0ZDBiYTlhNGI3M2IzOGMzZWMzYTRkMjI4NTcgPSBMLmNpcmNsZU1hcmtlcigKICAgICAgICAgICAgICAgIFs0My43NjE2MzEzLCAtNzkuNTIwOTk5NDAwMDAwMDFdLAogICAgICAgICAgICAgICAgeyJidWJibGluZ01vdXNlRXZlbnRzIjogdHJ1ZSwgImNvbG9yIjogImJsdWUiLCAiZGFzaEFycmF5IjogbnVsbCwgImRhc2hPZmZzZXQiOiBudWxsLCAiZmlsbCI6IHRydWUsICJmaWxsQ29sb3IiOiAiIzMxODZjYyIsICJmaWxsT3BhY2l0eSI6IDAuNywgImZpbGxSdWxlIjogImV2ZW5vZGQiLCAibGluZUNhcCI6ICJyb3VuZCIsICJsaW5lSm9pbiI6ICJyb3VuZCIsICJvcGFjaXR5IjogMS4wLCAicmFkaXVzIjogNSwgInN0cm9rZSI6IHRydWUsICJ3ZWlnaHQiOiAzfQogICAgICAgICAgICApLmFkZFRvKG1hcF80NGRiMTI2N2M1NGY0YjE2OTAxM2JjNjliNzE5NDgwYSk7CiAgICAgICAgCiAgICAKICAgICAgICB2YXIgcG9wdXBfZjA1MjNhZDJmZjVkNDYwYmEzMjdjMzY2ZmY0NDQ4M2IgPSBMLnBvcHVwKHsibWF4V2lkdGgiOiAiMTAwJSJ9KTsKCiAgICAgICAgCiAgICAgICAgICAgIHZhciBodG1sXzhmMjdlN2Q1MWFmMTQ3NjE4YjJhOTkwMmM4Mjc4OTJmID0gJChgPGRpdiBpZD0iaHRtbF84ZjI3ZTdkNTFhZjE0NzYxOGIyYTk5MDJjODI3ODkyZiIgc3R5bGU9IndpZHRoOiAxMDAuMCU7IGhlaWdodDogMTAwLjAlOyI+RG93bnN2aWV3PC9kaXY+YClbMF07CiAgICAgICAgICAgIHBvcHVwX2YwNTIzYWQyZmY1ZDQ2MGJhMzI3YzM2NmZmNDQ0ODNiLnNldENvbnRlbnQoaHRtbF84ZjI3ZTdkNTFhZjE0NzYxOGIyYTk5MDJjODI3ODkyZik7CiAgICAgICAgCgogICAgICAgIGNpcmNsZV9tYXJrZXJfNmU1ZWM0ZDBiYTlhNGI3M2IzOGMzZWMzYTRkMjI4NTcuYmluZFBvcHVwKHBvcHVwX2YwNTIzYWQyZmY1ZDQ2MGJhMzI3YzM2NmZmNDQ0ODNiKQogICAgICAgIDsKCiAgICAgICAgCiAgICAKICAgIAogICAgICAgICAgICB2YXIgY2lyY2xlX21hcmtlcl83MWQ3ODViNDIzYjc0MWViODY5ZDkxM2E0NGMxZDNmNSA9IEwuY2lyY2xlTWFya2VyKAogICAgICAgICAgICAgICAgWzQzLjc1Mjc1ODI5OTk5OTk5NiwgLTc5LjQwMDA0OTNdLAogICAgICAgICAgICAgICAgeyJidWJibGluZ01vdXNlRXZlbnRzIjogdHJ1ZSwgImNvbG9yIjogImJsdWUiLCAiZGFzaEFycmF5IjogbnVsbCwgImRhc2hPZmZzZXQiOiBudWxsLCAiZmlsbCI6IHRydWUsICJmaWxsQ29sb3IiOiAiIzMxODZjYyIsICJmaWxsT3BhY2l0eSI6IDAuNywgImZpbGxSdWxlIjogImV2ZW5vZGQiLCAibGluZUNhcCI6ICJyb3VuZCIsICJsaW5lSm9pbiI6ICJyb3VuZCIsICJvcGFjaXR5IjogMS4wLCAicmFkaXVzIjogNSwgInN0cm9rZSI6IHRydWUsICJ3ZWlnaHQiOiAzfQogICAgICAgICAgICApLmFkZFRvKG1hcF80NGRiMTI2N2M1NGY0YjE2OTAxM2JjNjliNzE5NDgwYSk7CiAgICAgICAgCiAgICAKICAgICAgICB2YXIgcG9wdXBfYjk0MzQ1OWJhNjYyNDhmNWFjMTA4MjhkZmQ4NzQ2ZWUgPSBMLnBvcHVwKHsibWF4V2lkdGgiOiAiMTAwJSJ9KTsKCiAgICAgICAgCiAgICAgICAgICAgIHZhciBodG1sXzQwZjQ5YTM3MGI2YjQ2YTZiZjk4YTVhZjg5Zjc4OWZmID0gJChgPGRpdiBpZD0iaHRtbF80MGY0OWEzNzBiNmI0NmE2YmY5OGE1YWY4OWY3ODlmZiIgc3R5bGU9IndpZHRoOiAxMDAuMCU7IGhlaWdodDogMTAwLjAlOyI+WW9yayBNaWxscyBXZXN0PC9kaXY+YClbMF07CiAgICAgICAgICAgIHBvcHVwX2I5NDM0NTliYTY2MjQ4ZjVhYzEwODI4ZGZkODc0NmVlLnNldENvbnRlbnQoaHRtbF80MGY0OWEzNzBiNmI0NmE2YmY5OGE1YWY4OWY3ODlmZik7CiAgICAgICAgCgogICAgICAgIGNpcmNsZV9tYXJrZXJfNzFkNzg1YjQyM2I3NDFlYjg2OWQ5MTNhNDRjMWQzZjUuYmluZFBvcHVwKHBvcHVwX2I5NDM0NTliYTY2MjQ4ZjVhYzEwODI4ZGZkODc0NmVlKQogICAgICAgIDsKCiAgICAgICAgCiAgICAKICAgIAogICAgICAgICAgICB2YXIgY2lyY2xlX21hcmtlcl9jZmM2ZGUwN2IyZTg0OWRlOWJkYzZmNGIyMzQ0YmU4YiA9IEwuY2lyY2xlTWFya2VyKAogICAgICAgICAgICAgICAgWzQzLjc4MjczNjQsIC03OS40NDIyNTkzXSwKICAgICAgICAgICAgICAgIHsiYnViYmxpbmdNb3VzZUV2ZW50cyI6IHRydWUsICJjb2xvciI6ICJibHVlIiwgImRhc2hBcnJheSI6IG51bGwsICJkYXNoT2Zmc2V0IjogbnVsbCwgImZpbGwiOiB0cnVlLCAiZmlsbENvbG9yIjogIiMzMTg2Y2MiLCAiZmlsbE9wYWNpdHkiOiAwLjcsICJmaWxsUnVsZSI6ICJldmVub2RkIiwgImxpbmVDYXAiOiAicm91bmQiLCAibGluZUpvaW4iOiAicm91bmQiLCAib3BhY2l0eSI6IDEuMCwgInJhZGl1cyI6IDUsICJzdHJva2UiOiB0cnVlLCAid2VpZ2h0IjogM30KICAgICAgICAgICAgKS5hZGRUbyhtYXBfNDRkYjEyNjdjNTRmNGIxNjkwMTNiYzY5YjcxOTQ4MGEpOwogICAgICAgIAogICAgCiAgICAgICAgdmFyIHBvcHVwXzg5MDE3OWYwYzdjMTQ2ODNiMDZjMGM2ZmFkNzEwYzllID0gTC5wb3B1cCh7Im1heFdpZHRoIjogIjEwMCUifSk7CgogICAgICAgIAogICAgICAgICAgICB2YXIgaHRtbF9lMzNiYzA1MzQ0Y2I0N2U2OGI4MmY5YjE3MjEzODI0MiA9ICQoYDxkaXYgaWQ9Imh0bWxfZTMzYmMwNTM0NGNiNDdlNjhiODJmOWIxNzIxMzgyNDIiIHN0eWxlPSJ3aWR0aDogMTAwLjAlOyBoZWlnaHQ6IDEwMC4wJTsiPldpbGxvd2RhbGU8L2Rpdj5gKVswXTsKICAgICAgICAgICAgcG9wdXBfODkwMTc5ZjBjN2MxNDY4M2IwNmMwYzZmYWQ3MTBjOWUuc2V0Q29udGVudChodG1sX2UzM2JjMDUzNDRjYjQ3ZTY4YjgyZjliMTcyMTM4MjQyKTsKICAgICAgICAKCiAgICAgICAgY2lyY2xlX21hcmtlcl9jZmM2ZGUwN2IyZTg0OWRlOWJkYzZmNGIyMzQ0YmU4Yi5iaW5kUG9wdXAocG9wdXBfODkwMTc5ZjBjN2MxNDY4M2IwNmMwYzZmYWQ3MTBjOWUpCiAgICAgICAgOwoKICAgICAgICAKICAgIAogICAgCiAgICAgICAgICAgIHZhciBjaXJjbGVfbWFya2VyX2M3MTYzZmUwMjBkMTRjODJhNTkwZTNlYTI1ZTEyZDY2ID0gTC5jaXJjbGVNYXJrZXIoCiAgICAgICAgICAgICAgICBbNDMuNzQxMjE1MDcsIC03OS40ODgxOTE2M10sCiAgICAgICAgICAgICAgICB7ImJ1YmJsaW5nTW91c2VFdmVudHMiOiB0cnVlLCAiY29sb3IiOiAicmVkIiwgImRhc2hBcnJheSI6IG51bGwsICJkYXNoT2Zmc2V0IjogbnVsbCwgImZpbGwiOiB0cnVlLCAiZmlsbENvbG9yIjogInJlZCIsICJmaWxsT3BhY2l0eSI6IDAuNywgImZpbGxSdWxlIjogImV2ZW5vZGQiLCAibGluZUNhcCI6ICJyb3VuZCIsICJsaW5lSm9pbiI6ICJyb3VuZCIsICJvcGFjaXR5IjogMS4wLCAicmFkaXVzIjogNSwgInN0cm9rZSI6IHRydWUsICJ3ZWlnaHQiOiAzfQogICAgICAgICAgICApLmFkZFRvKG1hcF80NGRiMTI2N2M1NGY0YjE2OTAxM2JjNjliNzE5NDgwYSk7CiAgICAgICAgCiAgICAKICAgICAgICB2YXIgcG9wdXBfYWU1Yzg3MjEyYjc4NGVjYmE2NjUwZjM2OWFlYTZlMzIgPSBMLnBvcHVwKHsibWF4V2lkdGgiOiAiMTAwJSJ9KTsKCiAgICAgICAgCiAgICAgICAgICAgIHZhciBodG1sXzAwZTAxNjhjYWJiNzRiMTlhOWM2YzU3NTY5ZDdiNmRlID0gJChgPGRpdiBpZD0iaHRtbF8wMGUwMTY4Y2FiYjc0YjE5YTljNmM1NzU2OWQ3YjZkZSIgc3R5bGU9IndpZHRoOiAxMDAuMCU7IGhlaWdodDogMTAwLjAlOyI+Y2VudGVyMDwvZGl2PmApWzBdOwogICAgICAgICAgICBwb3B1cF9hZTVjODcyMTJiNzg0ZWNiYTY2NTBmMzY5YWVhNmUzMi5zZXRDb250ZW50KGh0bWxfMDBlMDE2OGNhYmI3NGIxOWE5YzZjNTc1NjlkN2I2ZGUpOwogICAgICAgIAoKICAgICAgICBjaXJjbGVfbWFya2VyX2M3MTYzZmUwMjBkMTRjODJhNTkwZTNlYTI1ZTEyZDY2LmJpbmRQb3B1cChwb3B1cF9hZTVjODcyMTJiNzg0ZWNiYTY2NTBmMzY5YWVhNmUzMikKICAgICAgICA7CgogICAgICAgIAogICAgCiAgICAKICAgICAgICAgICAgdmFyIGNpcmNsZV9tYXJrZXJfZTRlNmY4OWM4NjE4NDMzZGJlOWZmOTMwMGYyYTBjMzUgPSBMLmNpcmNsZU1hcmtlcigKICAgICAgICAgICAgICAgIFs0My43NjAyMzk3OCwgLTc5LjM3MDQ4NTAyXSwKICAgICAgICAgICAgICAgIHsiYnViYmxpbmdNb3VzZUV2ZW50cyI6IHRydWUsICJjb2xvciI6ICJyZWQiLCAiZGFzaEFycmF5IjogbnVsbCwgImRhc2hPZmZzZXQiOiBudWxsLCAiZmlsbCI6IHRydWUsICJmaWxsQ29sb3IiOiAicmVkIiwgImZpbGxPcGFjaXR5IjogMC43LCAiZmlsbFJ1bGUiOiAiZXZlbm9kZCIsICJsaW5lQ2FwIjogInJvdW5kIiwgImxpbmVKb2luIjogInJvdW5kIiwgIm9wYWNpdHkiOiAxLjAsICJyYWRpdXMiOiA1LCAic3Ryb2tlIjogdHJ1ZSwgIndlaWdodCI6IDN9CiAgICAgICAgICAgICkuYWRkVG8obWFwXzQ0ZGIxMjY3YzU0ZjRiMTY5MDEzYmM2OWI3MTk0ODBhKTsKICAgICAgICAKICAgIAogICAgICAgIHZhciBwb3B1cF82YmVjMjk5YTc1ZDc0Y2FkODI2ZjIzYTk3OTU4NGJiMiA9IEwucG9wdXAoeyJtYXhXaWR0aCI6ICIxMDAlIn0pOwoKICAgICAgICAKICAgICAgICAgICAgdmFyIGh0bWxfOTg3YjYzYzJiZDRiNDNmMmE1M2YzMTE0N2RiYTIzMmMgPSAkKGA8ZGl2IGlkPSJodG1sXzk4N2I2M2MyYmQ0YjQzZjJhNTNmMzExNDdkYmEyMzJjIiBzdHlsZT0id2lkdGg6IDEwMC4wJTsgaGVpZ2h0OiAxMDAuMCU7Ij5jZW50ZXIxPC9kaXY+YClbMF07CiAgICAgICAgICAgIHBvcHVwXzZiZWMyOTlhNzVkNzRjYWQ4MjZmMjNhOTc5NTg0YmIyLnNldENvbnRlbnQoaHRtbF85ODdiNjNjMmJkNGI0M2YyYTUzZjMxMTQ3ZGJhMjMyYyk7CiAgICAgICAgCgogICAgICAgIGNpcmNsZV9tYXJrZXJfZTRlNmY4OWM4NjE4NDMzZGJlOWZmOTMwMGYyYTBjMzUuYmluZFBvcHVwKHBvcHVwXzZiZWMyOTlhNzVkNzRjYWQ4MjZmMjNhOTc5NTg0YmIyKQogICAgICAgIDsKCiAgICAgICAgCiAgICAKICAgIAogICAgICAgICAgICB2YXIgY2lyY2xlX21hcmtlcl80ZWIyYjQ1YmQ3ZGE0MTUxYWNjYWU3Y2ZmYjEwN2IxZCA9IEwuY2lyY2xlTWFya2VyKAogICAgICAgICAgICAgICAgWzQzLjc1NjgxNDA2MzI3OTE0LCAtNzkuNDA4MTA4MzI0Nzk2NzRdLAogICAgICAgICAgICAgICAgeyJidWJibGluZ01vdXNlRXZlbnRzIjogdHJ1ZSwgImNvbG9yIjogInJlZCIsICJkYXNoQXJyYXkiOiBudWxsLCAiZGFzaE9mZnNldCI6IG51bGwsICJmaWxsIjogdHJ1ZSwgImZpbGxDb2xvciI6ICJ5ZWxsb3ciLCAiZmlsbE9wYWNpdHkiOiAwLjcsICJmaWxsUnVsZSI6ICJldmVub2RkIiwgImxpbmVDYXAiOiAicm91bmQiLCAibGluZUpvaW4iOiAicm91bmQiLCAib3BhY2l0eSI6IDEuMCwgInJhZGl1cyI6IDUsICJzdHJva2UiOiB0cnVlLCAid2VpZ2h0IjogM30KICAgICAgICAgICAgKS5hZGRUbyhtYXBfNDRkYjEyNjdjNTRmNGIxNjkwMTNiYzY5YjcxOTQ4MGEpOwogICAgICAgIAogICAgCiAgICAgICAgdmFyIHBvcHVwXzlkYjBmMTMzZWUzNzRlNWFiZGJhYmVjZjZjMzFiYjQ2ID0gTC5wb3B1cCh7Im1heFdpZHRoIjogIjEwMCUifSk7CgogICAgICAgIAogICAgICAgICAgICB2YXIgaHRtbF80YzhmNGQ4ODk1NDc0NDE2YWIxNDgxYjMxMjA5Yjg2NCA9ICQoYDxkaXYgaWQ9Imh0bWxfNGM4ZjRkODg5NTQ3NDQxNmFiMTQ4MWIzMTIwOWI4NjQiIHN0eWxlPSJ3aWR0aDogMTAwLjAlOyBoZWlnaHQ6IDEwMC4wJTsiPnNob3BwaW5nIGNlbnRlcjwvZGl2PmApWzBdOwogICAgICAgICAgICBwb3B1cF85ZGIwZjEzM2VlMzc0ZTVhYmRiYWJlY2Y2YzMxYmI0Ni5zZXRDb250ZW50KGh0bWxfNGM4ZjRkODg5NTQ3NDQxNmFiMTQ4MWIzMTIwOWI4NjQpOwogICAgICAgIAoKICAgICAgICBjaXJjbGVfbWFya2VyXzRlYjJiNDViZDdkYTQxNTFhY2NhZTdjZmZiMTA3YjFkLmJpbmRQb3B1cChwb3B1cF85ZGIwZjEzM2VlMzc0ZTVhYmRiYWJlY2Y2YzMxYmI0NikKICAgICAgICA7CgogICAgICAgIAogICAgCiAgICAKICAgICAgICAgICAgdmFyIGNpcmNsZV9tYXJrZXJfZDI4MjZmM2RiZWQ2NDE1MmI4MGZlNGE0M2E0ZGQ0NDggPSBMLmNpcmNsZU1hcmtlcigKICAgICAgICAgICAgICAgIFs0My43MzU3NTE2MTk5OTk5OTUsIC03OS40OTczNzgxXSwKICAgICAgICAgICAgICAgIHsiYnViYmxpbmdNb3VzZUV2ZW50cyI6IHRydWUsICJjb2xvciI6ICJibGFjayIsICJkYXNoQXJyYXkiOiBudWxsLCAiZGFzaE9mZnNldCI6IG51bGwsICJmaWxsIjogdHJ1ZSwgImZpbGxDb2xvciI6ICJibGFjayIsICJmaWxsT3BhY2l0eSI6IDAuNywgImZpbGxSdWxlIjogImV2ZW5vZGQiLCAibGluZUNhcCI6ICJyb3VuZCIsICJsaW5lSm9pbiI6ICJyb3VuZCIsICJvcGFjaXR5IjogMS4wLCAicmFkaXVzIjogNSwgInN0cm9rZSI6IHRydWUsICJ3ZWlnaHQiOiAzfQogICAgICAgICAgICApLmFkZFRvKG1hcF80NGRiMTI2N2M1NGY0YjE2OTAxM2JjNjliNzE5NDgwYSk7CiAgICAgICAgCiAgICAKICAgICAgICB2YXIgcG9wdXBfOTUzOTYwODhkMjM0NGM0NzhiNDkxMjM1OWYzMDM1YzggPSBMLnBvcHVwKHsibWF4V2lkdGgiOiAiMTAwJSJ9KTsKCiAgICAgICAgCiAgICAgICAgICAgIHZhciBodG1sXzA0NDlhYzkwNmZjMTQyZmRiOWJjM2QxNTllYzM3M2EzID0gJChgPGRpdiBpZD0iaHRtbF8wNDQ5YWM5MDZmYzE0MmZkYjliYzNkMTU5ZWMzNzNhMyIgc3R5bGU9IndpZHRoOiAxMDAuMCU7IGhlaWdodDogMTAwLjAlOyI+YzEtLW91ciByZXN0YXVyYW50PC9kaXY+YClbMF07CiAgICAgICAgICAgIHBvcHVwXzk1Mzk2MDg4ZDIzNDRjNDc4YjQ5MTIzNTlmMzAzNWM4LnNldENvbnRlbnQoaHRtbF8wNDQ5YWM5MDZmYzE0MmZkYjliYzNkMTU5ZWMzNzNhMyk7CiAgICAgICAgCgogICAgICAgIGNpcmNsZV9tYXJrZXJfZDI4MjZmM2RiZWQ2NDE1MmI4MGZlNGE0M2E0ZGQ0NDguYmluZFBvcHVwKHBvcHVwXzk1Mzk2MDg4ZDIzNDRjNDc4YjQ5MTIzNTlmMzAzNWM4KQogICAgICAgIDsKCiAgICAgICAgCiAgICAKICAgIAogICAgICAgICAgICB2YXIgY2lyY2xlX21hcmtlcl9lM2U3MjI4MTI3YTA0ZWMzYWUyMDJmN2I5NzAxN2Q4MiA9IEwuY2lyY2xlTWFya2VyKAogICAgICAgICAgICAgICAgWzQzLjc2MTQyNDQyODU3MTQ0LCAtNzkuMzgwNzM4NDg1NzE0MjhdLAogICAgICAgICAgICAgICAgeyJidWJibGluZ01vdXNlRXZlbnRzIjogdHJ1ZSwgImNvbG9yIjogImJsYWNrIiwgImRhc2hBcnJheSI6IG51bGwsICJkYXNoT2Zmc2V0IjogbnVsbCwgImZpbGwiOiB0cnVlLCAiZmlsbENvbG9yIjogImJsYWNrIiwgImZpbGxPcGFjaXR5IjogMC43LCAiZmlsbFJ1bGUiOiAiZXZlbm9kZCIsICJsaW5lQ2FwIjogInJvdW5kIiwgImxpbmVKb2luIjogInJvdW5kIiwgIm9wYWNpdHkiOiAxLjAsICJyYWRpdXMiOiA1LCAic3Ryb2tlIjogdHJ1ZSwgIndlaWdodCI6IDN9CiAgICAgICAgICAgICkuYWRkVG8obWFwXzQ0ZGIxMjY3YzU0ZjRiMTY5MDEzYmM2OWI3MTk0ODBhKTsKICAgICAgICAKICAgIAogICAgICAgIHZhciBwb3B1cF9jMWZiYmRmNTI3YTc0NGUxYjNiYjZlMmYyYmZjZWRhYSA9IEwucG9wdXAoeyJtYXhXaWR0aCI6ICIxMDAlIn0pOwoKICAgICAgICAKICAgICAgICAgICAgdmFyIGh0bWxfYzUzYjk4YWZkMWI5NDk2NmI0NjFjMDA3ZWRhMzdlZGQgPSAkKGA8ZGl2IGlkPSJodG1sX2M1M2I5OGFmZDFiOTQ5NjZiNDYxYzAwN2VkYTM3ZWRkIiBzdHlsZT0id2lkdGg6IDEwMC4wJTsgaGVpZ2h0OiAxMDAuMCU7Ij5jMi10aGUgb3RoZXIgY2VudGVyPC9kaXY+YClbMF07CiAgICAgICAgICAgIHBvcHVwX2MxZmJiZGY1MjdhNzQ0ZTFiM2JiNmUyZjJiZmNlZGFhLnNldENvbnRlbnQoaHRtbF9jNTNiOThhZmQxYjk0OTY2YjQ2MWMwMDdlZGEzN2VkZCk7CiAgICAgICAgCgogICAgICAgIGNpcmNsZV9tYXJrZXJfZTNlNzIyODEyN2EwNGVjM2FlMjAyZjdiOTcwMTdkODIuYmluZFBvcHVwKHBvcHVwX2MxZmJiZGY1MjdhNzQ0ZTFiM2JiNmUyZjJiZmNlZGFhKQogICAgICAgIDsKCiAgICAgICAgCiAgICAKPC9zY3JpcHQ+ onload=\"this.contentDocument.open();this.contentDocument.write(atob(this.getAttribute('data-html')));this.contentDocument.close();\" allowfullscreen webkitallowfullscreen mozallowfullscreen></iframe></div></div>"
      ],
      "text/plain": [
       "<folium.folium.Map at 0x254fbbe0b00>"
      ]
     },
     "execution_count": 312,
     "metadata": {},
     "output_type": "execute_result"
    }
   ],
   "source": [
    "# create map of Downtown Toronto using latitude and longitude values\n",
    "NY_map = folium.Map(location=[latitude, longitude], zoom_start=11)\n",
    "\n",
    "# add markers to map\n",
    "for lat, lng, label in zip(Downtown_data['Latitude'], Downtown_data['Longitude'], Downtown_data['Neighborhood']):\n",
    "    label = folium.Popup(label, parse_html=True)\n",
    "    folium.CircleMarker(\n",
    "        [lat, lng],\n",
    "        radius=5,\n",
    "        popup=label,\n",
    "        color='blue',\n",
    "        fill=True,\n",
    "        fill_color='#3186cc',\n",
    "        fill_opacity=0.7,\n",
    "        parse_html=False).add_to(NY_map)  \n",
    "for lat, lng, label in zip([43.74121507,43.76023978], [-79.48819163,-79.37048502],['center0','center1']):\n",
    "    label = folium.Popup(label, parse_html=True)\n",
    "    folium.CircleMarker(\n",
    "        [lat, lng],\n",
    "        radius=5,\n",
    "        popup=label,\n",
    "        color='red',\n",
    "        fill=True,\n",
    "        fill_color='red',\n",
    "        fill_opacity=0.7,\n",
    "        parse_html=False).add_to(NY_map)  \n",
    "folium.CircleMarker(\n",
    "        [la_mean, lo_mean],\n",
    "        radius=5,\n",
    "        popup='shopping center',\n",
    "        color='red',\n",
    "        fill=True,\n",
    "        fill_color='yellow',\n",
    "        fill_opacity=0.7,\n",
    "        parse_html=False).add_to(NY_map)  \n",
    "folium.CircleMarker(\n",
    "        c1,\n",
    "        radius=5,\n",
    "        color='black',\n",
    "        popup='c1--our restaurant',\n",
    "        fill=True,\n",
    "        fill_color='black',\n",
    "        fill_opacity=0.7,\n",
    "        parse_html=False).add_to(NY_map) \n",
    "folium.CircleMarker(\n",
    "        c2,\n",
    "        radius=5,\n",
    "        color='black',\n",
    "        popup='c2-the other center',\n",
    "        fill=True,\n",
    "        fill_color='black',\n",
    "        fill_opacity=0.7,\n",
    "        parse_html=False).add_to(NY_map)  \n",
    "    \n",
    "NY_map"
   ]
  },
  {
   "cell_type": "code",
   "execution_count": 309,
   "metadata": {},
   "outputs": [
    {
     "data": {
      "text/plain": [
       "array([ 43.73575162, -79.4973781 ])"
      ]
     },
     "execution_count": 309,
     "metadata": {},
     "output_type": "execute_result"
    }
   ],
   "source": [
    "c1"
   ]
  }
 ],
 "metadata": {
  "kernelspec": {
   "display_name": "Python 3",
   "language": "python",
   "name": "python3"
  },
  "language_info": {
   "codemirror_mode": {
    "name": "ipython",
    "version": 3
   },
   "file_extension": ".py",
   "mimetype": "text/x-python",
   "name": "python",
   "nbconvert_exporter": "python",
   "pygments_lexer": "ipython3",
   "version": "3.6.6"
  }
 },
 "nbformat": 4,
 "nbformat_minor": 2
}
